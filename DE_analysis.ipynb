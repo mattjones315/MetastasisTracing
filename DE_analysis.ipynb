{
 "cells": [
  {
   "cell_type": "code",
   "execution_count": 1,
   "metadata": {},
   "outputs": [
    {
     "name": "stderr",
     "output_type": "stream",
     "text": [
      "/home/eecs/mattjones/.local/lib/python3.6/site-packages/scanpy/api/__init__.py:6: FutureWarning: \n",
      "\n",
      "In a future version of Scanpy, `scanpy.api` will be removed.\n",
      "Simply use `import scanpy as sc` and `import scanpy.external as sce` instead.\n",
      "\n",
      "  FutureWarning\n"
     ]
    }
   ],
   "source": [
    "import numpy as np\n",
    "import scanpy as sc\n",
    "import pandas as pd\n",
    "import pylab\n",
    "import matplotlib.pyplot as plt\n",
    "from collections import Counter\n",
    "from scipy.cluster.hierarchy import linkage, leaves_list, dendrogram\n",
    "from scipy.spatial.distance import pdist, squareform\n",
    "import seaborn as sns\n",
    "import os\n",
    "import gseapy\n",
    "from sklearn import preprocessing\n",
    "\n",
    "\n",
    "from ete3 import Tree\n",
    "\n",
    "import pickle as pic\n",
    "\n",
    "from sklearn.linear_model import LinearRegression\n",
    "import statsmodels.api as sm\n",
    "import statsmodels.stats.multitest as multi\n",
    "\n",
    "import scipy.stats as scs\n",
    "\n",
    "from tqdm import tqdm\n",
    "\n",
    "import utilities.de_utils as de_utils\n",
    "from rpy2.robjects import pandas2ri\n",
    "import anndata2ri\n",
    "\n",
    "import rpy2\n",
    "import logging \n",
    "\n",
    "\n",
    "from scvi.models import VAE\n",
    "from scvi.inference import UnsupervisedTrainer\n",
    "from scvi.dataset import AnnDatasetFromAnnData\n",
    "\n",
    "import torch\n",
    "\n",
    "# Control UMAP numba warnings\n",
    "import warnings; warnings.simplefilter('ignore')\n",
    "\n"
   ]
  },
  {
   "cell_type": "code",
   "execution_count": 2,
   "metadata": {},
   "outputs": [
    {
     "data": {
      "text/plain": [
       "['/home/eecs/mattjones/.local/lib/python3.6/site-packages/scvi']"
      ]
     },
     "execution_count": 2,
     "metadata": {},
     "output_type": "execute_result"
    }
   ],
   "source": [
    "import scvi\n",
    "scvi.__path__"
   ]
  },
  {
   "cell_type": "markdown",
   "metadata": {},
   "source": [
    "## Read in and process data"
   ]
  },
  {
   "cell_type": "code",
   "execution_count": 3,
   "metadata": {},
   "outputs": [
    {
     "name": "stderr",
     "output_type": "stream",
     "text": [
      "Variable names are not unique. To make them unique, call `.var_names_make_unique`.\n"
     ]
    },
    {
     "data": {
      "text/plain": [
       "((43423, 33694), (43423, 10), (40969, 8))"
      ]
     },
     "execution_count": 3,
     "metadata": {},
     "output_type": "execute_result"
    }
   ],
   "source": [
    "# path = '/data/yosef2/users/mattjones/projects/metastasis/10k/RNA/hg19/'\n",
    "path = '/data/yosef2/users/mattjones/projects/metastasis/JQ19/5k/RNA/ALL_Samples/GRCh38/'\n",
    "adata = sc.read(path + \"matrix.mtx\", cache=True).T\n",
    "genes = pd.read_csv(path + \"genes.tsv\", header=None, sep='\\t')\n",
    "adata.var_names = genes[1]\n",
    "adata.var['gene_ids'] = genes[0]  # add the gene ids as annotation of the variables/genes\n",
    "adata.obs_names = pd.read_csv(path + 'barcodes.tsv', header=None)[0]\n",
    "adata.var_names_make_unique()\n",
    "\n",
    "all_genes = adata.var_names\n",
    "\n",
    "meta = pd.read_csv(\"/data/yosef2/users/mattjones/projects/metastasis/JQ19/5k/RNA/LG_meta.txt\", sep='\\t', index_col=0)\n",
    "latent = pd.read_csv(\"/data/yosef2/users/mattjones/projects/metastasis/JQ19/5k/RNA/ALL_Samples/latent.csv\", sep='\\t', index_col = 0)\n",
    "#meta = pd.read_csv(\"/data/yosef2/users/mattjones/projects/metastasis/10k/10k_meta.txt\", sep='\\t', index_col = 0)\n",
    "#latent = pd.read_csv(\"/data/yosef2/users/mattjones/projects/metastasis/10k/RNA/latent.csv\", sep='\\t', index_col = 0)\n",
    "latent.index = adata.obs_names\n",
    "\n",
    "gene_list = pd.read_csv(\"/data/yosef2/users/mattjones/projects/metastasis/JQ19/5k/RNA/ALL_Samples/filtered_genes.txt\", sep='\\t', header=None).iloc[:,0].values\n",
    "#gene_list = pd.read_csv(\"/data/yosef2/users/mattjones/projects/metastasis/10k/RNA/filtered_genes.txt\", sep='\\t', header=None).iloc[:,0].values\n",
    "adata.shape, latent.shape, meta.shape "
   ]
  },
  {
   "cell_type": "code",
   "execution_count": 4,
   "metadata": {},
   "outputs": [],
   "source": [
    "mito_genes = [name for name in adata.var_names if name.startswith('MT-')]\n",
    "adata.obs['percent_mito'] = np.sum(adata[:,mito_genes].X, axis=1).A1 / np.sum(adata.X, axis=1).A1\n",
    "adata.obs['nUMI'] = adata.X.sum(axis=1).A1\n",
    "adata.obs['n_genes'] = np.sum(adata.X > 0, axis=1).A1\n",
    "\n",
    "adata.obs['n_counts'] = adata.X.sum(1)\n",
    "adata.obs['log_counts'] = np.log(adata.obs['n_counts'])\n",
    "adata.obs['n_genes'] = (adata.X > 0).sum(1)\n",
    "\n",
    "adata.obs = adata.obs.merge(meta, left_index = True, right_index=True, how=\"left\")\n",
    "\n",
    "meta_filter = np.logical_not(adata.obs[\"DynamicMetScore\"].isna())\n",
    "adata = adata[meta_filter,:]"
   ]
  },
  {
   "cell_type": "code",
   "execution_count": 20,
   "metadata": {},
   "outputs": [],
   "source": [
    "# get highly or lowly metastati clones\n",
    "\n",
    "top_perc = np.percentile(adata.obs['DynamicMetScore'], 90)\n",
    "bot_perc = np.percentile(adata.obs['DynamicMetScore'], 10)\n",
    "\n",
    "met_filter = adata.obs.apply(lambda x: x.DynamicMetScore >= top_perc or x.DynamicMetScore <= bot_perc, axis=1)\n",
    "adata_met = adata[met_filter,:]"
   ]
  },
  {
   "cell_type": "code",
   "execution_count": 22,
   "metadata": {},
   "outputs": [],
   "source": [
    "thresh = 0.01*adata_met.shape[0]\n",
    "\n",
    "sc.pp.filter_genes(adata_met, min_cells=thresh)"
   ]
  },
  {
   "cell_type": "markdown",
   "metadata": {},
   "source": [
    "# Use scVI for Differential Expression"
   ]
  },
  {
   "cell_type": "code",
   "execution_count": 28,
   "metadata": {},
   "outputs": [],
   "source": [
    "def predict_de_genes(posterior_probas: np.ndarray, desired_fdr: float):\n",
    "    \"\"\"\n",
    "    :param posterior_probas: Shape (n_samples, n_genes)\n",
    "    :param desired_fdr:\n",
    "    :return:\n",
    "    \"\"\"\n",
    "    assert posterior_probas.ndim == 1\n",
    "    sorted_genes = np.argsort(-posterior_probas)\n",
    "    sorted_pgs = posterior_probas[sorted_genes]\n",
    "    cumulative_fdr = (1.0 - sorted_pgs).cumsum() / (1.0 + np.arange(len(sorted_pgs)))\n",
    "    d = (cumulative_fdr <= desired_fdr).sum()\n",
    "    pred_de_genes = sorted_genes[:d]\n",
    "    is_pred_de = np.zeros_like(cumulative_fdr).astype(bool)\n",
    "    is_pred_de[pred_de_genes] = True\n",
    "    return is_pred_de\n",
    "\n",
    "def compute_scvi_latent(\n",
    "    adata: sc.AnnData,\n",
    "    n_latent: int = 5,\n",
    "    n_epochs: int = 100,\n",
    "    lr: float = 1e-3,\n",
    "    use_batches: bool = False,\n",
    "    use_cuda: bool = False,\n",
    "):\n",
    "    \"\"\"Train and return a scVI model and sample a latent space\n",
    "    \n",
    "    :param adata: sc.AnnData object non-normalized\n",
    "    :param n_latent: dimension of the latent space\n",
    "    :param n_epochs: number of training epochs\n",
    "    :param lr: learning rate\n",
    "    :param use_batches\n",
    "    :param use_cuda\n",
    "    :return: (scvi.Posterior, latent_space)\n",
    "    \"\"\"\n",
    "    # Convert easily to scvi dataset\n",
    "    scviDataset = AnnDatasetFromAnnData(adata)\n",
    "\n",
    "    # Train a model\n",
    "    vae = VAE(\n",
    "        scviDataset.nb_genes,\n",
    "        n_batch=scviDataset.n_batches * use_batches,\n",
    "        n_latent=n_latent,\n",
    "    )\n",
    "    trainer = UnsupervisedTrainer(vae, scviDataset, train_size=1.0, use_cuda=use_cuda)\n",
    "    trainer.train(n_epochs=n_epochs, lr=lr)\n",
    "    ####\n",
    "\n",
    "    # Extract latent space\n",
    "    posterior = trainer.create_posterior(\n",
    "        trainer.model, scviDataset, indices=np.arange(len(scviDataset))\n",
    "    ).sequential()\n",
    "\n",
    "    latent, _, _ = posterior.get_latent()\n",
    "\n",
    "    return posterior, latent\n"
   ]
  },
  {
   "cell_type": "code",
   "execution_count": 24,
   "metadata": {},
   "outputs": [
    {
     "name": "stdout",
     "output_type": "stream",
     "text": [
      "[2020-02-18 17:07:30,652] INFO - scvi.dataset.anndataset | Dense size under 1Gb, casting to dense format (np.ndarray).\n",
      "[2020-02-18 17:07:30,937] INFO - scvi.dataset.dataset | Remapping batch_indices to [0,N]\n",
      "[2020-02-18 17:07:30,940] INFO - scvi.dataset.dataset | Remapping labels to [0,N]\n",
      "[2020-02-18 17:07:32,680] INFO - scvi.dataset.dataset | Computing the library size for the new data\n",
      "[2020-02-18 17:07:32,772] INFO - scvi.dataset.dataset | Downsampled from 7003 to 7003 cells\n",
      "[2020-02-18 17:07:33,158] INFO - scvi.inference.inference | KL warmup phase exceeds overall training phaseIf your applications rely on the posterior quality, consider training for more epochs or reducing the kl warmup.\n"
     ]
    },
    {
     "data": {
      "application/vnd.jupyter.widget-view+json": {
       "model_id": "9788b1d1184245ed974b793f9592c197",
       "version_major": 2,
       "version_minor": 0
      },
      "text/plain": [
       "HBox(children=(IntProgress(value=0, description='training', max=30, style=ProgressStyle(description_width='ini…"
      ]
     },
     "metadata": {},
     "output_type": "display_data"
    },
    {
     "name": "stdout",
     "output_type": "stream",
     "text": [
      "\n",
      "[2020-02-18 17:08:05,962] INFO - scvi.inference.inference | Training is still in warming up phase. If your applications rely on the posterior quality, consider training for more epochs or reducing the kl warmup.\n"
     ]
    }
   ],
   "source": [
    "n_epochs = 30\n",
    "lr = 1e-3\n",
    "\n",
    "# use_cuda to use GPU\n",
    "use_cuda = True\n",
    "n_latent = 10\n",
    "\n",
    "scviDataset=AnnDatasetFromAnnData(adata_met)\n",
    "vae = VAE(\n",
    "    scviDataset.nb_genes,\n",
    "    n_batch=scviDataset.n_batches * False,\n",
    "    n_latent=n_latent,\n",
    ")\n",
    "trainer = UnsupervisedTrainer(vae, scviDataset, train_size=0.9, use_cuda=use_cuda, frequency=1)\n",
    "trainer.train(n_epochs=n_epochs, lr=lr)\n",
    "\n",
    "scvi_posterior = trainer.create_posterior(trainer.model, scviDataset, indices=np.arange(len(scviDataset))).sequential()\n",
    "scvi_latent,_,_ = scvi_posterior.get_latent()\n",
    "\n",
    "adata_met.obsm[\"X_scvi\"] = scvi_latent\n"
   ]
  },
  {
   "cell_type": "code",
   "execution_count": 39,
   "metadata": {},
   "outputs": [
    {
     "data": {
      "text/plain": [
       "array([[0],\n",
       "       [0],\n",
       "       [0],\n",
       "       ...,\n",
       "       [0],\n",
       "       [0],\n",
       "       [0]], dtype=uint16)"
      ]
     },
     "execution_count": 39,
     "metadata": {},
     "output_type": "execute_result"
    }
   ],
   "source": [
    "scviDataset.labels"
   ]
  },
  {
   "cell_type": "code",
   "execution_count": 25,
   "metadata": {},
   "outputs": [
    {
     "data": {
      "text/plain": [
       "<matplotlib.legend.Legend at 0x7f1ca05bde48>"
      ]
     },
     "execution_count": 25,
     "metadata": {},
     "output_type": "execute_result"
    },
    {
     "data": {
      "image/png": "[encoded data removed]",
      "text/plain": [
       "<Figure size 432x288 with 1 Axes>"
      ]
     },
     "metadata": {
      "needs_background": "light"
     },
     "output_type": "display_data"
    }
   ],
   "source": [
    "elbo_train = trainer.history[\"elbo_train_set\"]\n",
    "elbo_test = trainer.history[\"elbo_test_set\"]\n",
    "x = np.linspace(0, 30, (len(elbo_train)))\n",
    "plt.plot(x, elbo_train, label=\"train\")\n",
    "plt.plot(x, elbo_test, label=\"test\")\n",
    "# plt.ylim(min(elbo_train)-50, 1000)\n",
    "plt.legend()"
   ]
  },
  {
   "cell_type": "code",
   "execution_count": 44,
   "metadata": {},
   "outputs": [
    {
     "name": "stdout",
     "output_type": "stream",
     "text": [
      "running de\n"
     ]
    }
   ],
   "source": [
    "# top_perc = np.percentile(adata.obs['DynamicMetScore'], 90)\n",
    "# bot_perc = np.percentile(adata.obs['DynamicMetScore'], 10)\n",
    "\n",
    "cell_idx1 = adata_met.obs.apply(lambda x: x.DynamicMetScore >= top_perc, axis=1).values\n",
    "cell_idx2 = adata_met.obs.apply(lambda x: x.DynamicMetScore <= bot_perc, axis=1).values\n",
    "\n",
    "print('running de')\n",
    "de = scvi_posterior.differential_expression_score(\n",
    "    idx1=cell_idx1,\n",
    "    idx2=cell_idx2,\n",
    "    n_samples=10000,\n",
    "    use_permutation=False,\n",
    "    #delta=1,\n",
    "    mode=\"change\",\n",
    ")"
   ]
  },
  {
   "cell_type": "code",
   "execution_count": null,
   "metadata": {},
   "outputs": [],
   "source": []
  },
  {
   "cell_type": "code",
   "execution_count": 57,
   "metadata": {},
   "outputs": [],
   "source": [
    "deii = predict_de_genes(de['proba_de'], desired_fdr = 0.1)\n",
    "np.mean(deii)\n",
    "de.loc[deii,:]\n",
    "\n",
    "de_genes = de.loc[deii,:].index\n",
    "# de.loc['IFI6']"
   ]
  },
  {
   "cell_type": "code",
   "execution_count": 58,
   "metadata": {},
   "outputs": [],
   "source": [
    "de['color'] = de.apply(lambda x: 'red' if x.name in de_genes else 'black', axis=1)\n",
    "de['log_proba_not'] = -np.log(de['proba_not_de'])"
   ]
  },
  {
   "cell_type": "code",
   "execution_count": 59,
   "metadata": {},
   "outputs": [
    {
     "data": {
      "text/plain": [
       "0.6931471805599453"
      ]
     },
     "execution_count": 59,
     "metadata": {},
     "output_type": "execute_result"
    }
   ],
   "source": [
    "-np.log(0.5)"
   ]
  },
  {
   "cell_type": "code",
   "execution_count": 60,
   "metadata": {},
   "outputs": [
    {
     "data": {
      "text/plain": [
       "<matplotlib.axes._subplots.AxesSubplot at 0x7f1dde5e2978>"
      ]
     },
     "execution_count": 60,
     "metadata": {},
     "output_type": "execute_result"
    },
    {
     "data": {
      "image/png": "[encoded data removed]",
      "text/plain": [
       "<Figure size 432x288 with 1 Axes>"
      ]
     },
     "metadata": {
      "needs_background": "light"
     },
     "output_type": "display_data"
    }
   ],
   "source": [
    "sns.regplot(data = de, x='mean', y='log_proba_not', scatter_kws={'facecolors': de['color']}, fit_reg=False)"
   ]
  },
  {
   "cell_type": "code",
   "execution_count": 58,
   "metadata": {},
   "outputs": [],
   "source": [
    "de.to_csv(\"metastasis_5k_deres.txt\", sep='\\t')"
   ]
  },
  {
   "cell_type": "code",
   "execution_count": 101,
   "metadata": {},
   "outputs": [],
   "source": [
    "# scale_factor = np.median(np.array(adata.X.sum(axis=1)))\n",
    "# sc.pp.normalize_per_cell(adata, counts_per_cell_after = scale_factor)\n",
    "\n",
    "# # sc.pp.log1p(adata)\n",
    "\n",
    "# adata.raw = adata\n",
    "\n",
    "# filter_result = list(map(lambda x: x in gene_list, adata.var_names))\n",
    "# # sc.pl.filter_genes_dispersion(filter_result)\n",
    "# adata = adata[:, filter_result]"
   ]
  },
  {
   "cell_type": "code",
   "execution_count": 7,
   "metadata": {},
   "outputs": [
    {
     "name": "stderr",
     "output_type": "stream",
     "text": [
      "/home/eecs/mattjones/.local/lib/python3.6/site-packages/scanpy/preprocessing/_simple.py:285: UserWarning: Revieved a view of an AnnData. Making a copy.\n",
      "  view_to_actual(data)\n"
     ]
    }
   ],
   "source": []
  },
  {
   "cell_type": "markdown",
   "metadata": {},
   "source": [
    "## Perform DE analyses "
   ]
  },
  {
   "cell_type": "markdown",
   "metadata": {},
   "source": [
    "### try using MAST"
   ]
  },
  {
   "cell_type": "code",
   "execution_count": 37,
   "metadata": {},
   "outputs": [],
   "source": [
    "adata_test = adata.copy()\n",
    "adata_test.X = adata.raw.X\n",
    "adata_test.obs['n_genes'] = (adata_test.X > 0).sum(1)"
   ]
  },
  {
   "cell_type": "markdown",
   "metadata": {},
   "source": [
    "## Divide cells based on metastatic ability"
   ]
  },
  {
   "cell_type": "code",
   "execution_count": 91,
   "metadata": {},
   "outputs": [
    {
     "data": {
      "image/png": "[encoded data removed]",
      "text/plain": [
       "<Figure size 576x576 with 1 Axes>"
      ]
     },
     "metadata": {
      "needs_background": "light"
     },
     "output_type": "display_data"
    },
    {
     "name": "stdout",
     "output_type": "stream",
     "text": [
      "ranking genes\n"
     ]
    },
    {
     "name": "stderr",
     "output_type": "stream",
     "text": [
      "... storing 'sampleID' as categorical\n",
      "... storing 'Sample2' as categorical\n",
      "... storing 'Groupby' as categorical\n",
      "... storing 'gene_ids' as categorical\n",
      "/home/eecs/mattjones/.local/lib/python3.6/site-packages/scanpy/tools/_rank_genes_groups.py:208: RuntimeWarning: overflow encountered in expm1\n",
      "  foldchanges = (np.expm1(mean_group) + 1e-9) / (np.expm1(mean_rest) + 1e-9)  # add small value to remove 0's\n",
      "/home/eecs/mattjones/.local/lib/python3.6/site-packages/scanpy/tools/_rank_genes_groups.py:223: RuntimeWarning: divide by zero encountered in log2\n",
      "  rankings_gene_logfoldchanges.append(np.log2(foldchanges[global_indices]))\n"
     ]
    },
    {
     "name": "stdout",
     "output_type": "stream",
     "text": [
      "    finished: added to `.uns['rank_genes_groups']`\n",
      "    'names', sorted np.recarray to be indexed by group ids\n",
      "    'scores', sorted np.recarray to be indexed by group ids\n",
      "    'logfoldchanges', sorted np.recarray to be indexed by group ids\n",
      "    'pvals', sorted np.recarray to be indexed by group ids\n",
      "    'pvals_adj', sorted np.recarray to be indexed by group ids (0:00:06)\n"
     ]
    }
   ],
   "source": [
    "x = adata.obs['DynamicMetScore']\n",
    "x=(x-x.mean())/x.std()\n",
    "\n",
    "\n",
    "sns.distplot(x)\n",
    "plt.axvline(x=0.1, color='red')\n",
    "plt.show()\n",
    "\n",
    "met_threshold = 0.1\n",
    "adata_met = adata.copy()\n",
    "adata_met.obs['Groupby'] = adata_met.obs.apply(lambda x: 'High' if x.DynamicMetScore > met_threshold else 'BG', axis=1)\n",
    "sc.tl.rank_genes_groups(adata_met, 'Groupby', groups=['High'], reference='BG', n_genes = 300, only_positive=False)"
   ]
  },
  {
   "cell_type": "code",
   "execution_count": 86,
   "metadata": {},
   "outputs": [
    {
     "name": "stdout",
     "output_type": "stream",
     "text": [
      "(35006, 33694) 35006 [False  True  True False False  True  True  True  True False]\n"
     ]
    }
   ],
   "source": [
    "result = adata_met.uns[\"rank_genes_groups\"]\n",
    "groups = result['names'].dtype.names\n",
    "\n",
    "met_de = de_utils.create_DE_df(adata_met, \"Groupby\", \"High\", \"BG\", result)\n",
    "# met_de.to_csv(\"data/10k/high_met_de.txt\", sep='\\t')\n",
    "# met_de = met_de[met_de['qval'] < 0.05]\n",
    "\n",
    "# unique_genes = de_utils.consolidate_genes([met_de], lgfc_thresh=0.7)\n",
    "\n",
    "# met_de_bulk = de_utils.bulk_by_group(adata_met.obs['Groupby'], adata_met, unique_genes)\n",
    "\n"
   ]
  },
  {
   "cell_type": "code",
   "execution_count": 87,
   "metadata": {},
   "outputs": [
    {
     "data": {
      "text/plain": [
       "(300, 3)"
      ]
     },
     "execution_count": 87,
     "metadata": {},
     "output_type": "execute_result"
    }
   ],
   "source": [
    "met_de.shape"
   ]
  },
  {
   "cell_type": "code",
   "execution_count": 88,
   "metadata": {},
   "outputs": [
    {
     "name": "stderr",
     "output_type": "stream",
     "text": [
      "/home/eecs/mattjones/.local/lib/python3.6/site-packages/ipykernel_launcher.py:1: RuntimeWarning: divide by zero encountered in log10\n",
      "  \"\"\"Entry point for launching an IPython kernel.\n"
     ]
    },
    {
     "data": {
      "image/png": "[encoded data removed]",
      "text/plain": [
       "<Figure size 576x576 with 1 Axes>"
      ]
     },
     "metadata": {
      "needs_background": "light"
     },
     "output_type": "display_data"
    },
    {
     "data": {
      "text/html": [
       "<div>\n",
       "<style scoped>\n",
       "    .dataframe tbody tr th:only-of-type {\n",
       "        vertical-align: middle;\n",
       "    }\n",
       "\n",
       "    .dataframe tbody tr th {\n",
       "        vertical-align: top;\n",
       "    }\n",
       "\n",
       "    .dataframe thead th {\n",
       "        text-align: right;\n",
       "    }\n",
       "</style>\n",
       "<table border=\"1\" class=\"dataframe\">\n",
       "  <thead>\n",
       "    <tr style=\"text-align: right;\">\n",
       "      <th></th>\n",
       "      <th>qval</th>\n",
       "      <th>gene</th>\n",
       "      <th>log2fc</th>\n",
       "      <th>log10qval</th>\n",
       "    </tr>\n",
       "  </thead>\n",
       "  <tbody>\n",
       "    <tr>\n",
       "      <th>5</th>\n",
       "      <td>0.000000e+00</td>\n",
       "      <td>MT-CO2</td>\n",
       "      <td>12.243514</td>\n",
       "      <td>300.000000</td>\n",
       "    </tr>\n",
       "    <tr>\n",
       "      <th>8</th>\n",
       "      <td>2.168295e-289</td>\n",
       "      <td>MT-CO1</td>\n",
       "      <td>10.698840</td>\n",
       "      <td>288.663882</td>\n",
       "    </tr>\n",
       "    <tr>\n",
       "      <th>261</th>\n",
       "      <td>7.728499e-56</td>\n",
       "      <td>MALAT1</td>\n",
       "      <td>10.132854</td>\n",
       "      <td>55.111905</td>\n",
       "    </tr>\n",
       "    <tr>\n",
       "      <th>6</th>\n",
       "      <td>0.000000e+00</td>\n",
       "      <td>S100A4</td>\n",
       "      <td>9.942320</td>\n",
       "      <td>300.000000</td>\n",
       "    </tr>\n",
       "    <tr>\n",
       "      <th>70</th>\n",
       "      <td>1.018519e-124</td>\n",
       "      <td>MUC5AC</td>\n",
       "      <td>9.684555</td>\n",
       "      <td>123.992031</td>\n",
       "    </tr>\n",
       "    <tr>\n",
       "      <th>208</th>\n",
       "      <td>3.722400e-64</td>\n",
       "      <td>TMSB4X</td>\n",
       "      <td>7.917603</td>\n",
       "      <td>63.429177</td>\n",
       "    </tr>\n",
       "    <tr>\n",
       "      <th>223</th>\n",
       "      <td>8.007345e-62</td>\n",
       "      <td>S100A6</td>\n",
       "      <td>7.726286</td>\n",
       "      <td>61.096511</td>\n",
       "    </tr>\n",
       "    <tr>\n",
       "      <th>24</th>\n",
       "      <td>3.761730e-196</td>\n",
       "      <td>TFF1</td>\n",
       "      <td>6.255220</td>\n",
       "      <td>195.424612</td>\n",
       "    </tr>\n",
       "    <tr>\n",
       "      <th>21</th>\n",
       "      <td>2.304077e-205</td>\n",
       "      <td>MT-CO3</td>\n",
       "      <td>5.366224</td>\n",
       "      <td>204.637503</td>\n",
       "    </tr>\n",
       "    <tr>\n",
       "      <th>63</th>\n",
       "      <td>7.255469e-135</td>\n",
       "      <td>AGR2</td>\n",
       "      <td>5.235497</td>\n",
       "      <td>134.139335</td>\n",
       "    </tr>\n",
       "    <tr>\n",
       "      <th>11</th>\n",
       "      <td>6.322448e-263</td>\n",
       "      <td>SERF2</td>\n",
       "      <td>4.535606</td>\n",
       "      <td>262.199115</td>\n",
       "    </tr>\n",
       "    <tr>\n",
       "      <th>26</th>\n",
       "      <td>1.198032e-195</td>\n",
       "      <td>GPX2</td>\n",
       "      <td>4.315453</td>\n",
       "      <td>194.921531</td>\n",
       "    </tr>\n",
       "    <tr>\n",
       "      <th>68</th>\n",
       "      <td>4.538335e-126</td>\n",
       "      <td>CEACAM6</td>\n",
       "      <td>3.977643</td>\n",
       "      <td>125.343103</td>\n",
       "    </tr>\n",
       "    <tr>\n",
       "      <th>54</th>\n",
       "      <td>8.033334e-143</td>\n",
       "      <td>MT-ND4</td>\n",
       "      <td>3.766377</td>\n",
       "      <td>142.095104</td>\n",
       "    </tr>\n",
       "    <tr>\n",
       "      <th>33</th>\n",
       "      <td>7.914486e-181</td>\n",
       "      <td>MT-ATP6</td>\n",
       "      <td>3.204093</td>\n",
       "      <td>180.101577</td>\n",
       "    </tr>\n",
       "    <tr>\n",
       "      <th>2</th>\n",
       "      <td>0.000000e+00</td>\n",
       "      <td>LGALS1</td>\n",
       "      <td>3.188737</td>\n",
       "      <td>300.000000</td>\n",
       "    </tr>\n",
       "    <tr>\n",
       "      <th>10</th>\n",
       "      <td>2.649823e-286</td>\n",
       "      <td>OST4</td>\n",
       "      <td>2.584012</td>\n",
       "      <td>285.576783</td>\n",
       "    </tr>\n",
       "    <tr>\n",
       "      <th>4</th>\n",
       "      <td>0.000000e+00</td>\n",
       "      <td>B2M</td>\n",
       "      <td>2.548382</td>\n",
       "      <td>300.000000</td>\n",
       "    </tr>\n",
       "    <tr>\n",
       "      <th>211</th>\n",
       "      <td>3.341636e-63</td>\n",
       "      <td>PTMA</td>\n",
       "      <td>2.412815</td>\n",
       "      <td>62.476041</td>\n",
       "    </tr>\n",
       "    <tr>\n",
       "      <th>69</th>\n",
       "      <td>5.469042e-126</td>\n",
       "      <td>PFN1</td>\n",
       "      <td>2.232374</td>\n",
       "      <td>125.262089</td>\n",
       "    </tr>\n",
       "  </tbody>\n",
       "</table>\n",
       "</div>"
      ],
      "text/plain": [
       "              qval     gene     log2fc   log10qval\n",
       "5     0.000000e+00   MT-CO2  12.243514  300.000000\n",
       "8    2.168295e-289   MT-CO1  10.698840  288.663882\n",
       "261   7.728499e-56   MALAT1  10.132854   55.111905\n",
       "6     0.000000e+00   S100A4   9.942320  300.000000\n",
       "70   1.018519e-124   MUC5AC   9.684555  123.992031\n",
       "208   3.722400e-64   TMSB4X   7.917603   63.429177\n",
       "223   8.007345e-62   S100A6   7.726286   61.096511\n",
       "24   3.761730e-196     TFF1   6.255220  195.424612\n",
       "21   2.304077e-205   MT-CO3   5.366224  204.637503\n",
       "63   7.255469e-135     AGR2   5.235497  134.139335\n",
       "11   6.322448e-263    SERF2   4.535606  262.199115\n",
       "26   1.198032e-195     GPX2   4.315453  194.921531\n",
       "68   4.538335e-126  CEACAM6   3.977643  125.343103\n",
       "54   8.033334e-143   MT-ND4   3.766377  142.095104\n",
       "33   7.914486e-181  MT-ATP6   3.204093  180.101577\n",
       "2     0.000000e+00   LGALS1   3.188737  300.000000\n",
       "10   2.649823e-286     OST4   2.584012  285.576783\n",
       "4     0.000000e+00      B2M   2.548382  300.000000\n",
       "211   3.341636e-63     PTMA   2.412815   62.476041\n",
       "69   5.469042e-126     PFN1   2.232374  125.262089"
      ]
     },
     "execution_count": 88,
     "metadata": {},
     "output_type": "execute_result"
    }
   ],
   "source": [
    "met_de['log10qval'] = -np.log10(met_de['qval'])\n",
    "met_de.loc[met_de['log10qval'] == np.inf, 'log10qval'] = 300\n",
    "\n",
    "sns.scatterplot(met_de['log2fc'], met_de['log10qval'])\n",
    "plt.show()\n",
    "\n",
    "met_de.sort_values(by='log2fc', ascending=False).head(20)"
   ]
  },
  {
   "cell_type": "markdown",
   "metadata": {},
   "source": [
    "### First compare highly metastatic clones to lowly"
   ]
  },
  {
   "cell_type": "code",
   "execution_count": 54,
   "metadata": {},
   "outputs": [
    {
     "name": "stderr",
     "output_type": "stream",
     "text": [
      "Trying to set attribute `.obs` of view, making a copy.\n",
      "... storing 'sampleID' as categorical\n",
      "... storing 'Groupby' as categorical\n",
      "... storing 'gene_ids' as categorical\n"
     ]
    }
   ],
   "source": [
    "adata_met = de_utils.filter_data_continuous(adata, 'StaticMetScore', 0.3)\n",
    "\n",
    "perc = np.percentile(adata_met.obs['DynamicMetScore'], 50)\n",
    "perc = 0.16\n",
    "adata_met.obs['Groupby'] = adata_met.obs.apply(lambda x: 'High' if x.DynamicMetScore > perc else 'BG', axis=1)\n",
    "# adata_met = de_utils.split_data_continuous(adata_met, 'DynamicMetScore', perc)\n",
    "sc.tl.rank_genes_groups(adata_met, \"Groupby\", groups=[\"High\"], reference=\"BG\", method=\"wilcoxon\", n_genes = 7000, only_positive = False)"
   ]
  },
  {
   "cell_type": "code",
   "execution_count": 57,
   "metadata": {},
   "outputs": [
    {
     "name": "stdout",
     "output_type": "stream",
     "text": [
      "(1611, 4438) 1611 [False  True False  True False False  True  True  True  True]\n"
     ]
    },
    {
     "name": "stderr",
     "output_type": "stream",
     "text": [
      "100%|██████████| 2/2 [00:00<00:00,  8.94it/s]\n"
     ]
    }
   ],
   "source": [
    "result = adata_met.uns[\"rank_genes_groups\"]\n",
    "groups = result['names'].dtype.names\n",
    "\n",
    "met_de = de_utils.create_DE_df(adata_met, \"Groupby\", \"High\", \"BG\", result)\n",
    "met_de.to_csv(\"data/10k/high_met_de.txt\", sep='\\t')\n",
    "met_de = met_de[met_de['qval'] < 0.05]\n",
    "\n",
    "unique_genes = de_utils.consolidate_genes([met_de])\n",
    "\n",
    "met_de_bulk = de_utils.bulk_by_group(adata_met.obs['Groupby'], adata_met, unique_genes)"
   ]
  },
  {
   "cell_type": "code",
   "execution_count": 56,
   "metadata": {},
   "outputs": [
    {
     "data": {
      "text/html": [
       "<div>\n",
       "<style scoped>\n",
       "    .dataframe tbody tr th:only-of-type {\n",
       "        vertical-align: middle;\n",
       "    }\n",
       "\n",
       "    .dataframe tbody tr th {\n",
       "        vertical-align: top;\n",
       "    }\n",
       "\n",
       "    .dataframe thead th {\n",
       "        text-align: right;\n",
       "    }\n",
       "</style>\n",
       "<table border=\"1\" class=\"dataframe\">\n",
       "  <thead>\n",
       "    <tr style=\"text-align: right;\">\n",
       "      <th></th>\n",
       "      <th>qval</th>\n",
       "      <th>gene</th>\n",
       "      <th>log2fc</th>\n",
       "    </tr>\n",
       "  </thead>\n",
       "  <tbody>\n",
       "    <tr>\n",
       "      <th>11</th>\n",
       "      <td>3.361340e-12</td>\n",
       "      <td>IFI6</td>\n",
       "      <td>1.145089</td>\n",
       "    </tr>\n",
       "  </tbody>\n",
       "</table>\n",
       "</div>"
      ],
      "text/plain": [
       "            qval  gene    log2fc\n",
       "11  3.361340e-12  IFI6  1.145089"
      ]
     },
     "execution_count": 56,
     "metadata": {},
     "output_type": "execute_result"
    }
   ],
   "source": [
    "met_de[met_de['gene'] == 'IFI6']"
   ]
  },
  {
   "cell_type": "markdown",
   "metadata": {},
   "source": [
    "### Compare top 10% to bottom 10%"
   ]
  },
  {
   "cell_type": "code",
   "execution_count": 157,
   "metadata": {},
   "outputs": [
    {
     "name": "stdout",
     "output_type": "stream",
     "text": [
      "0.004149377773723767 0.2106666214902197\n",
      "ranking genes\n"
     ]
    },
    {
     "name": "stderr",
     "output_type": "stream",
     "text": [
      "... storing 'sampleID' as categorical\n",
      "... storing 'Sample2' as categorical\n",
      "... storing 'Groupby' as categorical\n",
      "... storing 'gene_ids' as categorical\n",
      "/home/eecs/mattjones/.local/lib/python3.6/site-packages/scanpy/tools/_rank_genes_groups.py:325: RuntimeWarning: overflow encountered in expm1\n",
      "  foldchanges = (np.expm1(means[imask]) + 1e-9) / (np.expm1(mean_rest) + 1e-9)  # add small value to remove 0's\n",
      "/home/eecs/mattjones/.local/lib/python3.6/site-packages/scanpy/tools/_rank_genes_groups.py:332: RuntimeWarning: divide by zero encountered in log2\n",
      "  rankings_gene_logfoldchanges.append(np.log2(foldchanges[global_indices]))\n"
     ]
    },
    {
     "name": "stdout",
     "output_type": "stream",
     "text": [
      "    finished: added to `.uns['rank_genes_groups']`\n",
      "    'names', sorted np.recarray to be indexed by group ids\n",
      "    'scores', sorted np.recarray to be indexed by group ids\n",
      "    'logfoldchanges', sorted np.recarray to be indexed by group ids\n",
      "    'pvals', sorted np.recarray to be indexed by group ids\n",
      "    'pvals_adj', sorted np.recarray to be indexed by group ids (0:00:16)\n",
      "ranking genes\n",
      "    finished: added to `.uns['rank_genes_groups']`\n",
      "    'names', sorted np.recarray to be indexed by group ids\n",
      "    'scores', sorted np.recarray to be indexed by group ids\n",
      "    'logfoldchanges', sorted np.recarray to be indexed by group ids\n",
      "    'pvals', sorted np.recarray to be indexed by group ids\n",
      "    'pvals_adj', sorted np.recarray to be indexed by group ids (0:00:16)\n"
     ]
    }
   ],
   "source": [
    "top_perc = np.percentile(adata.obs['DynamicMetScore'], 90)\n",
    "bot_perc = np.percentile(adata.obs['DynamicMetScore'], 10)\n",
    "\n",
    "print(bot_perc, top_perc)\n",
    "def annotate_met_scores(x, topthresh, botthresh):\n",
    "    \n",
    "    if x >= topthresh:\n",
    "        return 'Top'\n",
    "    if x <= botthresh:\n",
    "        return 'Bot'\n",
    "    return 'BG'\n",
    "\n",
    "\n",
    "adata.obs['Groupby'] = adata.obs.apply(lambda x: annotate_met_scores(x['DynamicMetScore'], top_perc, bot_perc), axis=1)\n",
    "\n",
    "sc.tl.rank_genes_groups(adata, \"Groupby\", groups=[\"Top\"], reference=\"Bot\", method=\"wilcoxon\", only_positive = False)\n",
    "result_top = adata.uns[\"rank_genes_groups\"]\n",
    "sc.tl.rank_genes_groups(adata, \"Groupby\", groups=[\"Bot\"], reference=\"Top\", method=\"wilcoxon\", only_positive = False)\n",
    "result_bot = adata.uns[\"rank_genes_groups\"]"
   ]
  },
  {
   "cell_type": "code",
   "execution_count": 114,
   "metadata": {},
   "outputs": [
    {
     "name": "stdout",
     "output_type": "stream",
     "text": [
      "(35006, 33694) 35006 [False  True  True False False  True False False False False]\n",
      "(35006, 33694) 35006 [ True False False  True False False False False False False]\n"
     ]
    },
    {
     "name": "stderr",
     "output_type": "stream",
     "text": [
      "100%|██████████| 3/3 [00:03<00:00,  1.52s/it]\n"
     ]
    }
   ],
   "source": [
    "de_top = de_utils.create_DE_df(adata, 'Groupby', 'Top', 'Bot', result_top)\n",
    "de_bot = de_utils.create_DE_df(adata, 'Groupby', 'Bot', 'Top', result_bot)\n",
    "\n",
    "# flip de_bot to make it relative to top\n",
    "de_bot['log2fc'] = -1*de_bot['log2fc']\n",
    "\n",
    "met_de = pd.concat([de_top, de_bot])\n",
    "\n",
    "# result = adata.uns[\"rank_genes_groups\"]\n",
    "# groups = result['names'].dtype.names\n",
    "\n",
    "# met_de = de_utils.create_DE_df(adata, \"Selection\", \"Top\", \"Bot\", result)\n",
    "# # met_de.to_csv(\"data/5k/met_top_vs_bot.txt\", sep='\\t')\n",
    "met_de = met_de[met_de['qval'] < 0.05]\n",
    "\n",
    "unique_genes = de_utils.consolidate_genes([met_de])\n",
    "\n",
    "met_de_bulk = de_utils.bulk_by_group(adata.obs['Groupby'], adata, unique_genes)"
   ]
  },
  {
   "cell_type": "code",
   "execution_count": 112,
   "metadata": {},
   "outputs": [
    {
     "name": "stderr",
     "output_type": "stream",
     "text": [
      "/home/eecs/mattjones/.local/lib/python3.6/site-packages/ipykernel_launcher.py:1: RuntimeWarning: divide by zero encountered in log10\n",
      "  \"\"\"Entry point for launching an IPython kernel.\n"
     ]
    },
    {
     "data": {
      "image/png": "[encoded data removed]",
      "text/plain": [
       "<Figure size 576x576 with 1 Axes>"
      ]
     },
     "metadata": {
      "needs_background": "light"
     },
     "output_type": "display_data"
    },
    {
     "data": {
      "text/html": [
       "<div>\n",
       "<style scoped>\n",
       "    .dataframe tbody tr th:only-of-type {\n",
       "        vertical-align: middle;\n",
       "    }\n",
       "\n",
       "    .dataframe tbody tr th {\n",
       "        vertical-align: top;\n",
       "    }\n",
       "\n",
       "    .dataframe thead th {\n",
       "        text-align: right;\n",
       "    }\n",
       "</style>\n",
       "<table border=\"1\" class=\"dataframe\">\n",
       "  <thead>\n",
       "    <tr style=\"text-align: right;\">\n",
       "      <th></th>\n",
       "      <th>qval</th>\n",
       "      <th>gene</th>\n",
       "      <th>log2fc</th>\n",
       "      <th>log10qval</th>\n",
       "    </tr>\n",
       "  </thead>\n",
       "  <tbody>\n",
       "    <tr>\n",
       "      <th>27</th>\n",
       "      <td>1.467036e-136</td>\n",
       "      <td>FTL</td>\n",
       "      <td>inf</td>\n",
       "      <td>135.833559</td>\n",
       "    </tr>\n",
       "    <tr>\n",
       "      <th>35</th>\n",
       "      <td>2.634880e-122</td>\n",
       "      <td>TMSB4X</td>\n",
       "      <td>20.538889</td>\n",
       "      <td>121.579239</td>\n",
       "    </tr>\n",
       "    <tr>\n",
       "      <th>34</th>\n",
       "      <td>1.171433e-123</td>\n",
       "      <td>TMSB4X</td>\n",
       "      <td>20.538889</td>\n",
       "      <td>122.931283</td>\n",
       "    </tr>\n",
       "    <tr>\n",
       "      <th>3</th>\n",
       "      <td>1.817439e-255</td>\n",
       "      <td>MT-CO2</td>\n",
       "      <td>19.127314</td>\n",
       "      <td>254.740540</td>\n",
       "    </tr>\n",
       "    <tr>\n",
       "      <th>3</th>\n",
       "      <td>1.379650e-253</td>\n",
       "      <td>MT-CO2</td>\n",
       "      <td>19.127314</td>\n",
       "      <td>252.860231</td>\n",
       "    </tr>\n",
       "    <tr>\n",
       "      <th>4</th>\n",
       "      <td>4.626833e-253</td>\n",
       "      <td>MT-CO1</td>\n",
       "      <td>17.785406</td>\n",
       "      <td>252.334716</td>\n",
       "    </tr>\n",
       "    <tr>\n",
       "      <th>4</th>\n",
       "      <td>3.514692e-251</td>\n",
       "      <td>MT-CO1</td>\n",
       "      <td>17.785406</td>\n",
       "      <td>250.454113</td>\n",
       "    </tr>\n",
       "    <tr>\n",
       "      <th>5</th>\n",
       "      <td>1.141090e-220</td>\n",
       "      <td>S100A4</td>\n",
       "      <td>16.430943</td>\n",
       "      <td>219.942680</td>\n",
       "    </tr>\n",
       "    <tr>\n",
       "      <th>5</th>\n",
       "      <td>7.743753e-220</td>\n",
       "      <td>S100A4</td>\n",
       "      <td>16.430943</td>\n",
       "      <td>219.111048</td>\n",
       "    </tr>\n",
       "    <tr>\n",
       "      <th>50</th>\n",
       "      <td>9.866240e-95</td>\n",
       "      <td>MUC5AC</td>\n",
       "      <td>13.178590</td>\n",
       "      <td>94.005848</td>\n",
       "    </tr>\n",
       "    <tr>\n",
       "      <th>49</th>\n",
       "      <td>1.174593e-95</td>\n",
       "      <td>MUC5AC</td>\n",
       "      <td>13.178590</td>\n",
       "      <td>94.930113</td>\n",
       "    </tr>\n",
       "    <tr>\n",
       "      <th>7</th>\n",
       "      <td>1.104389e-213</td>\n",
       "      <td>MT-CO3</td>\n",
       "      <td>9.916434</td>\n",
       "      <td>212.956878</td>\n",
       "    </tr>\n",
       "    <tr>\n",
       "      <th>7</th>\n",
       "      <td>7.183341e-212</td>\n",
       "      <td>MT-CO3</td>\n",
       "      <td>9.916434</td>\n",
       "      <td>211.143674</td>\n",
       "    </tr>\n",
       "    <tr>\n",
       "      <th>8</th>\n",
       "      <td>1.933618e-207</td>\n",
       "      <td>AGR2</td>\n",
       "      <td>9.687696</td>\n",
       "      <td>206.713629</td>\n",
       "    </tr>\n",
       "    <tr>\n",
       "      <th>8</th>\n",
       "      <td>2.818643e-206</td>\n",
       "      <td>AGR2</td>\n",
       "      <td>9.687696</td>\n",
       "      <td>205.549960</td>\n",
       "    </tr>\n",
       "    <tr>\n",
       "      <th>26</th>\n",
       "      <td>4.355205e-137</td>\n",
       "      <td>TFF1</td>\n",
       "      <td>8.721597</td>\n",
       "      <td>136.360991</td>\n",
       "    </tr>\n",
       "    <tr>\n",
       "      <th>26</th>\n",
       "      <td>8.574094e-138</td>\n",
       "      <td>TFF1</td>\n",
       "      <td>8.721597</td>\n",
       "      <td>137.066812</td>\n",
       "    </tr>\n",
       "    <tr>\n",
       "      <th>12</th>\n",
       "      <td>6.478599e-175</td>\n",
       "      <td>SERF2</td>\n",
       "      <td>7.679037</td>\n",
       "      <td>174.188519</td>\n",
       "    </tr>\n",
       "    <tr>\n",
       "      <th>12</th>\n",
       "      <td>7.413369e-176</td>\n",
       "      <td>SERF2</td>\n",
       "      <td>7.679037</td>\n",
       "      <td>175.129984</td>\n",
       "    </tr>\n",
       "    <tr>\n",
       "      <th>25</th>\n",
       "      <td>2.290543e-140</td>\n",
       "      <td>MT-ND4</td>\n",
       "      <td>6.540382</td>\n",
       "      <td>139.640062</td>\n",
       "    </tr>\n",
       "  </tbody>\n",
       "</table>\n",
       "</div>"
      ],
      "text/plain": [
       "             qval    gene     log2fc   log10qval\n",
       "27  1.467036e-136     FTL        inf  135.833559\n",
       "35  2.634880e-122  TMSB4X  20.538889  121.579239\n",
       "34  1.171433e-123  TMSB4X  20.538889  122.931283\n",
       "3   1.817439e-255  MT-CO2  19.127314  254.740540\n",
       "3   1.379650e-253  MT-CO2  19.127314  252.860231\n",
       "4   4.626833e-253  MT-CO1  17.785406  252.334716\n",
       "4   3.514692e-251  MT-CO1  17.785406  250.454113\n",
       "5   1.141090e-220  S100A4  16.430943  219.942680\n",
       "5   7.743753e-220  S100A4  16.430943  219.111048\n",
       "50   9.866240e-95  MUC5AC  13.178590   94.005848\n",
       "49   1.174593e-95  MUC5AC  13.178590   94.930113\n",
       "7   1.104389e-213  MT-CO3   9.916434  212.956878\n",
       "7   7.183341e-212  MT-CO3   9.916434  211.143674\n",
       "8   1.933618e-207    AGR2   9.687696  206.713629\n",
       "8   2.818643e-206    AGR2   9.687696  205.549960\n",
       "26  4.355205e-137    TFF1   8.721597  136.360991\n",
       "26  8.574094e-138    TFF1   8.721597  137.066812\n",
       "12  6.478599e-175   SERF2   7.679037  174.188519\n",
       "12  7.413369e-176   SERF2   7.679037  175.129984\n",
       "25  2.290543e-140  MT-ND4   6.540382  139.640062"
      ]
     },
     "execution_count": 112,
     "metadata": {},
     "output_type": "execute_result"
    }
   ],
   "source": [
    "met_de['log10qval'] = -np.log10(met_de['qval'])\n",
    "met_de.loc[met_de['log10qval'] == np.inf, 'log10qval'] = 300\n",
    "\n",
    "sns.scatterplot(met_de['log2fc'], met_de['log10qval'])\n",
    "plt.show()\n",
    "\n",
    "met_de.sort_values(by='log2fc', ascending=False).head(20)"
   ]
  },
  {
   "cell_type": "markdown",
   "metadata": {},
   "source": [
    "### LL only samples"
   ]
  },
  {
   "cell_type": "code",
   "execution_count": 142,
   "metadata": {},
   "outputs": [
    {
     "name": "stderr",
     "output_type": "stream",
     "text": [
      "Trying to set attribute `.obs` of view, making a copy.\n"
     ]
    },
    {
     "name": "stdout",
     "output_type": "stream",
     "text": [
      "ranking genes\n"
     ]
    },
    {
     "name": "stderr",
     "output_type": "stream",
     "text": [
      "... storing 'sampleID' as categorical\n",
      "... storing 'Sample2' as categorical\n",
      "... storing 'Groupby' as categorical\n",
      "... storing 'condition' as categorical\n",
      "... storing 'gene_ids' as categorical\n",
      "/home/eecs/mattjones/.local/lib/python3.6/site-packages/scanpy/tools/_rank_genes_groups.py:325: RuntimeWarning: overflow encountered in expm1\n",
      "  foldchanges = (np.expm1(means[imask]) + 1e-9) / (np.expm1(mean_rest) + 1e-9)  # add small value to remove 0's\n",
      "/home/eecs/mattjones/.local/lib/python3.6/site-packages/scanpy/tools/_rank_genes_groups.py:332: RuntimeWarning: divide by zero encountered in log2\n",
      "  rankings_gene_logfoldchanges.append(np.log2(foldchanges[global_indices]))\n"
     ]
    },
    {
     "name": "stdout",
     "output_type": "stream",
     "text": [
      "--> Few observations in a group for normal approximation (<=25). Lower test accuracy.\n",
      "--> Few observations in a group for normal approximation (<=25). Lower test accuracy.\n",
      "    finished: added to `.uns['rank_genes_groups']`\n",
      "    'names', sorted np.recarray to be indexed by group ids\n",
      "    'scores', sorted np.recarray to be indexed by group ids\n",
      "    'logfoldchanges', sorted np.recarray to be indexed by group ids\n",
      "    'pvals', sorted np.recarray to be indexed by group ids\n",
      "    'pvals_adj', sorted np.recarray to be indexed by group ids (0:00:13)\n"
     ]
    }
   ],
   "source": [
    "adata_ll = de_utils.filter_data_discrete(adata, 'sampleID', [\"LL\"])\n",
    "ll_groups = [29, 46, 78, 94]\n",
    "adata_ll = de_utils.split_data_discrete(adata_ll, 'LineageGroup', ll_groups)\n",
    "\n",
    "sc.tl.rank_genes_groups(adata_ll, \"Groupby\", groups=ll_groups, reference=\"BG\", method=\"wilcoxon\", n_genes = len(adata.var_names), only_positive = False)"
   ]
  },
  {
   "cell_type": "code",
   "execution_count": 155,
   "metadata": {},
   "outputs": [
    {
     "name": "stdout",
     "output_type": "stream",
     "text": [
      "(1867, 33694) 1867 [False False False  True False False False False False False]\n",
      "(1867, 33694) 1867 [ True False False False False False False False False False]\n",
      "(1867, 33694) 1867 [False False False False False False False False False False]\n",
      "(1867, 33694) 1867 [False False False False False False False False False False]\n"
     ]
    },
    {
     "name": "stderr",
     "output_type": "stream",
     "text": [
      "100%|██████████| 5/5 [00:00<00:00,  8.73it/s]\n"
     ]
    }
   ],
   "source": [
    "result = adata_ll.uns[\"rank_genes_groups\"]\n",
    "groups = result['names'].dtype.names\n",
    "\n",
    "lg29_ll = de_utils.create_DE_df(adata_ll, \"Groupby\", \"29\", \"BG\", result)\n",
    "lg36_ll = de_utils.create_DE_df(adata_ll, \"Groupby\", \"46\", \"BG\", result)\n",
    "lg78_ll = de_utils.create_DE_df(adata_ll, \"Groupby\", \"78\", \"BG\", result)\n",
    "lg94_ll = de_utils.create_DE_df(adata_ll, \"Groupby\", \"94\", \"BG\", result)\n",
    "\n",
    "# lg29_ll.to_csv(\"/home/mattjones/projects/metastasis/JQ19/5k/RNA/lg29_ll.txt\", sep='\\t')\n",
    "# lg36_ll.to_csv(\"/home/mattjones/projects/metastasis/JQ19/5k/RNA/lg36_ll.txt\", sep='\\t')\n",
    "# lg78_ll.to_csv(\"/home/mattjones/projects/metastasis/JQ19/5k/RNA/lg78_ll.txt\", sep='\\t')\n",
    "# lg94_ll.to_csv(\"/home/mattjones/projects/metastasis/JQ19/5k/RNA/lg94_ll.txt\", sep='\\t')\n",
    "\n",
    "lg29_ll = lg29_ll[(lg29_ll['qval'] < 0.05) & (np.abs(lg29_ll['log2fc']) > np.log2(2))]\n",
    "lg36_ll = lg36_ll[(lg36_ll['qval'] < 0.05) & (np.abs(lg36_ll['log2fc']) > np.log2(2))]\n",
    "lg78_ll = lg78_ll[(lg78_ll['qval'] < 0.05) & (np.abs(lg78_ll['log2fc']) > np.log2(2))]\n",
    "lg94_ll = lg94_ll[(lg94_ll['qval'] < 0.05) & (np.abs(lg94_ll['log2fc']) > np.log2(2))]\n",
    "\n",
    "\n",
    "unique_genes = de_utils.consolidate_genes([lg29_ll, lg36_ll, lg78_ll, lg94_ll])\n",
    "\n",
    "ll_de_bulk = de_utils.bulk_by_group(adata_ll.obs['Groupby'], adata_ll, unique_genes)"
   ]
  },
  {
   "cell_type": "code",
   "execution_count": 152,
   "metadata": {},
   "outputs": [
    {
     "data": {
      "text/html": [
       "<div>\n",
       "<style scoped>\n",
       "    .dataframe tbody tr th:only-of-type {\n",
       "        vertical-align: middle;\n",
       "    }\n",
       "\n",
       "    .dataframe tbody tr th {\n",
       "        vertical-align: top;\n",
       "    }\n",
       "\n",
       "    .dataframe thead th {\n",
       "        text-align: right;\n",
       "    }\n",
       "</style>\n",
       "<table border=\"1\" class=\"dataframe\">\n",
       "  <thead>\n",
       "    <tr style=\"text-align: right;\">\n",
       "      <th></th>\n",
       "      <th>qval</th>\n",
       "      <th>gene</th>\n",
       "      <th>log2fc</th>\n",
       "    </tr>\n",
       "  </thead>\n",
       "  <tbody>\n",
       "    <tr>\n",
       "      <th>0</th>\n",
       "      <td>1.086935e-47</td>\n",
       "      <td>PRKCDBP</td>\n",
       "      <td>-5.184936</td>\n",
       "    </tr>\n",
       "    <tr>\n",
       "      <th>1</th>\n",
       "      <td>3.929987e-32</td>\n",
       "      <td>RPS15A</td>\n",
       "      <td>14.167834</td>\n",
       "    </tr>\n",
       "    <tr>\n",
       "      <th>2</th>\n",
       "      <td>1.077001e-31</td>\n",
       "      <td>RPL26</td>\n",
       "      <td>19.560026</td>\n",
       "    </tr>\n",
       "    <tr>\n",
       "      <th>3</th>\n",
       "      <td>4.251783e-30</td>\n",
       "      <td>MUC5AC</td>\n",
       "      <td>-36.815678</td>\n",
       "    </tr>\n",
       "    <tr>\n",
       "      <th>4</th>\n",
       "      <td>1.034099e-29</td>\n",
       "      <td>RPS5</td>\n",
       "      <td>18.935263</td>\n",
       "    </tr>\n",
       "  </tbody>\n",
       "</table>\n",
       "</div>"
      ],
      "text/plain": [
       "           qval     gene     log2fc\n",
       "0  1.086935e-47  PRKCDBP  -5.184936\n",
       "1  3.929987e-32   RPS15A  14.167834\n",
       "2  1.077001e-31    RPL26  19.560026\n",
       "3  4.251783e-30   MUC5AC -36.815678\n",
       "4  1.034099e-29     RPS5  18.935263"
      ]
     },
     "execution_count": 152,
     "metadata": {},
     "output_type": "execute_result"
    }
   ],
   "source": [
    "lg29_ll.head(5)"
   ]
  },
  {
   "cell_type": "code",
   "execution_count": 156,
   "metadata": {},
   "outputs": [
    {
     "data": {
      "text/plain": [
       "<Figure size 1008x720 with 0 Axes>"
      ]
     },
     "metadata": {},
     "output_type": "display_data"
    },
    {
     "data": {
      "image/png": "[encoded data removed]",
      "text/plain": [
       "<Figure size 720x720 with 4 Axes>"
      ]
     },
     "metadata": {},
     "output_type": "display_data"
    }
   ],
   "source": [
    "sns.set(font_scale=0.7)\n",
    "plt.figure(figsize=(14, 10))\n",
    "hm = sns.clustermap(ll_de_bulk, cmap=\"RdBu_r\", z_score=1, fmt='d')\n",
    "plt.title(\"LG Cluster Heatmap\")\n",
    "# plt.savefig(\"figs/5k_ll_clusterheatmap.pdf\")\n",
    "plt.show()"
   ]
  },
  {
   "cell_type": "code",
   "execution_count": null,
   "metadata": {},
   "outputs": [],
   "source": []
  }
 ],
 "metadata": {
  "kernelspec": {
   "display_name": "Python 3",
   "language": "python",
   "name": "python3"
  },
  "language_info": {
   "codemirror_mode": {
    "name": "ipython",
    "version": 3
   },
   "file_extension": ".py",
   "mimetype": "text/x-python",
   "name": "python",
   "nbconvert_exporter": "python",
   "pygments_lexer": "ipython3",
   "version": "3.6.8"
  }
 },
 "nbformat": 4,
 "nbformat_minor": 4
}
