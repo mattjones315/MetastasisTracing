{
 "cells": [
  {
   "cell_type": "code",
   "execution_count": 102,
   "metadata": {},
   "outputs": [],
   "source": [
    "import numpy as np\n",
    "import scanpy as sc\n",
    "import pandas as pd\n",
    "import pylab\n",
    "import matplotlib.pyplot as plt\n",
    "from collections import Counter\n",
    "from scipy.cluster.hierarchy import linkage, leaves_list, dendrogram\n",
    "from scipy.spatial.distance import pdist, squareform\n",
    "import seaborn as sns\n",
    "import os\n",
    "import gseapy\n",
    "\n",
    "from ete3 import Tree\n",
    "\n",
    "import pickle as pic\n",
    "\n",
    "import diffxpy.api as de \n",
    "\n",
    "from sklearn.linear_model import LinearRegression\n",
    "import statsmodels.api as sm\n",
    "import statsmodels.stats.multitest as multi\n",
    "\n",
    "import scipy.stats as scs\n",
    "\n",
    "from tqdm import tqdm_notebook\n",
    "\n",
    "import utilities.de_utils as de_utils\n",
    "\n",
    "np.set_printoptions(threshold=np.nan)"
   ]
  },
  {
   "cell_type": "markdown",
   "metadata": {},
   "source": [
    "## Read in and process data"
   ]
  },
  {
   "cell_type": "code",
   "execution_count": 103,
   "metadata": {},
   "outputs": [
    {
     "name": "stderr",
     "output_type": "stream",
     "text": [
      "Variable names are not unique. To make them unique, call `.var_names_make_unique`.\n"
     ]
    },
    {
     "data": {
      "text/plain": [
       "((43423, 33694), (43423, 10), (40969, 7))"
      ]
     },
     "execution_count": 103,
     "metadata": {},
     "output_type": "execute_result"
    }
   ],
   "source": [
    "path = \"/home/mattjones/projects/metastasis/JQ19/5k/RNA/ALL_Samples/GRCh38/\"\n",
    "adata = sc.read(path + \"matrix.mtx\", cache=True).T\n",
    "genes = pd.read_csv(path + \"genes.tsv\", header=None, sep='\\t')\n",
    "adata.var_names = genes[1]\n",
    "adata.var['gene_ids'] = genes[0]  # add the gene ids as annotation of the variables/genes\n",
    "adata.obs_names = pd.read_csv(path + 'barcodes.tsv', header=None)[0]\n",
    "adata.var_names_make_unique()\n",
    "\n",
    "all_genes = adata.var_names\n",
    "\n",
    "meta = pd.read_csv(\"data/5k.LG_meta.txt\", sep='\\t', index_col=0)\n",
    "latent = pd.read_csv(\"/home/mattjones/projects/metastasis/JQ19/5k/RNA/ALL_Samples/latent.csv\", sep='\\t', index_col = 0)\n",
    "latent.index = adata.obs_names\n",
    "\n",
    "gene_list = pd.read_csv(\"/home/mattjones/projects/metastasis/JQ19/5k/RNA/ALL_Samples/filtered_genes.txt\", sep='\\t', header=None).iloc[:,0].values\n",
    "\n",
    "adata.shape, latent.shape, meta.shape "
   ]
  },
  {
   "cell_type": "code",
   "execution_count": 104,
   "metadata": {},
   "outputs": [],
   "source": [
    "mito_genes = [name for name in adata.var_names if name.startswith('MT-')]\n",
    "adata.obs['percent_mito'] = np.sum(adata[:,mito_genes].X, axis=1).A1 / np.sum(adata.X, axis=1).A1\n",
    "adata.obs['nUMI'] = adata.X.sum(axis=1).A1\n",
    "adata.obs['n_genes'] = np.sum(adata.X > 0, axis=1).A1\n",
    "\n",
    "adata.obs = adata.obs.merge(meta, left_index = True, right_index=True, how=\"left\")\n",
    "\n",
    "# meta_filter = np.logical_not(adata.obs[\"DynamicMetScore\"].isna())\n",
    "# adata = adata[meta_filter,:]"
   ]
  },
  {
   "cell_type": "code",
   "execution_count": 105,
   "metadata": {},
   "outputs": [],
   "source": [
    "adata.raw = sc.pp.log1p(adata, copy=True)"
   ]
  },
  {
   "cell_type": "code",
   "execution_count": 106,
   "metadata": {},
   "outputs": [],
   "source": [
    "scale_factor = np.median(np.array(adata.X.sum(axis=1)))\n",
    "sc.pp.normalize_per_cell(adata, counts_per_cell_after = scale_factor)"
   ]
  },
  {
   "cell_type": "code",
   "execution_count": 107,
   "metadata": {},
   "outputs": [],
   "source": [
    "filter_result = list(map(lambda x: x in gene_list, adata.var_names))\n",
    "# sc.pl.filter_genes_dispersion(filter_result)\n",
    "adata = adata[:, filter_result]"
   ]
  },
  {
   "cell_type": "code",
   "execution_count": 108,
   "metadata": {},
   "outputs": [
    {
     "name": "stderr",
     "output_type": "stream",
     "text": [
      "/home/mattjones/.local/lib/python3.6/site-packages/scanpy/preprocessing/_simple.py:285: UserWarning: Revieved a view of an AnnData. Making a copy.\n",
      "  view_to_actual(data)\n"
     ]
    }
   ],
   "source": [
    "sc.pp.log1p(adata)"
   ]
  },
  {
   "cell_type": "markdown",
   "metadata": {},
   "source": [
    "## Perform DE analyses "
   ]
  },
  {
   "cell_type": "markdown",
   "metadata": {},
   "source": [
    "### First compare highly metastatic clones to lowly"
   ]
  },
  {
   "cell_type": "code",
   "execution_count": 111,
   "metadata": {},
   "outputs": [
    {
     "name": "stderr",
     "output_type": "stream",
     "text": [
      "Trying to set attribute `.obs` of view, making a copy.\n",
      "... storing 'sampleID' as categorical\n",
      "... storing 'Sample2' as categorical\n",
      "... storing 'Groupby' as categorical\n",
      "... storing 'condition' as categorical\n",
      "... storing 'gene_ids' as categorical\n"
     ]
    }
   ],
   "source": [
    "adata_met = de_utils.filter_data_continuous(adata, 'StaticMetScore', 0.60)\n",
    "\n",
    "perc = np.percentile(adata_met.obs['DynamicMetScore'], 50)\n",
    "adata_met = de_utils.split_data_continuous(adata_met, 'DynamicMetScore', perc)\n",
    "sc.tl.rank_genes_groups(adata_met, \"Groupby\", groups=[\"High\"], reference=\"BG\", method=\"wilcoxon\", n_genes = 7000, only_positive = False)"
   ]
  },
  {
   "cell_type": "code",
   "execution_count": 112,
   "metadata": {},
   "outputs": [
    {
     "name": "stdout",
     "output_type": "stream",
     "text": [
      "(28562, 4005) 28562 [ True  True False  True False False False False False  True]\n"
     ]
    },
    {
     "name": "stderr",
     "output_type": "stream",
     "text": [
      "100%|██████████| 2/2 [00:00<00:00,  2.44it/s]\n"
     ]
    }
   ],
   "source": [
    "result = adata_met.uns[\"rank_genes_groups\"]\n",
    "groups = result['names'].dtype.names\n",
    "\n",
    "met_de = de_utils.create_DE_df(adata_met, \"Groupby\", \"High\", \"BG\", result)\n",
    "met_de.to_csv(\"/home/mattjones/projects/metastasis/JQ19/5k/RNA/high_met_de.txt\", sep='\\t')\n",
    "met_de = met_de[met_de['qval'] < 0.05]\n",
    "\n",
    "unique_genes = de_utils.consolidate_genes([met_de])\n",
    "\n",
    "met_de_bulk = de_utils.bulk_by_group(adata_met.obs['Groupby'], adata_met, unique_genes)"
   ]
  },
  {
   "cell_type": "markdown",
   "metadata": {},
   "source": [
    "### LL only samples"
   ]
  },
  {
   "cell_type": "code",
   "execution_count": 70,
   "metadata": {},
   "outputs": [
    {
     "name": "stderr",
     "output_type": "stream",
     "text": [
      "Trying to set attribute `.obs` of view, making a copy.\n",
      "... storing 'sampleID' as categorical\n",
      "... storing 'Sample2' as categorical\n",
      "... storing 'Groupby' as categorical\n",
      "... storing 'condition' as categorical\n",
      "... storing 'gene_ids' as categorical\n"
     ]
    }
   ],
   "source": [
    "adata_ll = de_utils.filter_data_discrete(adata, 'sampleID', [\"LL\"])\n",
    "ll_groups = [29, 46, 78, 94]\n",
    "adata_ll = de_utils.split_data_discrete(adata_ll, 'LineageGroup', ll_groups)\n",
    "\n",
    "sc.tl.rank_genes_groups(adata_ll, \"Groupby\", groups=ll_groups, reference=\"BG\", method=\"wilcoxon\", n_genes = 7000, only_positive = False)"
   ]
  },
  {
   "cell_type": "code",
   "execution_count": 89,
   "metadata": {},
   "outputs": [
    {
     "name": "stdout",
     "output_type": "stream",
     "text": [
      "(1995, 4005) 1995 [False False False  True False False False False False False]\n",
      "(1995, 4005) 1995 [ True False False False False False False False False False]\n",
      "(1995, 4005) 1995 [False False False False False False False False False False]\n",
      "(1995, 4005) 1995 [False False False False False False False False False False]\n"
     ]
    },
    {
     "name": "stderr",
     "output_type": "stream",
     "text": [
      "100%|██████████| 5/5 [00:00<00:00, 35.66it/s]\n"
     ]
    }
   ],
   "source": [
    "result = adata_ll.uns[\"rank_genes_groups\"]\n",
    "groups = result['names'].dtype.names\n",
    "\n",
    "lg29_ll = de_utils.create_DE_df(adata_ll, \"Groupby\", \"29\", \"BG\", result)\n",
    "lg36_ll = de_utils.create_DE_df(adata_ll, \"Groupby\", \"46\", \"BG\", result)\n",
    "lg78_ll = de_utils.create_DE_df(adata_ll, \"Groupby\", \"78\", \"BG\", result)\n",
    "lg94_ll = de_utils.create_DE_df(adata_ll, \"Groupby\", \"94\", \"BG\", result)\n",
    "\n",
    "lg29_ll.to_csv(\"/home/mattjones/projects/metastasis/JQ19/5k/RNA/lg29_ll.txt\", sep='\\t')\n",
    "lg36_ll.to_csv(\"/home/mattjones/projects/metastasis/JQ19/5k/RNA/lg36_ll.txt\", sep='\\t')\n",
    "lg78_ll.to_csv(\"/home/mattjones/projects/metastasis/JQ19/5k/RNA/lg78_ll.txt\", sep='\\t')\n",
    "lg94_ll.to_csv(\"/home/mattjones/projects/metastasis/JQ19/5k/RNA/lg94_ll.txt\", sep='\\t')\n",
    "\n",
    "lg29_ll = lg29_ll[lg29_ll['qval'] < 0.05]\n",
    "lg36_ll = lg36_ll[lg36_ll['qval'] < 0.05]\n",
    "lg78_ll = lg78_ll[lg78_ll['qval'] < 0.05]\n",
    "lg94_ll = lg94_ll[lg94_ll['qval'] < 0.05]\n",
    "\n",
    "\n",
    "unique_genes = de_utils.consolidate_genes([lg29_ll, lg36_ll, lg78_ll, lg94_ll])\n",
    "\n",
    "ll_de_bulk = de_utils.bulk_by_group(adata_ll.obs['Groupby'], adata_ll, unique_genes)"
   ]
  },
  {
   "cell_type": "code",
   "execution_count": 90,
   "metadata": {},
   "outputs": [
    {
     "data": {
      "text/plain": [
       "<Figure size 1008x720 with 0 Axes>"
      ]
     },
     "metadata": {},
     "output_type": "display_data"
    },
    {
     "data": {
      "image/png": "[encoded data removed]",
      "text/plain": [
       "<Figure size 720x720 with 4 Axes>"
      ]
     },
     "metadata": {},
     "output_type": "display_data"
    }
   ],
   "source": [
    "sns.set(font_scale=0.7)\n",
    "plt.figure(figsize=(14, 10))\n",
    "hm = sns.clustermap(ll_de_bulk, cmap=\"RdBu_r\", z_score=1, fmt='d')\n",
    "plt.title(\"LG Cluster Heatmap\")\n",
    "plt.savefig(\"figs/5k_ll_clusterheatmap.pdf\")\n",
    "plt.show()"
   ]
  },
  {
   "cell_type": "code",
   "execution_count": null,
   "metadata": {},
   "outputs": [],
   "source": []
  }
 ],
 "metadata": {
  "kernelspec": {
   "display_name": "Python 3",
   "language": "python",
   "name": "python3"
  },
  "language_info": {
   "codemirror_mode": {
    "name": "ipython",
    "version": 3
   },
   "file_extension": ".py",
   "mimetype": "text/x-python",
   "name": "python",
   "nbconvert_exporter": "python",
   "pygments_lexer": "ipython3",
   "version": "3.6.9"
  }
 },
 "nbformat": 4,
 "nbformat_minor": 2
}
