{
 "cells": [
  {
   "cell_type": "code",
   "execution_count": 14,
   "metadata": {},
   "outputs": [],
   "source": [
    "from ete3 import Tree\n",
    "import networkx as nx \n",
    "import pandas as pd \n",
    "import numpy as np\n",
    "from functools import reduce\n",
    "from tqdm import tqdm_notebook\n",
    "import pickle as pic \n",
    "\n",
    "from collections import OrderedDict\n",
    "\n",
    "import scipy.stats as scs\n",
    "import cassiopeia.TreeSolver.compute_meta_purity as cmp\n",
    "import seaborn as sns; sns.set()\n",
    "\n",
    "import matplotlib.pyplot as plt\n",
    "import matplotlib.colors as colors\n",
    "\n",
    "import sys\n",
    "import os \n",
    "\n",
    "from scipy.linalg import eig \n",
    "import matplotlib\n",
    "\n",
    "import utilities.compute_transition_probs as ctp\n",
    "\n",
    "from contextlib import suppress\n"
   ]
  },
  {
   "cell_type": "markdown",
   "metadata": {},
   "source": [
    "## Read in lineage groups"
   ]
  },
  {
   "cell_type": "code",
   "execution_count": 15,
   "metadata": {},
   "outputs": [],
   "source": [
    "lg_meta = pd.read_csv(\"/home/mattjones/projects/metastasis/JQ19/5k/RNA/LG_meta.txt\", sep='\\t', index_col = 0)\n",
    "\n",
    "home_dir = '/home/mattjones/projects/metastasis/JQ19/5k/trees/'\n",
    "\n",
    "\n",
    "lg_to_tree = {}\n",
    "for tree_dir in os.listdir(home_dir):\n",
    "    tree_dir = home_dir + tree_dir + \"/\"\n",
    "\n",
    "    if not os.path.isdir(tree_dir):\n",
    "        continue\n",
    "    \n",
    "    lg = tree_dir.split(\"/\")[-2][2:]\n",
    "    fps = [fp for fp in os.listdir(tree_dir) if \".processed.pkl\" in fp and 'nj' not in fp]\n",
    "    if len(fps) > 0:\n",
    "        try:\n",
    "            tree = nx.read_gpickle(tree_dir + fps[0])\n",
    "            lg_to_tree[int(lg)] = tree\n",
    "        except:\n",
    "            print(lg)\n",
    "            continue"
   ]
  },
  {
   "cell_type": "markdown",
   "metadata": {},
   "source": [
    "## Form transition matrices"
   ]
  },
  {
   "cell_type": "code",
   "execution_count": 16,
   "metadata": {},
   "outputs": [
    {
     "name": "stderr",
     "output_type": "stream",
     "text": [
      "100%|██████████| 99/99 [1:20:07<00:00, 48.56s/it]\n"
     ]
    }
   ],
   "source": [
    "consensus_mat = ctp.build_consensus_transition_mat([tree.get_network() for tree in lg_to_tree.values()], lg_meta, 'sampleID', iterations=200)"
   ]
  },
  {
   "cell_type": "code",
   "execution_count": 17,
   "metadata": {},
   "outputs": [],
   "source": [
    "consensus_mat.to_csv(\"consensus_transition_matrix.UNNORMALIZED.txt\", sep='\\t')\n",
    "# consensus_mat = pd.read_csv(\"consensus_transition_matrix.UNNORMALIZED.txt\", sep='\\t', index_col = 0)"
   ]
  },
  {
   "cell_type": "code",
   "execution_count": 18,
   "metadata": {},
   "outputs": [],
   "source": [
    "bg_dir = '/home/mattjones/projects/metastasis/JQ19/5k/transition_backgrounds/'\n",
    "weights = {}\n",
    "\n",
    "lgs = lg_to_tree.values()\n",
    "total_size = np.sum([len(lg.network.nodes()) for lg in lgs])\n",
    "num_lgs = len(lgs)\n",
    "num_meta = len(lg_meta['sampleID'].unique())\n",
    "\n",
    "for n in lg_to_tree.keys():\n",
    "    weights[n] = len(lg_to_tree[n].network.nodes()) / total_size\n",
    "    \n",
    "bg_consensus = np.zeros((num_meta, num_meta))\n",
    "\n",
    "for bgfp in os.listdir(bg_dir):\n",
    "    \n",
    "    bg = pd.read_csv(bg_dir + bgfp, sep='\\t', index_col = 0)\n",
    "    lg = bgfp.split(\"_\")[0][2:]\n",
    "    \n",
    "    bg_consensus += bg * (weights[int(lg)] / num_lgs)\n",
    "\n",
    "    labels = bg_consensus.columns\n",
    "    bg_consensus = bg_consensus.values\n",
    "    np.fill_diagonal(bg_consensus, np.nan)\n",
    "\n",
    "    bg_consensus = pd.DataFrame(bg_consensus, index=labels, columns=labels)\n"
   ]
  },
  {
   "cell_type": "code",
   "execution_count": 21,
   "metadata": {},
   "outputs": [
    {
     "data": {
      "image/png": "[encoded data removed]",
      "text/plain": [
       "<Figure size 720x720 with 2 Axes>"
      ]
     },
     "metadata": {},
     "output_type": "display_data"
    }
   ],
   "source": [
    "res = consensus_mat.loc[['LL', \"M1\", \"M2\", \"RE\", 'RW', \"Liv\"], ['LL', \"M1\", \"M2\", \"RE\", 'RW', \"Liv\"]] - bg_consensus.loc[['LL', \"M1\", \"M2\", \"RE\", 'RW', \"Liv\"], ['LL', \"M1\", \"M2\", \"RE\", 'RW', \"Liv\"]]\n",
    "\n",
    "cmap = matplotlib.cm.RdBu\n",
    "cmap.set_bad(\"white\", 1.)\n",
    "h = plt.figure(figsize=(10, 10))\n",
    "sns.heatmap(res, mask = np.fill_diagonal(np.zeros(res.shape), 1), cmap=\"RdBu_r\")\n",
    "plt.ylabel(\"sampleID\")\n",
    "plt.xlabel(\"sampleID\")\n",
    "plt.title(\"Consensus Estimated Transition Probabilities\")\n",
    "\n",
    "plt.savefig('consensus_transition_matrix.NORMALIZED.pdf')"
   ]
  },
  {
   "cell_type": "code",
   "execution_count": null,
   "metadata": {},
   "outputs": [],
   "source": []
  }
 ],
 "metadata": {
  "kernelspec": {
   "display_name": "Python 3",
   "language": "python",
   "name": "python3"
  },
  "language_info": {
   "codemirror_mode": {
    "name": "ipython",
    "version": 3
   },
   "file_extension": ".py",
   "mimetype": "text/x-python",
   "name": "python",
   "nbconvert_exporter": "python",
   "pygments_lexer": "ipython3",
   "version": "3.6.9"
  }
 },
 "nbformat": 4,
 "nbformat_minor": 2
}
