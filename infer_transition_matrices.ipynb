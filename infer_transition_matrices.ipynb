{
 "cells": [
  {
   "cell_type": "code",
   "execution_count": 1,
   "metadata": {},
   "outputs": [],
   "source": [
    "from ete3 import Tree\n",
    "import networkx as nx \n",
    "import pandas as pd \n",
    "import numpy as np\n",
    "from functools import reduce\n",
    "from tqdm import tqdm_notebook\n",
    "import pickle as pic \n",
    "\n",
    "from collections import OrderedDict, defaultdict\n",
    "\n",
    "import scipy.stats as scs\n",
    "import cassiopeia.TreeSolver.compute_meta_purity as cmp\n",
    "import seaborn as sns; sns.set()\n",
    "\n",
    "import matplotlib.pyplot as plt\n",
    "import matplotlib.colors as colors\n",
    "\n",
    "import sys\n",
    "import os \n",
    "\n",
    "from scipy.linalg import eig \n",
    "import matplotlib\n",
    "\n",
    "import utilities.compute_transition_probs as ctp\n",
    "import utilities.fitch_parsimony as fp\n",
    "import utilities.sankoff_parsimony as sankoff_parsimony\n",
    "\n",
    "from contextlib import suppress\n",
    "\n",
    "from cassiopeia.TreeSolver.Node import Node\n",
    "import itertools\n"
   ]
  },
  {
   "cell_type": "code",
   "execution_count": 24,
   "metadata": {},
   "outputs": [],
   "source": [
    "def reconcile_fitch(T):\n",
    "    \n",
    "    source = [n for n in T if T.in_degree(n) == 0][0]\n",
    "    for e in nx.dfs_edges(T):\n",
    "        \n",
    "        p, c = e[0], e[1]\n",
    "        ns = np.intersect1d(T.nodes[p]['label'], T.nodes[c]['label']).tolist()\n",
    "        \n",
    "        if len(ns) > 0 and len(ns) == len(T.nodes[p]['label']):\n",
    "            T.nodes[c]['label'] = ns \n",
    "        else:\n",
    "            T.nodes[c]['label'] = list(T.nodes[c]['label'])\n",
    "    return T\n",
    "\n",
    "def count_opt_solutions(T, possible_assignments, node_to_i, label_to_j):\n",
    "    \n",
    "    def fill_DP(v, s):\n",
    "\n",
    "        if t.out_degree(v) == 0:\n",
    "            return 1\n",
    "        \n",
    "        children = list(T.successors(v))\n",
    "        A = np.zeros((len(children)))\n",
    "        \n",
    "        for i, u in zip(range(len(children)), children):\n",
    "            if s not in T.nodes[u]['label']:\n",
    "                A[i] = 0\n",
    "                for sp in T.nodes[u]['label']:\n",
    "                    if L[node_to_i[u], label_to_j[sp]] == 0:\n",
    "                        L[node_to_i[u], label_to_j[sp]] = fill_DP(u, sp)\n",
    "                    A[i] += L[node_to_i[u], label_to_j[sp]]\n",
    "            else:\n",
    "                if L[node_to_i[u], label_to_j[s]] == 0:\n",
    "                    L[node_to_i[u], label_to_j[s]] = fill_DP(u, s)\n",
    "                A[i] = L[node_to_i[u], label_to_j[s]]\n",
    "                \n",
    "        return np.prod([A[u] for u in range(len(A))])\n",
    "    \n",
    "    L = np.full((len(T.nodes), len(possible_assignments)), 0)\n",
    "    \n",
    "    root = [n for n in T if T.in_degree(n) == 0][0]\n",
    "    \n",
    "    for s in T.nodes[root]['label']:\n",
    "        L[node_to_i[root], label_to_j[s]] = fill_DP(root, s)\n",
    "        \n",
    "    return L\n",
    "\n",
    "def count_num_transitions(T, L, possible_labels, node_to_i, label_to_j):\n",
    "    \n",
    "    def fill_transition_DP(v, s, s1, s2):\n",
    "        \n",
    "        if t.out_degree(v) == 0:\n",
    "            return 0\n",
    "        \n",
    "        children = list(T.successors(v))\n",
    "        A = np.zeros((len(children)))\n",
    "        LS = [[]] * len(children)\n",
    "        \n",
    "        for i, u in zip(range(len(children)), children):\n",
    "            LS_u = None\n",
    "            if s in T.nodes[u]['label']:\n",
    "                LS[i] = [s]\n",
    "            else:\n",
    "                LS[i] = T.nodes[u]['label']\n",
    "            \n",
    "            A[i] = 0\n",
    "            for sp in LS[i]:\n",
    "                #if C[node_to_i[u], label_to_j[sp], label_to_j[s1], label_to_j[s2]] == 0:\n",
    "                    # C[node_to_i[u], label_to_j[sp], label_to_j[s1], label_to_j[s2]] = fill_transition_DP(u, sp, s1, s2)\n",
    "                A[i] += C[node_to_i[u], label_to_j[sp], label_to_j[s1], label_to_j[s2]]\n",
    "            \n",
    "            if (s1 == s and s2 in LS[i]):\n",
    "                A[i] += L[node_to_i[u], label_to_j[s2]]\n",
    "            \n",
    "            #if s1 == 'H' and s2 == 'G':\n",
    "            #    print(A[i], u.name, s1, s2)\n",
    "\n",
    "        parts = []\n",
    "        for i, u in zip(range(len(children)), children):\n",
    "            prod = 1\n",
    "            \n",
    "            for k, up in zip(range(len(children)), children):\n",
    "                fact = 0\n",
    "                if up == u:\n",
    "                    continue\n",
    "                for sp in LS[k]:\n",
    "                    fact += L[node_to_i[up], label_to_j[sp]]\n",
    "                \n",
    "                prod *= fact \n",
    "                \n",
    "            part = A[i] * prod\n",
    "            parts.append(part)\n",
    "\n",
    "        return np.sum(parts)\n",
    "    \n",
    "    C = np.zeros((len(T.nodes), L.shape[1], L.shape[1], L.shape[1]))\n",
    "    root = [n for n in T if T.in_degree(n) == 0][0]\n",
    "\n",
    "    for n in nx.dfs_postorder_nodes(T, source=root):\n",
    "        for s in T.nodes[n]['label']:\n",
    "            for s_pair in itertools.product(possible_labels, repeat=2):\n",
    "                s1, s2 = s_pair[0], s_pair[1]\n",
    "                C[node_to_i[n], label_to_j[s], label_to_j[s1], label_to_j[s2]] = fill_transition_DP(n, s, s1, s2)\n",
    "                \n",
    "    return C\n",
    "\n",
    "def compute_transitions(t, meta):\n",
    "\n",
    "    root = [n for n in t if t.in_degree(n) == 0][0]\n",
    "    t = ctp.assign_labels(t, meta)\n",
    "    possible_labels = meta.unique()\n",
    "\n",
    "    t = cmp.set_depth(t, root)\n",
    "    t = fp.fitch_bottom_up(t, root)\n",
    "\n",
    "    bfs_postorder = [root]\n",
    "    for e0, e1 in nx.bfs_edges(t, root):\n",
    "        bfs_postorder.append(e1)\n",
    "\n",
    "    node_to_i = dict(zip(bfs_postorder, range(len(t.nodes))))\n",
    "    label_to_j = dict(zip(possible_labels, range(len(possible_labels))))\n",
    "\n",
    "    t = reconcile_fitch(t)\n",
    "\n",
    "    L = count_opt_solutions(t, possible_labels, node_to_i, label_to_j)\n",
    "\n",
    "    C = count_num_transitions(t, L, possible_labels, node_to_i, label_to_j)\n",
    "\n",
    "    count_mat = pd.DataFrame(np.zeros((L.shape[1], L.shape[1])))\n",
    "    count_mat.columns = possible_labels\n",
    "    count_mat.index = possible_labels \n",
    "\n",
    "    # count_mat: transitions are rows -> columns\n",
    "    for s1 in possible_labels:\n",
    "        for s2 in possible_labels:\n",
    "            if s1 != s2:\n",
    "                count_mat.loc[s1, s2] = np.sum(C[node_to_i[root], :, label_to_j[s1], label_to_j[s2]])\n",
    "\n",
    "    return count_mat\n"
   ]
  },
  {
   "cell_type": "code",
   "execution_count": 61,
   "metadata": {},
   "outputs": [],
   "source": [
    "def test1():\n",
    "    \n",
    "    t = nx.DiGraph()\n",
    "\n",
    "    t.add_nodes_from([0, 1, 2,3 ,4 , 5, 6, 7, 8,9, 10, 11, 12])\n",
    "    t.add_edges_from([(0, 1),(0,2), (1,3), (1,4), (2,5), (2,6), (3,7), (3,8), (5,9), (5,10), (6,11), (6,12)])\n",
    "    rndict = {}\n",
    "    for n in t.node:\n",
    "        nn = Node(n, [])\n",
    "        rndict[n] = nn\n",
    "    t = nx.relabel_nodes(t, rndict)\n",
    "\n",
    "    label_dict = {4: 'C', 7: 'A', 8: 'T', 9: 'A', 10: 'G', 11: 'T', 12: 'C'}\n",
    "\n",
    "    meta = pd.DataFrame.from_dict(label_dict, orient='index')\n",
    "    \n",
    "    root = [n for n in t if t.in_degree(n) == 0][0]\n",
    "    t = ctp.assign_labels(t, meta.iloc[:,0])\n",
    "    possible_labels = meta.iloc[:,0].unique()\n",
    "\n",
    "    t = cmp.set_depth(t, root)\n",
    "    t = fp.fitch_bottom_up(t, root)\n",
    "\n",
    "    bfs_postorder = [root]\n",
    "    for e0, e1 in nx.bfs_edges(t, root):\n",
    "        bfs_postorder.append(e1)\n",
    "\n",
    "    node_to_i = dict(zip(bfs_postorder, range(len(t.nodes))))\n",
    "    label_to_j = dict(zip(possible_labels, range(len(possible_labels))))\n",
    "\n",
    "    t = reconcile_fitch(t)\n",
    "    \n",
    "    L = count_opt_solutions(t, possible_labels, node_to_i, label_to_j)\n",
    "    \n",
    "    mat = compute_transitions(t, meta.iloc[:,0])\n",
    "    \n",
    "    print(mat)\n",
    "    \n",
    "def test2():\n",
    "    \n",
    "    t = nx.balanced_tree(2,3, create_using=nx.DiGraph())\n",
    "    \n",
    "    rndict={}\n",
    "    for n in t.node:\n",
    "        nn = Node(n, [])\n",
    "        rndict[n] = nn  \n",
    "\n",
    "    t = nx.relabel_nodes(t, rndict)\n",
    "\n",
    "    label_dict = {7: 'H', 8: 'G', 9: 'G', 10: 'M', 11: 'L', 12: 'M', 13: 'L', 14: 'M'}\n",
    "\n",
    "    meta = pd.DataFrame.from_dict(label_dict, orient='index')\n",
    "\n",
    "    root = [n for n in t if t.in_degree(n) == 0][0]\n",
    "    t = ctp.assign_labels(t, meta.iloc[:,0])\n",
    "    possible_labels = meta.iloc[:,0].unique()\n",
    "\n",
    "    t = cmp.set_depth(t, root)\n",
    "    t = fp.fitch_bottom_up(t, root)\n",
    "\n",
    "    bfs_postorder = [root]\n",
    "    for e0, e1 in nx.bfs_edges(t, root):\n",
    "        bfs_postorder.append(e1)\n",
    "\n",
    "    node_to_i = dict(zip(bfs_postorder, range(len(t.nodes))))\n",
    "    label_to_j = dict(zip(possible_labels, range(len(possible_labels))))\n",
    "\n",
    "    t = reconcile_fitch(t)\n",
    "\n",
    "    L = count_opt_solutions(t, possible_labels, node_to_i, label_to_j)\n",
    "    \n",
    "    mat = compute_transitions(t, meta.iloc[:,0])\n",
    "        \n",
    "    print(mat)"
   ]
  },
  {
   "cell_type": "code",
   "execution_count": 62,
   "metadata": {},
   "outputs": [
    {
     "ename": "NetworkXError",
     "evalue": "nbunch is not a node or a sequence of nodes.",
     "output_type": "error",
     "traceback": [
      "\u001b[0;31m---------------------------------------------------------------------------\u001b[0m",
      "\u001b[0;31mTypeError\u001b[0m                                 Traceback (most recent call last)",
      "\u001b[0;32m~/.local/lib/python3.6/site-packages/networkx/classes/graph.py\u001b[0m in \u001b[0;36mbunch_iter\u001b[0;34m(nlist, adj)\u001b[0m\n\u001b[1;32m   1907\u001b[0m                 \u001b[0;32mtry\u001b[0m\u001b[0;34m:\u001b[0m\u001b[0;34m\u001b[0m\u001b[0;34m\u001b[0m\u001b[0m\n\u001b[0;32m-> 1908\u001b[0;31m                     \u001b[0;32mfor\u001b[0m \u001b[0mn\u001b[0m \u001b[0;32min\u001b[0m \u001b[0mnlist\u001b[0m\u001b[0;34m:\u001b[0m\u001b[0;34m\u001b[0m\u001b[0;34m\u001b[0m\u001b[0m\n\u001b[0m\u001b[1;32m   1909\u001b[0m                         \u001b[0;32mif\u001b[0m \u001b[0mn\u001b[0m \u001b[0;32min\u001b[0m \u001b[0madj\u001b[0m\u001b[0;34m:\u001b[0m\u001b[0;34m\u001b[0m\u001b[0;34m\u001b[0m\u001b[0m\n",
      "\u001b[0;31mTypeError\u001b[0m: 'Node' object is not iterable",
      "\nDuring handling of the above exception, another exception occurred:\n",
      "\u001b[0;31mNetworkXError\u001b[0m                             Traceback (most recent call last)",
      "\u001b[0;32m<ipython-input-62-7b315abe3193>\u001b[0m in \u001b[0;36m<module>\u001b[0;34m\u001b[0m\n\u001b[0;32m----> 1\u001b[0;31m \u001b[0mtest2\u001b[0m\u001b[0;34m(\u001b[0m\u001b[0;34m)\u001b[0m\u001b[0;34m\u001b[0m\u001b[0;34m\u001b[0m\u001b[0m\n\u001b[0m",
      "\u001b[0;32m<ipython-input-61-6075862a2c2e>\u001b[0m in \u001b[0;36mtest2\u001b[0;34m()\u001b[0m\n\u001b[1;32m     68\u001b[0m     \u001b[0mt\u001b[0m \u001b[0;34m=\u001b[0m \u001b[0mreconcile_fitch\u001b[0m\u001b[0;34m(\u001b[0m\u001b[0mt\u001b[0m\u001b[0;34m)\u001b[0m\u001b[0;34m\u001b[0m\u001b[0;34m\u001b[0m\u001b[0m\n\u001b[1;32m     69\u001b[0m \u001b[0;34m\u001b[0m\u001b[0m\n\u001b[0;32m---> 70\u001b[0;31m     \u001b[0mL\u001b[0m \u001b[0;34m=\u001b[0m \u001b[0mcount_opt_solutions\u001b[0m\u001b[0;34m(\u001b[0m\u001b[0mt\u001b[0m\u001b[0;34m,\u001b[0m \u001b[0mpossible_labels\u001b[0m\u001b[0;34m,\u001b[0m \u001b[0mnode_to_i\u001b[0m\u001b[0;34m,\u001b[0m \u001b[0mlabel_to_j\u001b[0m\u001b[0;34m)\u001b[0m\u001b[0;34m\u001b[0m\u001b[0;34m\u001b[0m\u001b[0m\n\u001b[0m\u001b[1;32m     71\u001b[0m \u001b[0;34m\u001b[0m\u001b[0m\n\u001b[1;32m     72\u001b[0m     \u001b[0mmat\u001b[0m \u001b[0;34m=\u001b[0m \u001b[0mcompute_transitions\u001b[0m\u001b[0;34m(\u001b[0m\u001b[0mt\u001b[0m\u001b[0;34m,\u001b[0m \u001b[0mmeta\u001b[0m\u001b[0;34m.\u001b[0m\u001b[0miloc\u001b[0m\u001b[0;34m[\u001b[0m\u001b[0;34m:\u001b[0m\u001b[0;34m,\u001b[0m\u001b[0;36m0\u001b[0m\u001b[0;34m]\u001b[0m\u001b[0;34m)\u001b[0m\u001b[0;34m\u001b[0m\u001b[0;34m\u001b[0m\u001b[0m\n",
      "\u001b[0;32m<ipython-input-36-1ff58eef0c6b>\u001b[0m in \u001b[0;36mcount_opt_solutions\u001b[0;34m(T, possible_assignments, node_to_i, label_to_j)\u001b[0m\n\u001b[1;32m     42\u001b[0m \u001b[0;34m\u001b[0m\u001b[0m\n\u001b[1;32m     43\u001b[0m     \u001b[0;32mfor\u001b[0m \u001b[0ms\u001b[0m \u001b[0;32min\u001b[0m \u001b[0mT\u001b[0m\u001b[0;34m.\u001b[0m\u001b[0mnodes\u001b[0m\u001b[0;34m[\u001b[0m\u001b[0mroot\u001b[0m\u001b[0;34m]\u001b[0m\u001b[0;34m[\u001b[0m\u001b[0;34m'label'\u001b[0m\u001b[0;34m]\u001b[0m\u001b[0;34m:\u001b[0m\u001b[0;34m\u001b[0m\u001b[0;34m\u001b[0m\u001b[0m\n\u001b[0;32m---> 44\u001b[0;31m         \u001b[0mL\u001b[0m\u001b[0;34m[\u001b[0m\u001b[0mnode_to_i\u001b[0m\u001b[0;34m[\u001b[0m\u001b[0mroot\u001b[0m\u001b[0;34m]\u001b[0m\u001b[0;34m,\u001b[0m \u001b[0mlabel_to_j\u001b[0m\u001b[0;34m[\u001b[0m\u001b[0ms\u001b[0m\u001b[0;34m]\u001b[0m\u001b[0;34m]\u001b[0m \u001b[0;34m=\u001b[0m \u001b[0mfill_DP\u001b[0m\u001b[0;34m(\u001b[0m\u001b[0mroot\u001b[0m\u001b[0;34m,\u001b[0m \u001b[0ms\u001b[0m\u001b[0;34m)\u001b[0m\u001b[0;34m\u001b[0m\u001b[0;34m\u001b[0m\u001b[0m\n\u001b[0m\u001b[1;32m     45\u001b[0m \u001b[0;34m\u001b[0m\u001b[0m\n\u001b[1;32m     46\u001b[0m     \u001b[0;32mreturn\u001b[0m \u001b[0mL\u001b[0m\u001b[0;34m\u001b[0m\u001b[0;34m\u001b[0m\u001b[0m\n",
      "\u001b[0;32m<ipython-input-36-1ff58eef0c6b>\u001b[0m in \u001b[0;36mfill_DP\u001b[0;34m(v, s)\u001b[0m\n\u001b[1;32m     17\u001b[0m     \u001b[0;32mdef\u001b[0m \u001b[0mfill_DP\u001b[0m\u001b[0;34m(\u001b[0m\u001b[0mv\u001b[0m\u001b[0;34m,\u001b[0m \u001b[0ms\u001b[0m\u001b[0;34m)\u001b[0m\u001b[0;34m:\u001b[0m\u001b[0;34m\u001b[0m\u001b[0;34m\u001b[0m\u001b[0m\n\u001b[1;32m     18\u001b[0m \u001b[0;34m\u001b[0m\u001b[0m\n\u001b[0;32m---> 19\u001b[0;31m         \u001b[0;32mif\u001b[0m \u001b[0mt\u001b[0m\u001b[0;34m.\u001b[0m\u001b[0mout_degree\u001b[0m\u001b[0;34m(\u001b[0m\u001b[0mv\u001b[0m\u001b[0;34m)\u001b[0m \u001b[0;34m==\u001b[0m \u001b[0;36m0\u001b[0m\u001b[0;34m:\u001b[0m\u001b[0;34m\u001b[0m\u001b[0;34m\u001b[0m\u001b[0m\n\u001b[0m\u001b[1;32m     20\u001b[0m             \u001b[0;32mreturn\u001b[0m \u001b[0;36m1\u001b[0m\u001b[0;34m\u001b[0m\u001b[0;34m\u001b[0m\u001b[0m\n\u001b[1;32m     21\u001b[0m \u001b[0;34m\u001b[0m\u001b[0m\n",
      "\u001b[0;32m~/.local/lib/python3.6/site-packages/networkx/classes/reportviews.py\u001b[0m in \u001b[0;36m__call__\u001b[0;34m(self, nbunch, weight)\u001b[0m\n\u001b[1;32m    352\u001b[0m         \u001b[0;32mexcept\u001b[0m \u001b[0mTypeError\u001b[0m\u001b[0;34m:\u001b[0m\u001b[0;34m\u001b[0m\u001b[0;34m\u001b[0m\u001b[0m\n\u001b[1;32m    353\u001b[0m             \u001b[0;32mpass\u001b[0m\u001b[0;34m\u001b[0m\u001b[0;34m\u001b[0m\u001b[0m\n\u001b[0;32m--> 354\u001b[0;31m         \u001b[0;32mreturn\u001b[0m \u001b[0mself\u001b[0m\u001b[0;34m.\u001b[0m\u001b[0m__class__\u001b[0m\u001b[0;34m(\u001b[0m\u001b[0mself\u001b[0m\u001b[0;34m.\u001b[0m\u001b[0m_graph\u001b[0m\u001b[0;34m,\u001b[0m \u001b[0mnbunch\u001b[0m\u001b[0;34m,\u001b[0m \u001b[0mweight\u001b[0m\u001b[0;34m)\u001b[0m\u001b[0;34m\u001b[0m\u001b[0;34m\u001b[0m\u001b[0m\n\u001b[0m\u001b[1;32m    355\u001b[0m \u001b[0;34m\u001b[0m\u001b[0m\n\u001b[1;32m    356\u001b[0m     \u001b[0;32mdef\u001b[0m \u001b[0m__getitem__\u001b[0m\u001b[0;34m(\u001b[0m\u001b[0mself\u001b[0m\u001b[0;34m,\u001b[0m \u001b[0mn\u001b[0m\u001b[0;34m)\u001b[0m\u001b[0;34m:\u001b[0m\u001b[0;34m\u001b[0m\u001b[0;34m\u001b[0m\u001b[0m\n",
      "\u001b[0;32m~/.local/lib/python3.6/site-packages/networkx/classes/reportviews.py\u001b[0m in \u001b[0;36m__init__\u001b[0;34m(self, G, nbunch, weight)\u001b[0m\n\u001b[1;32m    337\u001b[0m         \u001b[0mself\u001b[0m\u001b[0;34m.\u001b[0m\u001b[0m_pred\u001b[0m \u001b[0;34m=\u001b[0m \u001b[0mG\u001b[0m\u001b[0;34m.\u001b[0m\u001b[0m_pred\u001b[0m \u001b[0;32mif\u001b[0m \u001b[0mhasattr\u001b[0m\u001b[0;34m(\u001b[0m\u001b[0mG\u001b[0m\u001b[0;34m,\u001b[0m \u001b[0;34m\"_pred\"\u001b[0m\u001b[0;34m)\u001b[0m \u001b[0;32melse\u001b[0m \u001b[0mG\u001b[0m\u001b[0;34m.\u001b[0m\u001b[0m_adj\u001b[0m\u001b[0;34m\u001b[0m\u001b[0;34m\u001b[0m\u001b[0m\n\u001b[1;32m    338\u001b[0m         \u001b[0mself\u001b[0m\u001b[0;34m.\u001b[0m\u001b[0m_nodes\u001b[0m \u001b[0;34m=\u001b[0m \u001b[0mself\u001b[0m\u001b[0;34m.\u001b[0m\u001b[0m_succ\u001b[0m \u001b[0;32mif\u001b[0m \u001b[0mnbunch\u001b[0m \u001b[0;32mis\u001b[0m \u001b[0;32mNone\u001b[0m\u001b[0;31m \u001b[0m\u001b[0;31m\\\u001b[0m\u001b[0;34m\u001b[0m\u001b[0;34m\u001b[0m\u001b[0m\n\u001b[0;32m--> 339\u001b[0;31m             \u001b[0;32melse\u001b[0m \u001b[0mlist\u001b[0m\u001b[0;34m(\u001b[0m\u001b[0mG\u001b[0m\u001b[0;34m.\u001b[0m\u001b[0mnbunch_iter\u001b[0m\u001b[0;34m(\u001b[0m\u001b[0mnbunch\u001b[0m\u001b[0;34m)\u001b[0m\u001b[0;34m)\u001b[0m\u001b[0;34m\u001b[0m\u001b[0;34m\u001b[0m\u001b[0m\n\u001b[0m\u001b[1;32m    340\u001b[0m         \u001b[0mself\u001b[0m\u001b[0;34m.\u001b[0m\u001b[0m_weight\u001b[0m \u001b[0;34m=\u001b[0m \u001b[0mweight\u001b[0m\u001b[0;34m\u001b[0m\u001b[0;34m\u001b[0m\u001b[0m\n\u001b[1;32m    341\u001b[0m \u001b[0;34m\u001b[0m\u001b[0m\n",
      "\u001b[0;32m~/.local/lib/python3.6/site-packages/networkx/classes/graph.py\u001b[0m in \u001b[0;36mbunch_iter\u001b[0;34m(nlist, adj)\u001b[0m\n\u001b[1;32m   1914\u001b[0m                     \u001b[0;32mif\u001b[0m \u001b[0;34m'iter'\u001b[0m \u001b[0;32min\u001b[0m \u001b[0mmessage\u001b[0m\u001b[0;34m:\u001b[0m\u001b[0;34m\u001b[0m\u001b[0;34m\u001b[0m\u001b[0m\n\u001b[1;32m   1915\u001b[0m                         \u001b[0mmsg\u001b[0m \u001b[0;34m=\u001b[0m \u001b[0;34m\"nbunch is not a node or a sequence of nodes.\"\u001b[0m\u001b[0;34m\u001b[0m\u001b[0;34m\u001b[0m\u001b[0m\n\u001b[0;32m-> 1916\u001b[0;31m                         \u001b[0;32mraise\u001b[0m \u001b[0mNetworkXError\u001b[0m\u001b[0;34m(\u001b[0m\u001b[0mmsg\u001b[0m\u001b[0;34m)\u001b[0m\u001b[0;34m\u001b[0m\u001b[0;34m\u001b[0m\u001b[0m\n\u001b[0m\u001b[1;32m   1917\u001b[0m                     \u001b[0;31m# capture error for unhashable node.\u001b[0m\u001b[0;34m\u001b[0m\u001b[0;34m\u001b[0m\u001b[0;34m\u001b[0m\u001b[0m\n\u001b[1;32m   1918\u001b[0m                     \u001b[0;32melif\u001b[0m \u001b[0;34m'hashable'\u001b[0m \u001b[0;32min\u001b[0m \u001b[0mmessage\u001b[0m\u001b[0;34m:\u001b[0m\u001b[0;34m\u001b[0m\u001b[0;34m\u001b[0m\u001b[0m\n",
      "\u001b[0;31mNetworkXError\u001b[0m: nbunch is not a node or a sequence of nodes."
     ]
    }
   ],
   "source": [
    "test2()"
   ]
  },
  {
   "cell_type": "code",
   "execution_count": 56,
   "metadata": {},
   "outputs": [],
   "source": [
    "\n"
   ]
  },
  {
   "cell_type": "code",
   "execution_count": 65,
   "metadata": {},
   "outputs": [
    {
     "data": {
      "text/html": [
       "<div>\n",
       "<style scoped>\n",
       "    .dataframe tbody tr th:only-of-type {\n",
       "        vertical-align: middle;\n",
       "    }\n",
       "\n",
       "    .dataframe tbody tr th {\n",
       "        vertical-align: top;\n",
       "    }\n",
       "\n",
       "    .dataframe thead th {\n",
       "        text-align: right;\n",
       "    }\n",
       "</style>\n",
       "<table border=\"1\" class=\"dataframe\">\n",
       "  <thead>\n",
       "    <tr style=\"text-align: right;\">\n",
       "      <th></th>\n",
       "      <th>H</th>\n",
       "      <th>G</th>\n",
       "      <th>M</th>\n",
       "      <th>L</th>\n",
       "    </tr>\n",
       "  </thead>\n",
       "  <tbody>\n",
       "    <tr>\n",
       "      <th>H</th>\n",
       "      <td>0.0</td>\n",
       "      <td>0.0</td>\n",
       "      <td>0.0</td>\n",
       "      <td>0.0</td>\n",
       "    </tr>\n",
       "    <tr>\n",
       "      <th>G</th>\n",
       "      <td>4.0</td>\n",
       "      <td>0.0</td>\n",
       "      <td>5.0</td>\n",
       "      <td>1.0</td>\n",
       "    </tr>\n",
       "    <tr>\n",
       "      <th>M</th>\n",
       "      <td>0.0</td>\n",
       "      <td>1.0</td>\n",
       "      <td>0.0</td>\n",
       "      <td>4.0</td>\n",
       "    </tr>\n",
       "    <tr>\n",
       "      <th>L</th>\n",
       "      <td>0.0</td>\n",
       "      <td>1.0</td>\n",
       "      <td>4.0</td>\n",
       "      <td>0.0</td>\n",
       "    </tr>\n",
       "  </tbody>\n",
       "</table>\n",
       "</div>"
      ],
      "text/plain": [
       "     H    G    M    L\n",
       "H  0.0  0.0  0.0  0.0\n",
       "G  4.0  0.0  5.0  1.0\n",
       "M  0.0  1.0  0.0  4.0\n",
       "L  0.0  1.0  4.0  0.0"
      ]
     },
     "execution_count": 65,
     "metadata": {},
     "output_type": "execute_result"
    }
   ],
   "source": [
    "t = nx.balanced_tree(2,3, create_using=nx.DiGraph())\n",
    "    \n",
    "rndict={}\n",
    "for n in t.node:\n",
    "    nn = Node(n, [])\n",
    "    rndict[n] = nn  \n",
    "\n",
    "t = nx.relabel_nodes(t, rndict)\n",
    "\n",
    "label_dict = {7: 'H', 8: 'G', 9: 'G', 10: 'M', 11: 'L', 12: 'M', 13: 'L', 14: 'M'}\n",
    "\n",
    "meta = pd.DataFrame.from_dict(label_dict, orient='index')\n",
    "\n",
    "root = [n for n in t if t.in_degree(n) == 0][0]\n",
    "t = ctp.assign_labels(t, meta.iloc[:,0])\n",
    "possible_labels = meta.iloc[:,0].unique()\n",
    "\n",
    "t = cmp.set_depth(t, root)\n",
    "t = fp.fitch_bottom_up(t, root)\n",
    "\n",
    "bfs_postorder = [root]\n",
    "for e0, e1 in nx.bfs_edges(t, root):\n",
    "    bfs_postorder.append(e1)\n",
    "    \n",
    "node_to_i = dict(zip(bfs_postorder, range(len(t.nodes))))\n",
    "label_to_j = dict(zip(possible_labels, range(len(possible_labels))))\n",
    "\n",
    "t = reconcile_fitch(t)\n",
    "\n",
    "    \n",
    "L = count_opt_solutions(t, possible_labels, node_to_i, label_to_j)\n",
    "\n",
    "compute_transitions(t, meta.iloc[:,0])"
   ]
  },
  {
   "cell_type": "code",
   "execution_count": 9,
   "metadata": {},
   "outputs": [
    {
     "ename": "TypeError",
     "evalue": "unhashable type: 'list'",
     "output_type": "error",
     "traceback": [
      "\u001b[0;31m---------------------------------------------------------------------------\u001b[0m",
      "\u001b[0;31mTypeError\u001b[0m                                 Traceback (most recent call last)",
      "\u001b[0;32m<ipython-input-9-7fcb4f2bfe42>\u001b[0m in \u001b[0;36m<module>\u001b[0;34m\u001b[0m\n\u001b[1;32m      2\u001b[0m \u001b[0mpossible_labels\u001b[0m \u001b[0;34m=\u001b[0m \u001b[0mmeta\u001b[0m\u001b[0;34m.\u001b[0m\u001b[0miloc\u001b[0m\u001b[0;34m[\u001b[0m\u001b[0;34m:\u001b[0m\u001b[0;34m,\u001b[0m\u001b[0;36m0\u001b[0m\u001b[0;34m]\u001b[0m\u001b[0;34m.\u001b[0m\u001b[0munique\u001b[0m\u001b[0;34m(\u001b[0m\u001b[0;34m)\u001b[0m\u001b[0;34m\u001b[0m\u001b[0;34m\u001b[0m\u001b[0m\n\u001b[1;32m      3\u001b[0m \u001b[0;34m\u001b[0m\u001b[0m\n\u001b[0;32m----> 4\u001b[0;31m \u001b[0mC\u001b[0m \u001b[0;34m=\u001b[0m \u001b[0msankoff_parsimony\u001b[0m\u001b[0;34m.\u001b[0m\u001b[0msankoff\u001b[0m\u001b[0;34m(\u001b[0m\u001b[0mt\u001b[0m\u001b[0;34m,\u001b[0m \u001b[0mpossible_labels\u001b[0m\u001b[0;34m=\u001b[0m\u001b[0mpossible_labels\u001b[0m\u001b[0;34m)\u001b[0m\u001b[0;34m\u001b[0m\u001b[0;34m\u001b[0m\u001b[0m\n\u001b[0m\u001b[1;32m      5\u001b[0m \u001b[0mpars\u001b[0m \u001b[0;34m=\u001b[0m \u001b[0mnp\u001b[0m\u001b[0;34m.\u001b[0m\u001b[0mamin\u001b[0m\u001b[0;34m(\u001b[0m\u001b[0mC\u001b[0m\u001b[0;34m[\u001b[0m\u001b[0;36m0\u001b[0m\u001b[0;34m,\u001b[0m\u001b[0;34m:\u001b[0m\u001b[0;34m]\u001b[0m\u001b[0;34m)\u001b[0m\u001b[0;34m\u001b[0m\u001b[0;34m\u001b[0m\u001b[0m\n\u001b[1;32m      6\u001b[0m \u001b[0;34m\u001b[0m\u001b[0m\n",
      "\u001b[0;32m/data/yosef2/users/mattjones/projects/metastasis/MetastasisTracing/utilities/sankoff_parsimony.py\u001b[0m in \u001b[0;36msankoff\u001b[0;34m(tree, possible_labels)\u001b[0m\n\u001b[1;32m     63\u001b[0m         \u001b[0mlabel\u001b[0m \u001b[0;34m=\u001b[0m \u001b[0mtree\u001b[0m\u001b[0;34m.\u001b[0m\u001b[0mnodes\u001b[0m\u001b[0;34m[\u001b[0m\u001b[0ml\u001b[0m\u001b[0;34m]\u001b[0m\u001b[0;34m[\u001b[0m\u001b[0;34m\"label\"\u001b[0m\u001b[0;34m]\u001b[0m\u001b[0;34m\u001b[0m\u001b[0;34m\u001b[0m\u001b[0m\n\u001b[1;32m     64\u001b[0m \u001b[0;34m\u001b[0m\u001b[0m\n\u001b[0;32m---> 65\u001b[0;31m         \u001b[0mi\u001b[0m\u001b[0;34m,\u001b[0m \u001b[0mj\u001b[0m \u001b[0;34m=\u001b[0m \u001b[0mnode_to_i\u001b[0m\u001b[0;34m[\u001b[0m\u001b[0ml\u001b[0m\u001b[0;34m]\u001b[0m\u001b[0;34m,\u001b[0m \u001b[0mlabel_to_j\u001b[0m\u001b[0;34m[\u001b[0m\u001b[0mlabel\u001b[0m\u001b[0;34m]\u001b[0m\u001b[0;34m\u001b[0m\u001b[0;34m\u001b[0m\u001b[0m\n\u001b[0m\u001b[1;32m     66\u001b[0m         \u001b[0mC\u001b[0m\u001b[0;34m[\u001b[0m\u001b[0mi\u001b[0m\u001b[0;34m,\u001b[0m \u001b[0mj\u001b[0m\u001b[0;34m]\u001b[0m \u001b[0;34m=\u001b[0m \u001b[0;36m0\u001b[0m\u001b[0;34m\u001b[0m\u001b[0;34m\u001b[0m\u001b[0m\n\u001b[1;32m     67\u001b[0m \u001b[0;34m\u001b[0m\u001b[0m\n",
      "\u001b[0;31mTypeError\u001b[0m: unhashable type: 'list'"
     ]
    }
   ],
   "source": [
    "t = ctp.assign_labels(t, meta.iloc[:,0])\n",
    "possible_labels = meta.iloc[:,0].unique()\n",
    "\n",
    "C = sankoff_parsimony.sankoff(t, possible_labels=possible_labels)\n",
    "pars = np.amin(C[0,:])\n",
    "\n",
    "root = [n for n in t if t.in_degree(n) == 0][0]\n",
    "    \n",
    "bfs_postorder = [root]\n",
    "for e0, e1 in nx.bfs_edges(t, root):\n",
    "    bfs_postorder.append(e1)\n",
    "\n",
    "node_to_i = dict(zip(bfs_postorder, range(len(t.nodes))))\n",
    "label_to_j = dict(zip(possible_labels, range(len(possible_labels))))\n",
    "\n",
    "opt_solutions_root = np.where(C[node_to_i[root], :] == pars)[0] \n",
    "\n",
    "tmat = np.zeros((C.shape[1], C.shape[1]))\n",
    "for o in opt_solutions_root:\n",
    "    sol, tm = count_opt_solutions_DP(t, C, root, o, node_to_i)\n",
    "    tmat += tm \n",
    "\n",
    "tmat\n"
   ]
  },
  {
   "cell_type": "code",
   "execution_count": 5,
   "metadata": {},
   "outputs": [
    {
     "name": "stdout",
     "output_type": "stream",
     "text": [
      "       H       L     M\n",
      "H    NaN  0.1675  0.29\n",
      "L  0.315     NaN  0.21\n",
      "M  0.000  0.0175   NaN\n"
     ]
    }
   ],
   "source": [
    "tmat, semat = ctp.compute_transition_matrix(t, meta.iloc[:,0], iterations = 100, plot=False)\n",
    "print(tmat)"
   ]
  },
  {
   "cell_type": "code",
   "execution_count": 472,
   "metadata": {},
   "outputs": [
    {
     "data": {
      "text/plain": [
       "(5, array([[ 0.,  7., 10.],\n",
       "        [ 1.,  0.,  1.],\n",
       "        [ 0.,  0.,  0.]]))"
      ]
     },
     "execution_count": 472,
     "metadata": {},
     "output_type": "execute_result"
    }
   ],
   "source": [
    "t = ctp.assign_labels(t, meta.iloc[:,0])\n",
    "possible_labels = meta.iloc[:,0].unique()\n",
    "\n",
    "C = sankoff_parsimony.sankoff(t, possible_labels=possible_labels)\n",
    "# print(C)\n",
    "pars = np.amin(C[0,:])\n",
    "\n",
    "root = [n for n in t if t.in_degree(n) == 0][0]\n",
    "    \n",
    "bfs_postorder = [root]\n",
    "for e0, e1 in nx.bfs_edges(t, root):\n",
    "    bfs_postorder.append(e1)\n",
    "\n",
    "node_to_i = dict(zip(bfs_postorder, range(len(t.nodes))))\n",
    "label_to_j = dict(zip(possible_labels, range(len(possible_labels))))\n",
    "\n",
    "num_sol, t_mat = count_opt_solutions(t, C, root, node_to_i, t_mat = np.zeros((C.shape[1], C.shape[1])))\n",
    "num_sol, t_mat\n",
    "# print(num_sol)\n",
    "# print(t_mat)\n",
    "# print(t_mat / (pars * num_sol))"
   ]
  },
  {
   "cell_type": "markdown",
   "metadata": {},
   "source": [
    "## Read in lineage groups"
   ]
  },
  {
   "cell_type": "code",
   "execution_count": 2,
   "metadata": {},
   "outputs": [],
   "source": [
    "lg_meta = pd.read_csv(\"/data/yosef2/users/mattjones/projects/metastasis/JQ19/5k/RNA/LG_meta.txt\", sep='\\t', index_col = 0)\n",
    "\n",
    "home_dir = '/data/yosef2/users/mattjones/projects/metastasis/JQ19/5k/trees/'\n",
    "\n",
    "\n",
    "lg_to_tree = {}\n",
    "for tree_dir in os.listdir(home_dir):\n",
    "    tree_dir = home_dir + tree_dir + \"/\"\n",
    "\n",
    "    if not os.path.isdir(tree_dir):\n",
    "        continue\n",
    "    \n",
    "    lg = tree_dir.split(\"/\")[-2][2:]\n",
    "    fps = [fp for fp in os.listdir(tree_dir) if \".processed.pkl\" in fp and 'nj' not in fp]\n",
    "    if len(fps) > 0:\n",
    "        try:\n",
    "            tree = nx.read_gpickle(tree_dir + fps[0])\n",
    "            lg_to_tree[int(lg)] = tree\n",
    "        except:\n",
    "            # print(lg)\n",
    "            continue"
   ]
  },
  {
   "cell_type": "code",
   "execution_count": 8,
   "metadata": {},
   "outputs": [
    {
     "data": {
      "text/plain": [
       "Text(0.5, 1.0, 'Consensus Estimated Transition Probabilities')"
      ]
     },
     "execution_count": 8,
     "metadata": {},
     "output_type": "execute_result"
    },
    {
     "data": {
      "image/png": "[encoded data removed]",
      "text/plain": [
       "<Figure size 720x720 with 2 Axes>"
      ]
     },
     "metadata": {
      "needs_background": "light"
     },
     "output_type": "display_data"
    }
   ],
   "source": [
    "lg1 = lg_to_tree[19].get_network()\n",
    "count_arr = ctp.compute_transitions(lg1, lg_meta['sampleID'])\n",
    "\n",
    "# row_sums = count_arr.sum(axis=1)\n",
    "# count_arr /= row_sums[:, np.newaxis]\n",
    "count_arr /= np.sum(count_arr.values)\n",
    "np.fill_diagonal(count_arr.values, np.nan)\n",
    "cmap = matplotlib.cm.RdBu\n",
    "cmap.set_bad(\"white\", 1.)\n",
    "h = plt.figure(figsize=(10, 10))\n",
    "sns.heatmap(count_arr.loc[['LL', \"M1\", \"M2\", \"RE\", 'RW', \"Liv\"], ['LL', \"M1\", \"M2\", \"RE\", 'RW', \"Liv\"]], mask = np.fill_diagonal(np.zeros(count_arr.shape), 1), cmap=\"Reds\")\n",
    "plt.ylabel(\"sampleID\")\n",
    "plt.xlabel(\"sampleID\")\n",
    "plt.title(\"Consensus Estimated Transition Probabilities\")\n",
    "\n",
    "# lg1 = ctp.assign_labels(lg1,lg_meta['sampleID'])\n",
    "# possible_labels = lg_meta['sampleID'].unique()\n",
    "\n",
    "# C = sankoff_parsimony.sankoff(lg1, possible_labels=possible_labels)\n",
    "# # print(C)\n",
    "# pars = np.amin(C[0,:])\n",
    "# print(pars)\n",
    "\n",
    "# root = [n for n in lg1 if lg1.in_degree(n) == 0][0]\n",
    "    \n",
    "# bfs_postorder = [root]\n",
    "# for e0, e1 in nx.bfs_edges(lg1, root):\n",
    "#     bfs_postorder.append(e1)\n",
    "\n",
    "# node_to_i = dict(zip(bfs_postorder, range(len(lg1.nodes))))\n",
    "# label_to_j = dict(zip(possible_labels, range(len(possible_labels))))\n",
    "\n",
    "# num_sol, t_mat = count_opt_solutions(lg1, C, root, node_to_i, label_to_j, t_mat = np.zeros((C.shape[1], C.shape[1])))\n",
    "# print(t_mat / (pars * num_sol))"
   ]
  },
  {
   "cell_type": "code",
   "execution_count": 11,
   "metadata": {},
   "outputs": [
    {
     "name": "stdout",
     "output_type": "stream",
     "text": [
      "           RW        RE        M2        M1       Liv        LL\n",
      "RW        NaN  0.027272  0.041294  0.028543  0.004665  0.004469\n",
      "RE   0.023105       NaN  0.061922  0.067168  0.018175  0.011922\n",
      "M2   0.058221  0.065040       NaN  0.138697  0.023540  0.012656\n",
      "M1   0.045858  0.047643  0.110262       NaN  0.025651  0.021585\n",
      "Liv  0.008444  0.002984  0.012340  0.006606       NaN  0.003163\n",
      "LL   0.019742  0.023241  0.039966  0.041023  0.004804       NaN\n"
     ]
    },
    {
     "data": {
      "text/plain": [
       "Text(0.5, 1.0, 'Random Background')"
      ]
     },
     "execution_count": 11,
     "metadata": {},
     "output_type": "execute_result"
    },
    {
     "data": {
      "image/png": "[encoded data removed]",
      "text/plain": [
       "<Figure size 720x720 with 2 Axes>"
      ]
     },
     "metadata": {
      "needs_background": "light"
     },
     "output_type": "display_data"
    }
   ],
   "source": [
    "bg = pd.read_csv(\"/data/yosef2/users/mattjones/projects/metastasis/JQ19/5k/transition_backgrounds/lg19_background_mat.txt\", sep='\\t', index_col = 0)\n",
    "labels = bg.columns\n",
    "np.fill_diagonal(bg.values, 0)\n",
    "bg /= np.sum(bg.values)\n",
    "np.fill_diagonal(bg.values, np.nan)\n",
    "bg = pd.DataFrame(bg, index=labels, columns=labels)\n",
    "print(bg)\n",
    "cmap.set_bad(\"white\", 1.)\n",
    "h = plt.figure(figsize=(10, 10))\n",
    "sns.heatmap(bg.loc[['LL', \"M1\", \"M2\", \"RE\", 'RW', \"Liv\"], ['LLdanie', \"M1\", \"M2\", \"RE\", 'RW', \"Liv\"]], mask = np.fill_diagonal(np.zeros(bg.shape), 1), cmap=\"Reds\")\n",
    "plt.ylabel(\"sampleID\")\n",
    "plt.xlabel(\"sampleID\")\n",
    "plt.title(\"Random Background\")"
   ]
  },
  {
   "cell_type": "code",
   "execution_count": 12,
   "metadata": {},
   "outputs": [
    {
     "data": {
      "text/plain": [
       "Text(0.5, 1.0, 'Consensus Estimated Transition Probabilities')"
      ]
     },
     "execution_count": 12,
     "metadata": {},
     "output_type": "execute_result"
    },
    {
     "data": {
      "image/png": "[encoded data removed]",
      "text/plain": [
       "<Figure size 720x720 with 2 Axes>"
      ]
     },
     "metadata": {
      "needs_background": "light"
     },
     "output_type": "display_data"
    }
   ],
   "source": [
    "res = count_arr.loc[['LL', \"M1\", \"M2\", \"RE\", 'RW', \"Liv\"], ['LL', \"M1\", \"M2\", \"RE\", 'RW', \"Liv\"]] - bg.loc[['LL', \"M1\", \"M2\", \"RE\", 'RW', \"Liv\"], ['LL', \"M1\", \"M2\", \"RE\", 'RW', \"Liv\"]]\n",
    "\n",
    "cmap = matplotlib.cm.RdBu\n",
    "cmap.set_bad(\"white\", 1.)\n",
    "h = plt.figure(figsize=(10, 10))\n",
    "sns.heatmap(res, mask = np.fill_diagonal(np.zeros(res.shape), 1), cmap=\"RdBu_r\")\n",
    "plt.ylabel(\"sampleID\")\n",
    "plt.xlabel(\"sampleID\")\n",
    "plt.title(\"Consensus Estimated Transition Probabilities\")\n"
   ]
  },
  {
   "cell_type": "markdown",
   "metadata": {},
   "source": [
    "## Form transition matrices"
   ]
  },
  {
   "cell_type": "code",
   "execution_count": 16,
   "metadata": {},
   "outputs": [
    {
     "name": "stderr",
     "output_type": "stream",
     "text": [
      "100%|██████████| 99/99 [1:20:07<00:00, 48.56s/it]\n"
     ]
    }
   ],
   "source": [
    "consensus_mat = ctp.build_consensus_transition_mat([tree.get_network() for tree in lg_to_tree.values()], lg_meta, 'sampleID', iterations=200)"
   ]
  },
  {
   "cell_type": "code",
   "execution_count": 17,
   "metadata": {},
   "outputs": [],
   "source": [
    "consensus_mat.to_csv(\"consensus_transition_matrix.UNNORMALIZED.txt\", sep='\\t')\n",
    "# consensus_mat = pd.read_csv(\"consensus_transition_matrix.UNNORMALIZED.txt\", sep='\\t', index_col = 0)"
   ]
  },
  {
   "cell_type": "code",
   "execution_count": 18,
   "metadata": {},
   "outputs": [],
   "source": [
    "bg_dir = '/home/mattjones/projects/metastasis/JQ19/5k/transition_backgrounds/'\n",
    "weights = {}\n",
    "\n",
    "lgs = lg_to_tree.values()\n",
    "total_size = np.sum([len(lg.network.nodes()) for lg in lgs])\n",
    "num_lgs = len(lgs)\n",
    "num_meta = len(lg_meta['sampleID'].unique())\n",
    "\n",
    "for n in lg_to_tree.keys():\n",
    "    weights[n] = len(lg_to_tree[n].network.nodes()) / total_size\n",
    "    \n",
    "bg_consensus = np.zeros((num_meta, num_meta))\n",
    "\n",
    "for bgfp in os.listdir(bg_dir):\n",
    "    \n",
    "    bg = pd.read_csv(bg_dir + bgfp, sep='\\t', index_col = 0)\n",
    "    lg = bgfp.split(\"_\")[0][2:]\n",
    "    \n",
    "    bg_consensus += bg * (weights[int(lg)] / num_lgs)\n",
    "\n",
    "    labels = bg_consensus.columns\n",
    "    bg_consensus = bg_consensus.values\n",
    "    np.fill_diagonal(bg_consensus, np.nan)\n",
    "\n",
    "    bg_consensus = pd.DataFrame(bg_consensus, index=labels, columns=labels)\n"
   ]
  },
  {
   "cell_type": "code",
   "execution_count": 21,
   "metadata": {},
   "outputs": [
    {
     "data": {
      "image/png": "[encoded data removed]",
      "text/plain": [
       "<Figure size 720x720 with 2 Axes>"
      ]
     },
     "metadata": {},
     "output_type": "display_data"
    }
   ],
   "source": [
    "res = consensus_mat.loc[['LL', \"M1\", \"M2\", \"RE\", 'RW', \"Liv\"], ['LL', \"M1\", \"M2\", \"RE\", 'RW', \"Liv\"]] - bg_consensus.loc[['LL', \"M1\", \"M2\", \"RE\", 'RW', \"Liv\"], ['LL', \"M1\", \"M2\", \"RE\", 'RW', \"Liv\"]]\n",
    "\n",
    "cmap = matplotlib.cm.RdBu\n",
    "cmap.set_bad(\"white\", 1.)\n",
    "h = plt.figure(figsize=(10, 10))\n",
    "sns.heatmap(res, mask = np.fill_diagonal(np.zeros(res.shape), 1), cmap=\"RdBu_r\")\n",
    "plt.ylabel(\"sampleID\")\n",
    "plt.xlabel(\"sampleID\")\n",
    "plt.title(\"Consensus Estimated Transition Probabilities\")\n",
    "\n",
    "plt.savefig('consensus_transition_matrix.NORMALIZED.pdf')"
   ]
  },
  {
   "cell_type": "code",
   "execution_count": null,
   "metadata": {},
   "outputs": [],
   "source": []
  }
 ],
 "metadata": {
  "kernelspec": {
   "display_name": "Python 3",
   "language": "python",
   "name": "python3"
  },
  "language_info": {
   "codemirror_mode": {
    "name": "ipython",
    "version": 3
   },
   "file_extension": ".py",
   "mimetype": "text/x-python",
   "name": "python",
   "nbconvert_exporter": "python",
   "pygments_lexer": "ipython3",
   "version": "3.6.8"
  }
 },
 "nbformat": 4,
 "nbformat_minor": 4
}
