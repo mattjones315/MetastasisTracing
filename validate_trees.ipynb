{
 "cells": [
  {
   "cell_type": "code",
   "execution_count": 14,
   "metadata": {},
   "outputs": [],
   "source": [
    "import networkx as nx\n",
    "import numpy as np\n",
    "import pandas as pd \n",
    "\n",
    "from ete3 import Tree\n",
    "import utilities.validate_trees as tree_val\n",
    "\n",
    "import sys\n",
    "import os\n",
    "\n",
    "from tqdm import tqdm_notebook"
   ]
  },
  {
   "cell_type": "code",
   "execution_count": 15,
   "metadata": {},
   "outputs": [],
   "source": [
    "meta = pd.read_csv(\"data/5k.LG_meta.txt\", sep='\\t', index_col = 0)"
   ]
  },
  {
   "cell_type": "code",
   "execution_count": 16,
   "metadata": {},
   "outputs": [
    {
     "data": {
      "application/vnd.jupyter.widget-view+json": {
       "model_id": "5c3dc5172e184a85b20b70dfa40d15f7",
       "version_major": 2,
       "version_minor": 0
      },
      "text/plain": [
       "HBox(children=(IntProgress(value=0), HTML(value='')))"
      ]
     },
     "metadata": {},
     "output_type": "display_data"
    },
    {
     "name": "stderr",
     "output_type": "stream",
     "text": [
      "assigning edge lengths: 100%|██████████| 998/998 [00:00<00:00, 125334.31it/s]\n",
      "assigning edge lengths: 100%|██████████| 106/106 [00:00<00:00, 92585.64it/s]\n",
      "assigning edge lengths: 100%|██████████| 223/223 [00:00<00:00, 121282.39it/s]\n",
      "assigning edge lengths: 100%|██████████| 106/106 [00:00<00:00, 100428.33it/s]\n",
      "assigning edge lengths: 100%|██████████| 980/980 [00:00<00:00, 86757.95it/s]\n",
      "assigning edge lengths: 100%|██████████| 200/200 [00:00<00:00, 99710.07it/s]\n",
      "assigning edge lengths: 100%|██████████| 1888/1888 [00:00<00:00, 133701.05it/s]\n",
      "assigning edge lengths: 100%|██████████| 517/517 [00:00<00:00, 124731.39it/s]\n",
      "assigning edge lengths: 100%|██████████| 435/435 [00:00<00:00, 73510.16it/s]\n",
      "assigning edge lengths: 100%|██████████| 246/246 [00:00<00:00, 119407.34it/s]\n",
      "assigning edge lengths: 100%|██████████| 141/141 [00:00<00:00, 138047.82it/s]\n",
      "assigning edge lengths: 100%|██████████| 79/79 [00:00<00:00, 90855.50it/s]\n",
      "assigning edge lengths: 100%|██████████| 64/64 [00:00<00:00, 120699.40it/s]\n",
      "assigning edge lengths: 100%|██████████| 2478/2478 [00:00<00:00, 140183.50it/s]\n",
      "assigning edge lengths: 100%|██████████| 26548/26548 [00:00<00:00, 199835.58it/s]\n",
      "assigning edge lengths: 100%|██████████| 154/154 [00:00<00:00, 144534.08it/s]\n",
      "assigning edge lengths: 100%|██████████| 89/89 [00:00<00:00, 119148.76it/s]\n",
      "assigning edge lengths: 100%|██████████| 374/374 [00:00<00:00, 137145.45it/s]\n",
      "assigning edge lengths: 100%|██████████| 403/403 [00:00<00:00, 186382.68it/s]\n",
      "assigning edge lengths: 100%|██████████| 114/114 [00:00<00:00, 133823.30it/s]\n",
      "assigning edge lengths: 100%|██████████| 142/142 [00:00<00:00, 151165.27it/s]\n",
      "assigning edge lengths: 100%|██████████| 102/102 [00:00<00:00, 119803.70it/s]\n",
      "assigning edge lengths: 100%|██████████| 1803/1803 [00:00<00:00, 134038.71it/s]\n",
      "assigning edge lengths: 100%|██████████| 174/174 [00:00<00:00, 151948.55it/s]\n",
      "assigning edge lengths: 100%|██████████| 255/255 [00:00<00:00, 143313.35it/s]\n",
      "assigning edge lengths: 100%|██████████| 381/381 [00:00<00:00, 215513.13it/s]\n",
      "assigning edge lengths: 100%|██████████| 149/149 [00:00<00:00, 195786.75it/s]\n",
      "assigning edge lengths: 100%|██████████| 783/783 [00:00<00:00, 162075.71it/s]\n",
      "assigning edge lengths: 100%|██████████| 508/508 [00:00<00:00, 147545.63it/s]\n",
      "assigning edge lengths: 100%|██████████| 97/97 [00:00<00:00, 120333.48it/s]\n",
      "assigning edge lengths: 100%|██████████| 1167/1167 [00:00<00:00, 211866.54it/s]\n",
      "assigning edge lengths: 100%|██████████| 151/151 [00:00<00:00, 140836.09it/s]\n",
      "assigning edge lengths: 100%|██████████| 117/117 [00:00<00:00, 135039.51it/s]\n",
      "assigning edge lengths: 100%|██████████| 239/239 [00:00<00:00, 161423.29it/s]\n",
      "assigning edge lengths: 100%|██████████| 591/591 [00:00<00:00, 60212.63it/s]\n",
      "assigning edge lengths: 100%|██████████| 3117/3117 [00:00<00:00, 156092.05it/s]\n",
      "assigning edge lengths: 100%|██████████| 95/95 [00:00<00:00, 110713.78it/s]\n",
      "assigning edge lengths: 100%|██████████| 163/163 [00:00<00:00, 103336.09it/s]\n",
      "assigning edge lengths: 100%|██████████| 90/90 [00:00<00:00, 121300.57it/s]\n",
      "assigning edge lengths: 100%|██████████| 116/116 [00:00<00:00, 134180.71it/s]\n",
      "assigning edge lengths: 100%|██████████| 127/127 [00:00<00:00, 165581.79it/s]\n",
      "assigning edge lengths: 100%|██████████| 2151/2151 [00:00<00:00, 193861.96it/s]\n",
      "assigning edge lengths: 100%|██████████| 28153/28153 [00:00<00:00, 151026.19it/s]\n",
      "assigning edge lengths: 100%|██████████| 573/573 [00:00<00:00, 130311.56it/s]\n",
      "assigning edge lengths: 100%|██████████| 202/202 [00:00<00:00, 198698.27it/s]\n",
      "assigning edge lengths: 100%|██████████| 204/204 [00:00<00:00, 145988.40it/s]\n",
      "assigning edge lengths: 100%|██████████| 1213/1213 [00:00<00:00, 173298.27it/s]\n",
      "assigning edge lengths: 100%|██████████| 115/115 [00:00<00:00, 131286.05it/s]\n",
      "assigning edge lengths: 100%|██████████| 364/364 [00:00<00:00, 172765.27it/s]\n",
      "assigning edge lengths: 100%|██████████| 215/215 [00:00<00:00, 155585.81it/s]\n",
      "assigning edge lengths: 100%|██████████| 127/127 [00:00<00:00, 116968.95it/s]\n",
      "assigning edge lengths: 100%|██████████| 193/193 [00:00<00:00, 144579.51it/s]\n",
      "assigning edge lengths: 100%|██████████| 1782/1782 [00:00<00:00, 139073.92it/s]\n",
      "assigning edge lengths: 100%|██████████| 187/187 [00:00<00:00, 151299.16it/s]\n",
      "assigning edge lengths: 100%|██████████| 92/92 [00:00<00:00, 156669.09it/s]\n",
      "assigning edge lengths: 100%|██████████| 597/597 [00:00<00:00, 153224.79it/s]\n",
      "assigning edge lengths: 100%|██████████| 218/218 [00:00<00:00, 146133.65it/s]\n",
      "assigning edge lengths: 100%|██████████| 95/95 [00:00<00:00, 112178.74it/s]\n",
      "assigning edge lengths: 100%|██████████| 195/195 [00:00<00:00, 125597.25it/s]\n",
      "assigning edge lengths: 100%|██████████| 313/313 [00:00<00:00, 156455.39it/s]\n",
      "assigning edge lengths: 100%|██████████| 391/391 [00:00<00:00, 147003.66it/s]\n",
      "assigning edge lengths: 100%|██████████| 373/373 [00:00<00:00, 94387.66it/s]\n",
      "assigning edge lengths: 100%|██████████| 172/172 [00:00<00:00, 127798.10it/s]\n",
      "assigning edge lengths: 100%|██████████| 230/230 [00:00<00:00, 147258.42it/s]\n",
      "assigning edge lengths: 100%|██████████| 314/314 [00:00<00:00, 139248.41it/s]\n",
      "assigning edge lengths: 100%|██████████| 108/108 [00:00<00:00, 98282.67it/s]\n",
      "assigning edge lengths: 100%|██████████| 170/170 [00:00<00:00, 102520.73it/s]\n",
      "assigning edge lengths: 100%|██████████| 102/102 [00:00<00:00, 110833.94it/s]\n",
      "assigning edge lengths: 100%|██████████| 2399/2399 [00:00<00:00, 88425.68it/s]\n",
      "assigning edge lengths: 100%|██████████| 190/190 [00:00<00:00, 132930.40it/s]\n",
      "assigning edge lengths: 100%|██████████| 962/962 [00:00<00:00, 143453.64it/s]\n",
      "assigning edge lengths: 100%|██████████| 1660/1660 [00:00<00:00, 117517.25it/s]\n",
      "assigning edge lengths: 100%|██████████| 90/90 [00:00<00:00, 121144.85it/s]\n",
      "assigning edge lengths: 100%|██████████| 73/73 [00:00<00:00, 67799.87it/s]\n",
      "assigning edge lengths: 100%|██████████| 796/796 [00:00<00:00, 71240.07it/s]\n",
      "assigning edge lengths: 100%|██████████| 136/136 [00:00<00:00, 136465.39it/s]\n",
      "assigning edge lengths: 100%|██████████| 1103/1103 [00:00<00:00, 171701.21it/s]\n",
      "assigning edge lengths: 100%|██████████| 215/215 [00:00<00:00, 141100.82it/s]\n",
      "assigning edge lengths: 100%|██████████| 169/169 [00:00<00:00, 161613.63it/s]\n",
      "assigning edge lengths: 100%|██████████| 86/86 [00:00<00:00, 149424.25it/s]\n",
      "assigning edge lengths: 100%|██████████| 163/163 [00:00<00:00, 129043.33it/s]\n",
      "assigning edge lengths: 100%|██████████| 95/95 [00:00<00:00, 125104.83it/s]\n",
      "assigning edge lengths: 100%|██████████| 115/115 [00:00<00:00, 119303.72it/s]\n",
      "assigning edge lengths: 100%|██████████| 21775/21775 [00:00<00:00, 125162.18it/s]\n",
      "assigning edge lengths: 100%|██████████| 1920/1920 [00:00<00:00, 177025.43it/s]\n",
      "assigning edge lengths: 100%|██████████| 314/314 [00:00<00:00, 172293.49it/s]\n",
      "assigning edge lengths: 100%|██████████| 249/249 [00:00<00:00, 228980.86it/s]\n",
      "assigning edge lengths: 100%|██████████| 589/589 [00:00<00:00, 163746.61it/s]\n",
      "assigning edge lengths: 100%|██████████| 455/455 [00:00<00:00, 148030.43it/s]\n",
      "assigning edge lengths: 100%|██████████| 3150/3150 [00:00<00:00, 178594.41it/s]\n",
      "assigning edge lengths: 100%|██████████| 111/111 [00:00<00:00, 139810.13it/s]\n",
      "assigning edge lengths: 100%|██████████| 113/113 [00:00<00:00, 104950.48it/s]\n",
      "assigning edge lengths: 100%|██████████| 589/589 [00:00<00:00, 174011.77it/s]\n",
      "assigning edge lengths: 100%|██████████| 773/773 [00:00<00:00, 188095.20it/s]\n",
      "assigning edge lengths: 100%|██████████| 265/265 [00:00<00:00, 142352.79it/s]\n",
      "assigning edge lengths: 100%|██████████| 131/131 [00:00<00:00, 142308.68it/s]\n",
      "assigning edge lengths: 100%|██████████| 65/65 [00:00<00:00, 123810.06it/s]\n",
      "assigning edge lengths: 100%|██████████| 129/129 [00:00<00:00, 138203.12it/s]\n",
      "assigning edge lengths: 100%|██████████| 1913/1913 [00:00<00:00, 120922.68it/s]\n"
     ]
    },
    {
     "name": "stdout",
     "output_type": "stream",
     "text": [
      "\n"
     ]
    }
   ],
   "source": [
    "labels = []\n",
    "tree_fps = []\n",
    "lg_to_tree = {}\n",
    "i = 0\n",
    "for tree_dir in tqdm_notebook(os.listdir(\"/home/mattjones/projects/metastasis/JQ19/5k/trees\")):\n",
    "    tree_dir = \"/home/mattjones/projects/metastasis/JQ19/5k/trees/\" + tree_dir + \"/\"\n",
    "    if not os.path.isdir(tree_dir):\n",
    "        continue\n",
    "    \n",
    "    lg = tree_dir.split(\"/\")[-2][2:]\n",
    "    fps = [fp for fp in os.listdir(tree_dir) if \".processed.pkl\" in fp and 'nj' not in fp]\n",
    "    cmfp = [fp for fp in os.listdir(tree_dir) if \"_character_matrix.txt\" in fp]\n",
    "    if len(fps) > 0:\n",
    "            try:\n",
    "                tree = nx.read_gpickle(tree_dir + fps[0])\n",
    "                lg_to_tree[int(lg)] = tree_val.assign_edge_lengths(tree.network)\n",
    "                tree_fps.append(tree_dir + fps[0])\n",
    "                cmfp = tree_dir + cmfp[0]\n",
    "                labels.append(int(lg))\n",
    "                cm = pd.read_csv(cmfp, sep='\\t', index_col = 0, dtype=str)\n",
    "            except:\n",
    "                i += 1"
   ]
  },
  {
   "cell_type": "code",
   "execution_count": 6,
   "metadata": {},
   "outputs": [
    {
     "data": {
      "application/vnd.jupyter.widget-view+json": {
       "model_id": "50ba0a0e214e4122b4183adc1ac6ae7d",
       "version_major": 2,
       "version_minor": 0
      },
      "text/plain": [
       "HBox(children=(IntProgress(value=0, max=99), HTML(value='')))"
      ]
     },
     "metadata": {},
     "output_type": "display_data"
    },
    {
     "name": "stderr",
     "output_type": "stream",
     "text": [
      "Creating pairs to compare: 100%|██████████| 299/299 [00:00<00:00, 12509.32it/s]\n"
     ]
    },
    {
     "name": "stdout",
     "output_type": "stream",
     "text": [
      "Finding LCAs for all pairs...\n",
      "Computing pairwise distances...\n"
     ]
    },
    {
     "name": "stderr",
     "output_type": "stream",
     "text": [
      "Creating pairs to compare: 100%|██████████| 26/26 [00:00<00:00, 78285.65it/s]\n",
      "Creating pairs to compare: 100%|██████████| 64/64 [00:00<00:00, 42100.92it/s]\n",
      "Creating pairs to compare: 100%|██████████| 42/42 [00:00<00:00, 67728.09it/s]\n",
      "Creating pairs to compare: 100%|██████████| 323/323 [00:00<00:00, 13234.22it/s]\n"
     ]
    },
    {
     "name": "stdout",
     "output_type": "stream",
     "text": [
      "Finding LCAs for all pairs...\n",
      "Computing pairwise distances...\n",
      "Finding LCAs for all pairs...\n",
      "Computing pairwise distances...\n",
      "Finding LCAs for all pairs...\n",
      "Computing pairwise distances...\n",
      "Finding LCAs for all pairs...\n",
      "Computing pairwise distances...\n"
     ]
    },
    {
     "name": "stderr",
     "output_type": "stream",
     "text": [
      "Creating pairs to compare: 100%|██████████| 58/58 [00:00<00:00, 63483.72it/s]\n",
      "Creating pairs to compare: 100%|██████████| 501/501 [00:00<00:00, 8528.43it/s]\n"
     ]
    },
    {
     "name": "stdout",
     "output_type": "stream",
     "text": [
      "Finding LCAs for all pairs...\n",
      "Computing pairwise distances...\n",
      "Finding LCAs for all pairs...\n",
      "Computing pairwise distances...\n"
     ]
    },
    {
     "name": "stderr",
     "output_type": "stream",
     "text": [
      "Creating pairs to compare: 100%|██████████| 153/153 [00:00<00:00, 22531.81it/s]\n",
      "Creating pairs to compare: 100%|██████████| 98/98 [00:00<00:00, 34558.75it/s]\n"
     ]
    },
    {
     "name": "stdout",
     "output_type": "stream",
     "text": [
      "Finding LCAs for all pairs...\n",
      "Computing pairwise distances...\n",
      "Finding LCAs for all pairs...\n",
      "Computing pairwise distances...\n"
     ]
    },
    {
     "name": "stderr",
     "output_type": "stream",
     "text": [
      "Creating pairs to compare: 100%|██████████| 126/126 [00:00<00:00, 28062.99it/s]\n",
      "Creating pairs to compare: 100%|██████████| 44/44 [00:00<00:00, 86157.51it/s]\n",
      "Creating pairs to compare: 100%|██████████| 27/27 [00:00<00:00, 68385.39it/s]\n",
      "Creating pairs to compare: 100%|██████████| 32/32 [00:00<00:00, 78033.56it/s]\n",
      "Creating pairs to compare:  68%|██████▊   | 458/672 [00:00<00:00, 4570.00it/s]"
     ]
    },
    {
     "name": "stdout",
     "output_type": "stream",
     "text": [
      "Finding LCAs for all pairs...\n",
      "Computing pairwise distances...\n",
      "Finding LCAs for all pairs...\n",
      "Computing pairwise distances...\n",
      "Finding LCAs for all pairs...\n",
      "Computing pairwise distances...\n",
      "Finding LCAs for all pairs...\n",
      "Computing pairwise distances...\n"
     ]
    },
    {
     "name": "stderr",
     "output_type": "stream",
     "text": [
      "Creating pairs to compare: 100%|██████████| 672/672 [00:00<00:00, 5911.08it/s]\n"
     ]
    },
    {
     "name": "stdout",
     "output_type": "stream",
     "text": [
      "Finding LCAs for all pairs...\n",
      "Computing pairwise distances...\n"
     ]
    },
    {
     "name": "stderr",
     "output_type": "stream",
     "text": [
      "Creating pairs to compare: 100%|██████████| 11053/11053 [01:13<00:00, 149.42it/s]\n"
     ]
    },
    {
     "name": "stdout",
     "output_type": "stream",
     "text": [
      "Finding LCAs for all pairs...\n",
      "Computing pairwise distances...\n"
     ]
    },
    {
     "name": "stderr",
     "output_type": "stream",
     "text": [
      "Creating pairs to compare: 100%|██████████| 48/48 [00:00<00:00, 56362.43it/s]\n",
      "Creating pairs to compare: 100%|██████████| 30/30 [00:00<00:00, 50963.60it/s]\n",
      "Creating pairs to compare: 100%|██████████| 114/114 [00:00<00:00, 27387.06it/s]\n",
      "Creating pairs to compare: 100%|██████████| 128/128 [00:00<00:00, 25169.76it/s]\n"
     ]
    },
    {
     "name": "stdout",
     "output_type": "stream",
     "text": [
      "Finding LCAs for all pairs...\n",
      "Computing pairwise distances...\n",
      "Finding LCAs for all pairs...\n",
      "Computing pairwise distances...\n",
      "Finding LCAs for all pairs...\n",
      "Computing pairwise distances...\n",
      "Finding LCAs for all pairs...\n",
      "Computing pairwise distances...\n"
     ]
    },
    {
     "name": "stderr",
     "output_type": "stream",
     "text": [
      "Creating pairs to compare: 100%|██████████| 42/42 [00:00<00:00, 55711.82it/s]\n",
      "Creating pairs to compare: 100%|██████████| 52/52 [00:00<00:00, 80332.89it/s]\n",
      "Creating pairs to compare: 100%|██████████| 34/34 [00:00<00:00, 67617.99it/s]\n",
      "Creating pairs to compare: 100%|██████████| 476/476 [00:00<00:00, 7105.68it/s]\n"
     ]
    },
    {
     "name": "stdout",
     "output_type": "stream",
     "text": [
      "Finding LCAs for all pairs...\n",
      "Computing pairwise distances...\n",
      "Finding LCAs for all pairs...\n",
      "Computing pairwise distances...\n",
      "Finding LCAs for all pairs...\n",
      "Computing pairwise distances...\n",
      "Finding LCAs for all pairs...\n",
      "Computing pairwise distances...\n"
     ]
    },
    {
     "name": "stderr",
     "output_type": "stream",
     "text": [
      "Creating pairs to compare: 100%|██████████| 58/58 [00:00<00:00, 52621.59it/s]\n",
      "Creating pairs to compare: 100%|██████████| 81/81 [00:00<00:00, 36558.55it/s]\n",
      "Creating pairs to compare: 100%|██████████| 169/169 [00:00<00:00, 20529.94it/s]\n"
     ]
    },
    {
     "name": "stdout",
     "output_type": "stream",
     "text": [
      "Finding LCAs for all pairs...\n",
      "Computing pairwise distances...\n",
      "Finding LCAs for all pairs...\n",
      "Computing pairwise distances...\n",
      "Finding LCAs for all pairs...\n",
      "Computing pairwise distances...\n"
     ]
    },
    {
     "name": "stderr",
     "output_type": "stream",
     "text": [
      "Creating pairs to compare: 100%|██████████| 63/63 [00:00<00:00, 52139.14it/s]\n",
      "Creating pairs to compare: 100%|██████████| 253/253 [00:00<00:00, 14246.80it/s]\n"
     ]
    },
    {
     "name": "stdout",
     "output_type": "stream",
     "text": [
      "Finding LCAs for all pairs...\n",
      "Computing pairwise distances...\n",
      "Finding LCAs for all pairs...\n",
      "Computing pairwise distances...\n"
     ]
    },
    {
     "name": "stderr",
     "output_type": "stream",
     "text": [
      "Creating pairs to compare: 100%|██████████| 160/160 [00:00<00:00, 21147.31it/s]\n",
      "Creating pairs to compare: 100%|██████████| 34/34 [00:00<00:00, 57993.63it/s]\n",
      "Creating pairs to compare:   0%|          | 0/562 [00:00<?, ?it/s]"
     ]
    },
    {
     "name": "stdout",
     "output_type": "stream",
     "text": [
      "Finding LCAs for all pairs...\n",
      "Computing pairwise distances...\n",
      "Finding LCAs for all pairs...\n",
      "Computing pairwise distances...\n"
     ]
    },
    {
     "name": "stderr",
     "output_type": "stream",
     "text": [
      "Creating pairs to compare: 100%|██████████| 562/562 [00:00<00:00, 6520.64it/s]\n"
     ]
    },
    {
     "name": "stdout",
     "output_type": "stream",
     "text": [
      "Finding LCAs for all pairs...\n",
      "Computing pairwise distances...\n"
     ]
    },
    {
     "name": "stderr",
     "output_type": "stream",
     "text": [
      "Creating pairs to compare: 100%|██████████| 45/45 [00:00<00:00, 72537.92it/s]\n",
      "Creating pairs to compare: 100%|██████████| 39/39 [00:00<00:00, 60116.82it/s]\n",
      "Creating pairs to compare: 100%|██████████| 79/79 [00:00<00:00, 36408.09it/s]\n",
      "Creating pairs to compare: 100%|██████████| 151/151 [00:00<00:00, 23398.10it/s]\n"
     ]
    },
    {
     "name": "stdout",
     "output_type": "stream",
     "text": [
      "Finding LCAs for all pairs...\n",
      "Computing pairwise distances...\n",
      "Finding LCAs for all pairs...\n",
      "Computing pairwise distances...\n",
      "Finding LCAs for all pairs...\n",
      "Computing pairwise distances...\n",
      "Finding LCAs for all pairs...\n",
      "Computing pairwise distances...\n"
     ]
    },
    {
     "name": "stderr",
     "output_type": "stream",
     "text": [
      "Creating pairs to compare: 100%|██████████| 1114/1114 [00:00<00:00, 3469.25it/s]\n"
     ]
    },
    {
     "name": "stdout",
     "output_type": "stream",
     "text": [
      "Finding LCAs for all pairs...\n",
      "Computing pairwise distances...\n"
     ]
    },
    {
     "name": "stderr",
     "output_type": "stream",
     "text": [
      "Creating pairs to compare: 100%|██████████| 33/33 [00:00<00:00, 54215.45it/s]\n",
      "Creating pairs to compare: 100%|██████████| 46/46 [00:00<00:00, 82171.20it/s]\n",
      "Creating pairs to compare: 100%|██████████| 27/27 [00:00<00:00, 87516.39it/s]\n",
      "Creating pairs to compare: 100%|██████████| 40/40 [00:00<00:00, 87884.84it/s]\n",
      "Creating pairs to compare: 100%|██████████| 45/45 [00:00<00:00, 78090.06it/s]\n",
      "Creating pairs to compare: 100%|██████████| 579/579 [00:00<00:00, 6199.27it/s]\n"
     ]
    },
    {
     "name": "stdout",
     "output_type": "stream",
     "text": [
      "Finding LCAs for all pairs...\n",
      "Computing pairwise distances...\n",
      "Finding LCAs for all pairs...\n",
      "Computing pairwise distances...\n",
      "Finding LCAs for all pairs...\n",
      "Computing pairwise distances...\n",
      "Finding LCAs for all pairs...\n",
      "Computing pairwise distances...\n",
      "Finding LCAs for all pairs...\n",
      "Computing pairwise distances...\n",
      "Finding LCAs for all pairs...\n",
      "Computing pairwise distances...\n"
     ]
    },
    {
     "name": "stderr",
     "output_type": "stream",
     "text": [
      "Creating pairs to compare: 100%|██████████| 8149/8149 [00:22<00:00, 357.67it/s]\n"
     ]
    },
    {
     "name": "stdout",
     "output_type": "stream",
     "text": [
      "Finding LCAs for all pairs...\n",
      "Computing pairwise distances...\n"
     ]
    },
    {
     "name": "stderr",
     "output_type": "stream",
     "text": [
      "Creating pairs to compare: 100%|██████████| 123/123 [00:00<00:00, 25728.08it/s]\n"
     ]
    },
    {
     "name": "stdout",
     "output_type": "stream",
     "text": [
      "Finding LCAs for all pairs...\n",
      "Computing pairwise distances...\n"
     ]
    },
    {
     "name": "stderr",
     "output_type": "stream",
     "text": [
      "Creating pairs to compare: 100%|██████████| 120/120 [00:00<00:00, 23414.43it/s]\n",
      "Creating pairs to compare: 100%|██████████| 52/52 [00:00<00:00, 68029.88it/s]\n",
      "Creating pairs to compare: 100%|██████████| 373/373 [00:00<00:00, 8627.83it/s]\n"
     ]
    },
    {
     "name": "stdout",
     "output_type": "stream",
     "text": [
      "Finding LCAs for all pairs...\n",
      "Computing pairwise distances...\n",
      "Finding LCAs for all pairs...\n",
      "Computing pairwise distances...\n",
      "Finding LCAs for all pairs...\n",
      "Computing pairwise distances...\n"
     ]
    },
    {
     "name": "stderr",
     "output_type": "stream",
     "text": [
      "Creating pairs to compare: 100%|██████████| 37/37 [00:00<00:00, 62880.57it/s]\n",
      "Creating pairs to compare: 100%|██████████| 223/223 [00:00<00:00, 15493.03it/s]\n"
     ]
    },
    {
     "name": "stdout",
     "output_type": "stream",
     "text": [
      "Finding LCAs for all pairs...\n",
      "Computing pairwise distances...\n",
      "Finding LCAs for all pairs...\n",
      "Computing pairwise distances...\n"
     ]
    },
    {
     "name": "stderr",
     "output_type": "stream",
     "text": [
      "Creating pairs to compare: 100%|██████████| 76/76 [00:00<00:00, 44739.24it/s]\n",
      "Creating pairs to compare: 100%|██████████| 49/49 [00:00<00:00, 63412.80it/s]\n",
      "Creating pairs to compare: 100%|██████████| 60/60 [00:00<00:00, 51653.99it/s]\n",
      "Creating pairs to compare: 100%|██████████| 429/429 [00:00<00:00, 7789.96it/s]\n"
     ]
    },
    {
     "name": "stdout",
     "output_type": "stream",
     "text": [
      "Finding LCAs for all pairs...\n",
      "Computing pairwise distances...\n",
      "Finding LCAs for all pairs...\n",
      "Computing pairwise distances...\n",
      "Finding LCAs for all pairs...\n",
      "Computing pairwise distances...\n",
      "Finding LCAs for all pairs...\n",
      "Computing pairwise distances...\n"
     ]
    },
    {
     "name": "stderr",
     "output_type": "stream",
     "text": [
      "Creating pairs to compare: 100%|██████████| 52/52 [00:00<00:00, 62102.45it/s]\n",
      "Creating pairs to compare: 100%|██████████| 36/36 [00:00<00:00, 53148.52it/s]\n",
      "Creating pairs to compare: 100%|██████████| 162/162 [00:00<00:00, 21696.06it/s]\n",
      "Creating pairs to compare:   0%|          | 0/80 [00:00<?, ?it/s]"
     ]
    },
    {
     "name": "stdout",
     "output_type": "stream",
     "text": [
      "Finding LCAs for all pairs...\n",
      "Computing pairwise distances...\n",
      "Finding LCAs for all pairs...\n",
      "Computing pairwise distances...\n",
      "Finding LCAs for all pairs...\n",
      "Computing pairwise distances...\n"
     ]
    },
    {
     "name": "stderr",
     "output_type": "stream",
     "text": [
      "Creating pairs to compare: 100%|██████████| 80/80 [00:00<00:00, 37060.34it/s]\n",
      "Creating pairs to compare: 100%|██████████| 28/28 [00:00<00:00, 65829.88it/s]\n",
      "Creating pairs to compare: 100%|██████████| 49/49 [00:00<00:00, 69152.39it/s]\n",
      "Creating pairs to compare: 100%|██████████| 81/81 [00:00<00:00, 42435.50it/s]\n",
      "Creating pairs to compare: 100%|██████████| 130/130 [00:00<00:00, 24809.33it/s]\n",
      "Creating pairs to compare:   0%|          | 0/107 [00:00<?, ?it/s]"
     ]
    },
    {
     "name": "stdout",
     "output_type": "stream",
     "text": [
      "Finding LCAs for all pairs...\n",
      "Computing pairwise distances...\n",
      "Finding LCAs for all pairs...\n",
      "Computing pairwise distances...\n",
      "Finding LCAs for all pairs...\n",
      "Computing pairwise distances...\n",
      "Finding LCAs for all pairs...\n",
      "Computing pairwise distances...\n",
      "Finding LCAs for all pairs...\n",
      "Computing pairwise distances...\n"
     ]
    },
    {
     "name": "stderr",
     "output_type": "stream",
     "text": [
      "Creating pairs to compare: 100%|██████████| 107/107 [00:00<00:00, 33128.41it/s]\n",
      "Creating pairs to compare: 100%|██████████| 125/125 [00:00<00:00, 30338.99it/s]\n",
      "Creating pairs to compare: 100%|██████████| 105/105 [00:00<00:00, 34603.75it/s]\n"
     ]
    },
    {
     "name": "stdout",
     "output_type": "stream",
     "text": [
      "Finding LCAs for all pairs...\n",
      "Computing pairwise distances...\n",
      "Finding LCAs for all pairs...\n",
      "Computing pairwise distances...\n",
      "Finding LCAs for all pairs...\n",
      "Computing pairwise distances...\n"
     ]
    },
    {
     "name": "stderr",
     "output_type": "stream",
     "text": [
      "Creating pairs to compare: 100%|██████████| 147/147 [00:00<00:00, 25940.87it/s]\n",
      "Creating pairs to compare: 100%|██████████| 31/31 [00:00<00:00, 61886.45it/s]\n",
      "Creating pairs to compare: 100%|██████████| 42/42 [00:00<00:00, 75121.86it/s]\n",
      "Creating pairs to compare: 100%|██████████| 27/27 [00:00<00:00, 43539.49it/s]\n",
      "Creating pairs to compare:   0%|          | 0/663 [00:00<?, ?it/s]"
     ]
    },
    {
     "name": "stdout",
     "output_type": "stream",
     "text": [
      "Finding LCAs for all pairs...\n",
      "Computing pairwise distances...\n",
      "Finding LCAs for all pairs...\n",
      "Computing pairwise distances...\n",
      "Finding LCAs for all pairs...\n",
      "Computing pairwise distances...\n",
      "Finding LCAs for all pairs...\n",
      "Computing pairwise distances...\n"
     ]
    },
    {
     "name": "stderr",
     "output_type": "stream",
     "text": [
      "Creating pairs to compare: 100%|██████████| 663/663 [00:00<00:00, 5100.73it/s]\n"
     ]
    },
    {
     "name": "stdout",
     "output_type": "stream",
     "text": [
      "Finding LCAs for all pairs...\n",
      "Computing pairwise distances...\n"
     ]
    },
    {
     "name": "stderr",
     "output_type": "stream",
     "text": [
      "Creating pairs to compare: 100%|██████████| 63/63 [00:00<00:00, 26902.99it/s]\n",
      "Creating pairs to compare: 100%|██████████| 294/294 [00:00<00:00, 12042.12it/s]\n"
     ]
    },
    {
     "name": "stdout",
     "output_type": "stream",
     "text": [
      "Finding LCAs for all pairs...\n",
      "Computing pairwise distances...\n",
      "Finding LCAs for all pairs...\n",
      "Computing pairwise distances...\n"
     ]
    },
    {
     "name": "stderr",
     "output_type": "stream",
     "text": [
      "Creating pairs to compare: 100%|██████████| 510/510 [00:00<00:00, 6661.83it/s]\n"
     ]
    },
    {
     "name": "stdout",
     "output_type": "stream",
     "text": [
      "Finding LCAs for all pairs...\n",
      "Computing pairwise distances...\n"
     ]
    },
    {
     "name": "stderr",
     "output_type": "stream",
     "text": [
      "Creating pairs to compare: 100%|██████████| 58/58 [00:00<00:00, 29860.03it/s]\n",
      "Creating pairs to compare: 100%|██████████| 40/40 [00:00<00:00, 37407.39it/s]\n",
      "Creating pairs to compare:   0%|          | 0/358 [00:00<?, ?it/s]"
     ]
    },
    {
     "name": "stdout",
     "output_type": "stream",
     "text": [
      "Finding LCAs for all pairs...\n",
      "Computing pairwise distances...\n",
      "Finding LCAs for all pairs...\n",
      "Computing pairwise distances...\n"
     ]
    },
    {
     "name": "stderr",
     "output_type": "stream",
     "text": [
      "Creating pairs to compare: 100%|██████████| 358/358 [00:02<00:00, 128.31it/s]\n"
     ]
    },
    {
     "name": "stdout",
     "output_type": "stream",
     "text": [
      "Finding LCAs for all pairs...\n",
      "Computing pairwise distances...\n"
     ]
    },
    {
     "name": "stderr",
     "output_type": "stream",
     "text": [
      "Creating pairs to compare: 100%|██████████| 36/36 [00:00<00:00, 68915.99it/s]\n",
      "Creating pairs to compare: 100%|██████████| 421/421 [00:00<00:00, 8542.04it/s]\n"
     ]
    },
    {
     "name": "stdout",
     "output_type": "stream",
     "text": [
      "Finding LCAs for all pairs...\n",
      "Computing pairwise distances...\n",
      "Finding LCAs for all pairs...\n",
      "Computing pairwise distances...\n"
     ]
    },
    {
     "name": "stderr",
     "output_type": "stream",
     "text": [
      "Creating pairs to compare: 100%|██████████| 63/63 [00:00<00:00, 44620.26it/s]\n",
      "Creating pairs to compare: 100%|██████████| 63/63 [00:00<00:00, 55084.67it/s]\n",
      "Creating pairs to compare: 100%|██████████| 72/72 [00:00<00:00, 37612.39it/s]\n",
      "Creating pairs to compare: 100%|██████████| 47/47 [00:00<00:00, 65340.50it/s]\n",
      "Creating pairs to compare: 100%|██████████| 28/28 [00:00<00:00, 89786.32it/s]\n",
      "Creating pairs to compare: 100%|██████████| 34/34 [00:00<00:00, 73019.12it/s]\n"
     ]
    },
    {
     "name": "stdout",
     "output_type": "stream",
     "text": [
      "Finding LCAs for all pairs...\n",
      "Computing pairwise distances...\n",
      "Finding LCAs for all pairs...\n",
      "Computing pairwise distances...\n",
      "Finding LCAs for all pairs...\n",
      "Computing pairwise distances...\n",
      "Finding LCAs for all pairs...\n",
      "Computing pairwise distances...\n",
      "Finding LCAs for all pairs...\n",
      "Computing pairwise distances...\n",
      "Finding LCAs for all pairs...\n",
      "Computing pairwise distances...\n"
     ]
    },
    {
     "name": "stderr",
     "output_type": "stream",
     "text": [
      "Creating pairs to compare: 100%|██████████| 5616/5616 [00:37<00:00, 151.49it/s]\n"
     ]
    },
    {
     "name": "stdout",
     "output_type": "stream",
     "text": [
      "Finding LCAs for all pairs...\n",
      "Computing pairwise distances...\n"
     ]
    },
    {
     "name": "stderr",
     "output_type": "stream",
     "text": [
      "Creating pairs to compare: 100%|██████████| 598/598 [00:00<00:00, 5260.51it/s]\n"
     ]
    },
    {
     "name": "stdout",
     "output_type": "stream",
     "text": [
      "Finding LCAs for all pairs...\n",
      "Computing pairwise distances...\n"
     ]
    },
    {
     "name": "stderr",
     "output_type": "stream",
     "text": [
      "Creating pairs to compare: 100%|██████████| 117/117 [00:00<00:00, 27773.70it/s]\n",
      "Creating pairs to compare: 100%|██████████| 109/109 [00:00<00:00, 31950.46it/s]\n",
      "Creating pairs to compare: 100%|██████████| 163/163 [00:00<00:00, 23497.10it/s]\n"
     ]
    },
    {
     "name": "stdout",
     "output_type": "stream",
     "text": [
      "Finding LCAs for all pairs...\n",
      "Computing pairwise distances...\n",
      "Finding LCAs for all pairs...\n",
      "Computing pairwise distances...\n",
      "Finding LCAs for all pairs...\n"
     ]
    },
    {
     "name": "stderr",
     "output_type": "stream",
     "text": [
      "Creating pairs to compare: 100%|██████████| 96/96 [00:00<00:00, 36822.42it/s]\n",
      "Creating pairs to compare:   0%|          | 0/1187 [00:00<?, ?it/s]"
     ]
    },
    {
     "name": "stdout",
     "output_type": "stream",
     "text": [
      "Computing pairwise distances...\n",
      "Finding LCAs for all pairs...\n",
      "Computing pairwise distances...\n"
     ]
    },
    {
     "name": "stderr",
     "output_type": "stream",
     "text": [
      "Creating pairs to compare: 100%|██████████| 1187/1187 [00:00<00:00, 3340.12it/s]\n"
     ]
    },
    {
     "name": "stdout",
     "output_type": "stream",
     "text": [
      "Finding LCAs for all pairs...\n",
      "Computing pairwise distances...\n"
     ]
    },
    {
     "name": "stderr",
     "output_type": "stream",
     "text": [
      "Creating pairs to compare: 100%|██████████| 46/46 [00:00<00:00, 71089.90it/s]\n",
      "Creating pairs to compare: 100%|██████████| 30/30 [00:00<00:00, 59297.42it/s]\n",
      "Creating pairs to compare: 100%|██████████| 159/159 [00:00<00:00, 22367.75it/s]\n",
      "Creating pairs to compare: 100%|██████████| 241/241 [00:00<00:00, 14355.69it/s]"
     ]
    },
    {
     "name": "stdout",
     "output_type": "stream",
     "text": [
      "Finding LCAs for all pairs...\n",
      "Computing pairwise distances...\n",
      "Finding LCAs for all pairs...\n",
      "Computing pairwise distances...\n",
      "Finding LCAs for all pairs...\n",
      "Computing pairwise distances...\n"
     ]
    },
    {
     "name": "stderr",
     "output_type": "stream",
     "text": [
      "\n",
      "Creating pairs to compare: 100%|██████████| 71/71 [00:00<00:00, 44033.06it/s]"
     ]
    },
    {
     "name": "stdout",
     "output_type": "stream",
     "text": [
      "Finding LCAs for all pairs...\n",
      "Computing pairwise distances...\n"
     ]
    },
    {
     "name": "stderr",
     "output_type": "stream",
     "text": [
      "\n",
      "Creating pairs to compare: 100%|██████████| 40/40 [00:00<00:00, 62836.01it/s]\n",
      "Creating pairs to compare: 100%|██████████| 33/33 [00:00<00:00, 58698.91it/s]\n",
      "Creating pairs to compare: 100%|██████████| 55/55 [00:00<00:00, 58923.81it/s]\n",
      "Creating pairs to compare: 100%|██████████| 509/509 [00:00<00:00, 6751.06it/s]\n"
     ]
    },
    {
     "name": "stdout",
     "output_type": "stream",
     "text": [
      "Finding LCAs for all pairs...\n",
      "Computing pairwise distances...\n",
      "Finding LCAs for all pairs...\n",
      "Computing pairwise distances...\n",
      "Finding LCAs for all pairs...\n",
      "Computing pairwise distances...\n",
      "Finding LCAs for all pairs...\n",
      "Computing pairwise distances...\n",
      "Finding LCAs for all pairs...\n",
      "Computing pairwise distances...\n",
      "\n"
     ]
    }
   ],
   "source": [
    "all_tree_dists = []\n",
    "all_edit_dists = []\n",
    "\n",
    "max_diam, max_targets = 0,0\n",
    "for tree in tqdm_notebook(lg_to_tree.values()):\n",
    "    \n",
    "    tree_dists, edit_dists,all_pairs,diam,n_targets = tree_val.compute_pairwise_dist_nx(tree)\n",
    "    #tree_dists /= (n_targets)**2\n",
    "    #edit_dists /= (n_targets)**2\n",
    "    \n",
    "    all_tree_dists += list(tree_dists)\n",
    "    all_edit_dists += list(edit_dists)\n",
    "    \n",
    "    max_diam = max(max_diam, diam)\n",
    "    max_targets = max(max_targets, n_targets)\n",
    "\n"
   ]
  },
  {
   "cell_type": "code",
   "execution_count": 10,
   "metadata": {},
   "outputs": [
    {
     "data": {
      "image/png": "[encoded data removed]",
      "text/plain": [
       "<Figure size 432x432 with 1 Axes>"
      ]
     },
     "metadata": {},
     "output_type": "display_data"
    }
   ],
   "source": [
    "tree_val.dist_plotter(all_tree_dists, all_edit_dists, '2D-Hist', diam=20, n_targets = 20, out_fp = 'all_phy_vs_edit.pdf')"
   ]
  },
  {
   "cell_type": "code",
   "execution_count": 18,
   "metadata": {},
   "outputs": [
    {
     "data": {
      "application/vnd.jupyter.widget-view+json": {
       "model_id": "dad9c4289bda49f2a30d4f907a0124ff",
       "version_major": 2,
       "version_minor": 0
      },
      "text/plain": [
       "HBox(children=(IntProgress(value=0, max=99), HTML(value='')))"
      ]
     },
     "metadata": {},
     "output_type": "display_data"
    },
    {
     "name": "stderr",
     "output_type": "stream",
     "text": [
      "Creating pairs to compare: 100%|██████████| 299/299 [00:02<00:00, 138.94it/s]\n",
      "Creating pairs to compare: 100%|██████████| 26/26 [00:00<00:00, 1670.99it/s]\n",
      "Creating pairs to compare:   0%|          | 0/64 [00:00<?, ?it/s]"
     ]
    },
    {
     "name": "stdout",
     "output_type": "stream",
     "text": [
      "Finding LCAs for all pairs...\n",
      "Computing pairwise distances...\n",
      "Finding LCAs for all pairs...\n",
      "Computing pairwise distances...\n"
     ]
    },
    {
     "name": "stderr",
     "output_type": "stream",
     "text": [
      "Creating pairs to compare: 100%|██████████| 64/64 [00:00<00:00, 544.95it/s]\n",
      "Creating pairs to compare: 100%|██████████| 42/42 [00:00<00:00, 702.43it/s]\n",
      "Creating pairs to compare:   2%|▏         | 6/323 [00:00<00:05, 53.30it/s]"
     ]
    },
    {
     "name": "stdout",
     "output_type": "stream",
     "text": [
      "Finding LCAs for all pairs...\n",
      "Computing pairwise distances...\n",
      "Finding LCAs for all pairs...\n",
      "Computing pairwise distances...\n"
     ]
    },
    {
     "name": "stderr",
     "output_type": "stream",
     "text": [
      "Creating pairs to compare: 100%|██████████| 323/323 [00:02<00:00, 128.17it/s]\n"
     ]
    },
    {
     "name": "stdout",
     "output_type": "stream",
     "text": [
      "Finding LCAs for all pairs...\n",
      "Computing pairwise distances...\n"
     ]
    },
    {
     "name": "stderr",
     "output_type": "stream",
     "text": [
      "Creating pairs to compare: 100%|██████████| 58/58 [00:00<00:00, 768.70it/s]\n",
      "Creating pairs to compare:   2%|▏         | 10/501 [00:00<00:11, 43.90it/s]"
     ]
    },
    {
     "name": "stdout",
     "output_type": "stream",
     "text": [
      "Finding LCAs for all pairs...\n",
      "Computing pairwise distances...\n"
     ]
    },
    {
     "name": "stderr",
     "output_type": "stream",
     "text": [
      "Creating pairs to compare: 100%|██████████| 501/501 [00:05<00:00, 84.88it/s]\n"
     ]
    },
    {
     "name": "stdout",
     "output_type": "stream",
     "text": [
      "Finding LCAs for all pairs...\n",
      "Computing pairwise distances...\n"
     ]
    },
    {
     "name": "stderr",
     "output_type": "stream",
     "text": [
      "Creating pairs to compare: 100%|██████████| 153/153 [00:00<00:00, 280.19it/s]\n",
      "Creating pairs to compare:  26%|██▌       | 25/98 [00:00<00:00, 249.10it/s]"
     ]
    },
    {
     "name": "stdout",
     "output_type": "stream",
     "text": [
      "Finding LCAs for all pairs...\n",
      "Computing pairwise distances...\n"
     ]
    },
    {
     "name": "stderr",
     "output_type": "stream",
     "text": [
      "Creating pairs to compare: 100%|██████████| 98/98 [00:00<00:00, 435.30it/s]\n",
      "Creating pairs to compare:  34%|███▍      | 43/126 [00:00<00:00, 209.74it/s]"
     ]
    },
    {
     "name": "stdout",
     "output_type": "stream",
     "text": [
      "Finding LCAs for all pairs...\n",
      "Computing pairwise distances...\n"
     ]
    },
    {
     "name": "stderr",
     "output_type": "stream",
     "text": [
      "Creating pairs to compare: 100%|██████████| 126/126 [00:00<00:00, 348.89it/s]\n",
      "Creating pairs to compare: 100%|██████████| 44/44 [00:00<00:00, 1006.17it/s]\n",
      "Creating pairs to compare: 100%|██████████| 27/27 [00:00<00:00, 1607.83it/s]\n",
      "Creating pairs to compare: 100%|██████████| 32/32 [00:00<00:00, 716.36it/s]\n",
      "Creating pairs to compare:   0%|          | 0/672 [00:00<?, ?it/s]"
     ]
    },
    {
     "name": "stdout",
     "output_type": "stream",
     "text": [
      "Finding LCAs for all pairs...\n",
      "Computing pairwise distances...\n",
      "Finding LCAs for all pairs...\n",
      "Computing pairwise distances...\n",
      "Finding LCAs for all pairs...\n",
      "Computing pairwise distances...\n",
      "Finding LCAs for all pairs...\n",
      "Computing pairwise distances...\n"
     ]
    },
    {
     "name": "stderr",
     "output_type": "stream",
     "text": [
      "Creating pairs to compare: 100%|██████████| 672/672 [00:10<00:00, 61.64it/s]\n"
     ]
    },
    {
     "name": "stdout",
     "output_type": "stream",
     "text": [
      "Finding LCAs for all pairs...\n",
      "Computing pairwise distances...\n"
     ]
    },
    {
     "name": "stderr",
     "output_type": "stream",
     "text": [
      "Creating pairs to compare: 100%|██████████| 48/48 [00:00<00:00, 947.86it/s]\n",
      "Creating pairs to compare: 100%|██████████| 30/30 [00:00<00:00, 1484.60it/s]\n",
      "Creating pairs to compare:  19%|█▉        | 22/114 [00:00<00:00, 219.55it/s]"
     ]
    },
    {
     "name": "stdout",
     "output_type": "stream",
     "text": [
      "Finding LCAs for all pairs...\n",
      "Computing pairwise distances...\n",
      "Finding LCAs for all pairs...\n",
      "Computing pairwise distances...\n"
     ]
    },
    {
     "name": "stderr",
     "output_type": "stream",
     "text": [
      "Creating pairs to compare: 100%|██████████| 114/114 [00:00<00:00, 397.80it/s]\n",
      "Creating pairs to compare:  34%|███▍      | 44/128 [00:00<00:00, 212.77it/s]"
     ]
    },
    {
     "name": "stdout",
     "output_type": "stream",
     "text": [
      "Finding LCAs for all pairs...\n",
      "Computing pairwise distances...\n"
     ]
    },
    {
     "name": "stderr",
     "output_type": "stream",
     "text": [
      "Creating pairs to compare: 100%|██████████| 128/128 [00:00<00:00, 291.33it/s]\n",
      "Creating pairs to compare: 100%|██████████| 42/42 [00:00<00:00, 1112.44it/s]\n",
      "Creating pairs to compare: 100%|██████████| 52/52 [00:00<00:00, 899.13it/s]\n",
      "Creating pairs to compare: 100%|██████████| 34/34 [00:00<00:00, 1356.01it/s]\n",
      "Creating pairs to compare:   0%|          | 0/476 [00:00<?, ?it/s]"
     ]
    },
    {
     "name": "stdout",
     "output_type": "stream",
     "text": [
      "Finding LCAs for all pairs...\n",
      "Computing pairwise distances...\n",
      "Finding LCAs for all pairs...\n",
      "Computing pairwise distances...\n",
      "Finding LCAs for all pairs...\n",
      "Computing pairwise distances...\n",
      "Finding LCAs for all pairs...\n",
      "Computing pairwise distances...\n"
     ]
    },
    {
     "name": "stderr",
     "output_type": "stream",
     "text": [
      "Creating pairs to compare: 100%|██████████| 476/476 [00:05<00:00, 91.95it/s]\n"
     ]
    },
    {
     "name": "stdout",
     "output_type": "stream",
     "text": [
      "Finding LCAs for all pairs...\n",
      "Computing pairwise distances...\n"
     ]
    },
    {
     "name": "stderr",
     "output_type": "stream",
     "text": [
      "Creating pairs to compare: 100%|██████████| 58/58 [00:00<00:00, 768.92it/s]\n",
      "Creating pairs to compare: 100%|██████████| 81/81 [00:00<00:00, 541.61it/s]\n",
      "Creating pairs to compare:   8%|▊         | 14/169 [00:00<00:01, 135.90it/s]"
     ]
    },
    {
     "name": "stdout",
     "output_type": "stream",
     "text": [
      "Finding LCAs for all pairs...\n",
      "Computing pairwise distances...\n",
      "Finding LCAs for all pairs...\n",
      "Computing pairwise distances...\n"
     ]
    },
    {
     "name": "stderr",
     "output_type": "stream",
     "text": [
      "Creating pairs to compare: 100%|██████████| 169/169 [00:00<00:00, 262.99it/s]\n",
      "Creating pairs to compare: 100%|██████████| 63/63 [00:00<00:00, 710.56it/s]\n",
      "Creating pairs to compare:   4%|▎         | 9/253 [00:00<00:02, 87.83it/s]"
     ]
    },
    {
     "name": "stdout",
     "output_type": "stream",
     "text": [
      "Finding LCAs for all pairs...\n",
      "Computing pairwise distances...\n",
      "Finding LCAs for all pairs...\n",
      "Computing pairwise distances...\n"
     ]
    },
    {
     "name": "stderr",
     "output_type": "stream",
     "text": [
      "Creating pairs to compare: 100%|██████████| 253/253 [00:01<00:00, 170.55it/s]\n"
     ]
    },
    {
     "name": "stdout",
     "output_type": "stream",
     "text": [
      "Finding LCAs for all pairs...\n",
      "Computing pairwise distances...\n"
     ]
    },
    {
     "name": "stderr",
     "output_type": "stream",
     "text": [
      "Creating pairs to compare: 100%|██████████| 160/160 [00:00<00:00, 265.20it/s]\n",
      "Creating pairs to compare: 100%|██████████| 34/34 [00:00<00:00, 1314.55it/s]\n",
      "Creating pairs to compare:   1%|▏         | 8/562 [00:00<00:14, 38.95it/s]"
     ]
    },
    {
     "name": "stdout",
     "output_type": "stream",
     "text": [
      "Finding LCAs for all pairs...\n",
      "Computing pairwise distances...\n",
      "Finding LCAs for all pairs...\n",
      "Computing pairwise distances...\n"
     ]
    },
    {
     "name": "stderr",
     "output_type": "stream",
     "text": [
      "Creating pairs to compare: 100%|██████████| 562/562 [00:07<00:00, 77.78it/s]\n"
     ]
    },
    {
     "name": "stdout",
     "output_type": "stream",
     "text": [
      "Finding LCAs for all pairs...\n"
     ]
    },
    {
     "name": "stderr",
     "output_type": "stream",
     "text": [
      "Creating pairs to compare: 100%|██████████| 45/45 [00:00<00:00, 974.81it/s]\n",
      "Creating pairs to compare: 100%|██████████| 39/39 [00:00<00:00, 1163.76it/s]\n",
      "Creating pairs to compare: 100%|██████████| 79/79 [00:00<00:00, 561.47it/s]\n",
      "Creating pairs to compare:  11%|█         | 16/151 [00:00<00:00, 152.00it/s]"
     ]
    },
    {
     "name": "stdout",
     "output_type": "stream",
     "text": [
      "Computing pairwise distances...\n",
      "Finding LCAs for all pairs...\n",
      "Computing pairwise distances...\n",
      "Finding LCAs for all pairs...\n",
      "Computing pairwise distances...\n",
      "Finding LCAs for all pairs...\n",
      "Computing pairwise distances...\n"
     ]
    },
    {
     "name": "stderr",
     "output_type": "stream",
     "text": [
      "Creating pairs to compare: 100%|██████████| 151/151 [00:00<00:00, 287.29it/s]\n",
      "Creating pairs to compare:   0%|          | 2/1114 [00:00<00:56, 19.63it/s]"
     ]
    },
    {
     "name": "stdout",
     "output_type": "stream",
     "text": [
      "Finding LCAs for all pairs...\n",
      "Computing pairwise distances...\n"
     ]
    },
    {
     "name": "stderr",
     "output_type": "stream",
     "text": [
      "Creating pairs to compare: 100%|██████████| 1114/1114 [00:28<00:00, 38.70it/s]\n"
     ]
    },
    {
     "name": "stdout",
     "output_type": "stream",
     "text": [
      "Finding LCAs for all pairs...\n",
      "Computing pairwise distances...\n"
     ]
    },
    {
     "name": "stderr",
     "output_type": "stream",
     "text": [
      "Creating pairs to compare: 100%|██████████| 33/33 [00:00<00:00, 1357.85it/s]\n",
      "Creating pairs to compare: 100%|██████████| 46/46 [00:00<00:00, 948.12it/s]\n",
      "Creating pairs to compare: 100%|██████████| 27/27 [00:00<00:00, 1670.20it/s]\n",
      "Creating pairs to compare: 100%|██████████| 40/40 [00:00<00:00, 1126.03it/s]\n",
      "Creating pairs to compare: 100%|██████████| 45/45 [00:00<00:00, 1001.84it/s]\n",
      "Creating pairs to compare:   0%|          | 0/579 [00:00<?, ?it/s]"
     ]
    },
    {
     "name": "stdout",
     "output_type": "stream",
     "text": [
      "Finding LCAs for all pairs...\n",
      "Computing pairwise distances...\n",
      "Finding LCAs for all pairs...\n",
      "Computing pairwise distances...\n",
      "Finding LCAs for all pairs...\n",
      "Computing pairwise distances...\n",
      "Finding LCAs for all pairs...\n",
      "Computing pairwise distances...\n",
      "Finding LCAs for all pairs...\n",
      "Computing pairwise distances...\n"
     ]
    },
    {
     "name": "stderr",
     "output_type": "stream",
     "text": [
      "Creating pairs to compare: 100%|██████████| 579/579 [00:07<00:00, 72.75it/s]\n"
     ]
    },
    {
     "name": "stdout",
     "output_type": "stream",
     "text": [
      "Finding LCAs for all pairs...\n",
      "Computing pairwise distances...\n"
     ]
    },
    {
     "name": "stderr",
     "output_type": "stream",
     "text": [
      "Creating pairs to compare: 100%|██████████| 123/123 [00:00<00:00, 349.52it/s]\n",
      "Creating pairs to compare:  36%|███▌      | 43/120 [00:00<00:00, 202.63it/s]"
     ]
    },
    {
     "name": "stdout",
     "output_type": "stream",
     "text": [
      "Finding LCAs for all pairs...\n",
      "Computing pairwise distances...\n"
     ]
    },
    {
     "name": "stderr",
     "output_type": "stream",
     "text": [
      "Creating pairs to compare: 100%|██████████| 120/120 [00:00<00:00, 345.60it/s]\n",
      "Creating pairs to compare: 100%|██████████| 52/52 [00:00<00:00, 849.07it/s]\n",
      "Creating pairs to compare:   2%|▏         | 6/373 [00:00<00:06, 58.33it/s]"
     ]
    },
    {
     "name": "stdout",
     "output_type": "stream",
     "text": [
      "Finding LCAs for all pairs...\n",
      "Computing pairwise distances...\n",
      "Finding LCAs for all pairs...\n",
      "Computing pairwise distances...\n"
     ]
    },
    {
     "name": "stderr",
     "output_type": "stream",
     "text": [
      "Creating pairs to compare: 100%|██████████| 373/373 [00:03<00:00, 113.30it/s]\n",
      "Creating pairs to compare: 100%|██████████| 37/37 [00:00<00:00, 1271.91it/s]\n",
      "Creating pairs to compare:   0%|          | 0/223 [00:00<?, ?it/s]"
     ]
    },
    {
     "name": "stdout",
     "output_type": "stream",
     "text": [
      "Finding LCAs for all pairs...\n",
      "Computing pairwise distances...\n",
      "Finding LCAs for all pairs...\n",
      "Computing pairwise distances...\n"
     ]
    },
    {
     "name": "stderr",
     "output_type": "stream",
     "text": [
      "Creating pairs to compare: 100%|██████████| 223/223 [00:01<00:00, 196.84it/s]\n",
      "Creating pairs to compare: 100%|██████████| 76/76 [00:00<00:00, 581.06it/s]\n",
      "Creating pairs to compare: 100%|██████████| 49/49 [00:00<00:00, 903.12it/s]\n"
     ]
    },
    {
     "name": "stdout",
     "output_type": "stream",
     "text": [
      "Finding LCAs for all pairs...\n",
      "Computing pairwise distances...\n",
      "Finding LCAs for all pairs...\n",
      "Computing pairwise distances...\n",
      "Finding LCAs for all pairs...\n"
     ]
    },
    {
     "name": "stderr",
     "output_type": "stream",
     "text": [
      "Creating pairs to compare: 100%|██████████| 60/60 [00:00<00:00, 732.26it/s]\n",
      "Creating pairs to compare:   1%|          | 5/429 [00:00<00:08, 49.29it/s]"
     ]
    },
    {
     "name": "stdout",
     "output_type": "stream",
     "text": [
      "Computing pairwise distances...\n",
      "Finding LCAs for all pairs...\n",
      "Computing pairwise distances...\n"
     ]
    },
    {
     "name": "stderr",
     "output_type": "stream",
     "text": [
      "Creating pairs to compare: 100%|██████████| 429/429 [00:04<00:00, 98.85it/s]\n"
     ]
    },
    {
     "name": "stdout",
     "output_type": "stream",
     "text": [
      "Finding LCAs for all pairs...\n",
      "Computing pairwise distances...\n"
     ]
    },
    {
     "name": "stderr",
     "output_type": "stream",
     "text": [
      "Creating pairs to compare: 100%|██████████| 52/52 [00:00<00:00, 840.77it/s]\n",
      "Creating pairs to compare: 100%|██████████| 36/36 [00:00<00:00, 1215.28it/s]\n",
      "Creating pairs to compare:  20%|█▉        | 32/162 [00:00<00:00, 151.94it/s]"
     ]
    },
    {
     "name": "stdout",
     "output_type": "stream",
     "text": [
      "Finding LCAs for all pairs...\n",
      "Computing pairwise distances...\n",
      "Finding LCAs for all pairs...\n",
      "Computing pairwise distances...\n"
     ]
    },
    {
     "name": "stderr",
     "output_type": "stream",
     "text": [
      "Creating pairs to compare: 100%|██████████| 162/162 [00:00<00:00, 267.15it/s]\n",
      "Creating pairs to compare:   0%|          | 0/80 [00:00<?, ?it/s]"
     ]
    },
    {
     "name": "stdout",
     "output_type": "stream",
     "text": [
      "Finding LCAs for all pairs...\n",
      "Computing pairwise distances...\n"
     ]
    },
    {
     "name": "stderr",
     "output_type": "stream",
     "text": [
      "Creating pairs to compare: 100%|██████████| 80/80 [00:00<00:00, 540.19it/s]\n",
      "Creating pairs to compare: 100%|██████████| 28/28 [00:00<00:00, 1603.68it/s]\n",
      "Creating pairs to compare: 100%|██████████| 49/49 [00:00<00:00, 909.84it/s]\n",
      "Creating pairs to compare: 100%|██████████| 81/81 [00:00<00:00, 533.07it/s]\n",
      "Creating pairs to compare:  12%|█▏        | 15/130 [00:00<00:00, 146.95it/s]"
     ]
    },
    {
     "name": "stdout",
     "output_type": "stream",
     "text": [
      "Finding LCAs for all pairs...\n",
      "Computing pairwise distances...\n",
      "Finding LCAs for all pairs...\n",
      "Computing pairwise distances...\n",
      "Finding LCAs for all pairs...\n",
      "Computing pairwise distances...\n",
      "Finding LCAs for all pairs...\n",
      "Computing pairwise distances...\n"
     ]
    },
    {
     "name": "stderr",
     "output_type": "stream",
     "text": [
      "Creating pairs to compare: 100%|██████████| 130/130 [00:00<00:00, 321.50it/s]\n",
      "Creating pairs to compare: 100%|██████████| 107/107 [00:00<00:00, 399.50it/s]\n",
      "Creating pairs to compare:   0%|          | 0/125 [00:00<?, ?it/s]"
     ]
    },
    {
     "name": "stdout",
     "output_type": "stream",
     "text": [
      "Finding LCAs for all pairs...\n",
      "Computing pairwise distances...\n",
      "Finding LCAs for all pairs...\n",
      "Computing pairwise distances...\n"
     ]
    },
    {
     "name": "stderr",
     "output_type": "stream",
     "text": [
      "Creating pairs to compare: 100%|██████████| 125/125 [00:00<00:00, 360.44it/s]\n",
      "Creating pairs to compare: 100%|██████████| 105/105 [00:00<00:00, 417.03it/s]\n",
      "Creating pairs to compare:  11%|█         | 16/147 [00:00<00:00, 158.88it/s]"
     ]
    },
    {
     "name": "stdout",
     "output_type": "stream",
     "text": [
      "Finding LCAs for all pairs...\n",
      "Computing pairwise distances...\n",
      "Finding LCAs for all pairs...\n",
      "Computing pairwise distances...\n"
     ]
    },
    {
     "name": "stderr",
     "output_type": "stream",
     "text": [
      "Creating pairs to compare: 100%|██████████| 147/147 [00:00<00:00, 303.87it/s]\n",
      "Creating pairs to compare: 100%|██████████| 31/31 [00:00<00:00, 1520.76it/s]\n",
      "Creating pairs to compare: 100%|██████████| 42/42 [00:00<00:00, 1104.84it/s]\n",
      "Creating pairs to compare: 100%|██████████| 27/27 [00:00<00:00, 1696.83it/s]\n",
      "Creating pairs to compare:   1%|          | 8/663 [00:00<00:19, 33.88it/s]"
     ]
    },
    {
     "name": "stdout",
     "output_type": "stream",
     "text": [
      "Finding LCAs for all pairs...\n",
      "Computing pairwise distances...\n",
      "Finding LCAs for all pairs...\n",
      "Computing pairwise distances...\n",
      "Finding LCAs for all pairs...\n",
      "Computing pairwise distances...\n",
      "Finding LCAs for all pairs...\n",
      "Computing pairwise distances...\n"
     ]
    },
    {
     "name": "stderr",
     "output_type": "stream",
     "text": [
      "Creating pairs to compare: 100%|██████████| 663/663 [00:10<00:00, 65.63it/s]\n"
     ]
    },
    {
     "name": "stdout",
     "output_type": "stream",
     "text": [
      "Finding LCAs for all pairs...\n",
      "Computing pairwise distances...\n"
     ]
    },
    {
     "name": "stderr",
     "output_type": "stream",
     "text": [
      "Creating pairs to compare: 100%|██████████| 63/63 [00:00<00:00, 679.45it/s]\n",
      "Creating pairs to compare:   3%|▎         | 8/294 [00:00<00:04, 68.26it/s]"
     ]
    },
    {
     "name": "stdout",
     "output_type": "stream",
     "text": [
      "Finding LCAs for all pairs...\n",
      "Computing pairwise distances...\n"
     ]
    },
    {
     "name": "stderr",
     "output_type": "stream",
     "text": [
      "Creating pairs to compare: 100%|██████████| 294/294 [00:02<00:00, 144.59it/s]\n"
     ]
    },
    {
     "name": "stdout",
     "output_type": "stream",
     "text": [
      "Finding LCAs for all pairs...\n",
      "Computing pairwise distances...\n"
     ]
    },
    {
     "name": "stderr",
     "output_type": "stream",
     "text": [
      "Creating pairs to compare: 100%|██████████| 510/510 [00:05<00:00, 85.41it/s]\n"
     ]
    },
    {
     "name": "stdout",
     "output_type": "stream",
     "text": [
      "Finding LCAs for all pairs...\n"
     ]
    },
    {
     "name": "stderr",
     "output_type": "stream",
     "text": [
      "Creating pairs to compare: 100%|██████████| 58/58 [00:00<00:00, 757.48it/s]\n",
      "Creating pairs to compare: 100%|██████████| 40/40 [00:00<00:00, 1145.71it/s]\n",
      "Creating pairs to compare:   2%|▏         | 7/358 [00:00<00:05, 64.00it/s]"
     ]
    },
    {
     "name": "stdout",
     "output_type": "stream",
     "text": [
      "Computing pairwise distances...\n",
      "Finding LCAs for all pairs...\n",
      "Computing pairwise distances...\n",
      "Finding LCAs for all pairs...\n",
      "Computing pairwise distances...\n"
     ]
    },
    {
     "name": "stderr",
     "output_type": "stream",
     "text": [
      "Creating pairs to compare: 100%|██████████| 358/358 [00:02<00:00, 121.99it/s]\n"
     ]
    },
    {
     "name": "stdout",
     "output_type": "stream",
     "text": [
      "Finding LCAs for all pairs...\n",
      "Computing pairwise distances...\n"
     ]
    },
    {
     "name": "stderr",
     "output_type": "stream",
     "text": [
      "Creating pairs to compare: 100%|██████████| 36/36 [00:00<00:00, 1245.53it/s]\n",
      "Creating pairs to compare:   3%|▎         | 11/421 [00:00<00:08, 48.47it/s]"
     ]
    },
    {
     "name": "stdout",
     "output_type": "stream",
     "text": [
      "Finding LCAs for all pairs...\n",
      "Computing pairwise distances...\n"
     ]
    },
    {
     "name": "stderr",
     "output_type": "stream",
     "text": [
      "Creating pairs to compare: 100%|██████████| 421/421 [00:03<00:00, 106.67it/s]\n",
      "Creating pairs to compare:   0%|          | 0/63 [00:00<?, ?it/s]"
     ]
    },
    {
     "name": "stdout",
     "output_type": "stream",
     "text": [
      "Finding LCAs for all pairs...\n",
      "Computing pairwise distances...\n"
     ]
    },
    {
     "name": "stderr",
     "output_type": "stream",
     "text": [
      "Creating pairs to compare: 100%|██████████| 63/63 [00:00<00:00, 728.04it/s]\n",
      "Creating pairs to compare: 100%|██████████| 63/63 [00:00<00:00, 732.02it/s]\n",
      "Creating pairs to compare: 100%|██████████| 72/72 [00:00<00:00, 634.66it/s]\n",
      "Creating pairs to compare: 100%|██████████| 47/47 [00:00<00:00, 979.78it/s]\n"
     ]
    },
    {
     "name": "stdout",
     "output_type": "stream",
     "text": [
      "Finding LCAs for all pairs...\n",
      "Computing pairwise distances...\n",
      "Finding LCAs for all pairs...\n",
      "Computing pairwise distances...\n",
      "Finding LCAs for all pairs...\n",
      "Computing pairwise distances...\n",
      "Finding LCAs for all pairs...\n"
     ]
    },
    {
     "name": "stderr",
     "output_type": "stream",
     "text": [
      "Creating pairs to compare: 100%|██████████| 28/28 [00:00<00:00, 1641.65it/s]\n",
      "Creating pairs to compare: 100%|██████████| 34/34 [00:00<00:00, 1326.13it/s]\n",
      "Creating pairs to compare:   1%|▏         | 8/598 [00:00<00:15, 36.98it/s]"
     ]
    },
    {
     "name": "stdout",
     "output_type": "stream",
     "text": [
      "Computing pairwise distances...\n",
      "Finding LCAs for all pairs...\n",
      "Computing pairwise distances...\n",
      "Finding LCAs for all pairs...\n",
      "Computing pairwise distances...\n"
     ]
    },
    {
     "name": "stderr",
     "output_type": "stream",
     "text": [
      "Creating pairs to compare: 100%|██████████| 598/598 [00:08<00:00, 72.40it/s]\n"
     ]
    },
    {
     "name": "stdout",
     "output_type": "stream",
     "text": [
      "Finding LCAs for all pairs...\n",
      "Computing pairwise distances...\n"
     ]
    },
    {
     "name": "stderr",
     "output_type": "stream",
     "text": [
      "Creating pairs to compare: 100%|██████████| 117/117 [00:00<00:00, 370.78it/s]\n",
      "Creating pairs to compare:  21%|██        | 23/109 [00:00<00:00, 222.93it/s]"
     ]
    },
    {
     "name": "stdout",
     "output_type": "stream",
     "text": [
      "Finding LCAs for all pairs...\n",
      "Computing pairwise distances...\n"
     ]
    },
    {
     "name": "stderr",
     "output_type": "stream",
     "text": [
      "Creating pairs to compare: 100%|██████████| 109/109 [00:00<00:00, 397.13it/s]\n",
      "Creating pairs to compare:  19%|█▉        | 31/163 [00:00<00:00, 148.06it/s]"
     ]
    },
    {
     "name": "stdout",
     "output_type": "stream",
     "text": [
      "Finding LCAs for all pairs...\n",
      "Computing pairwise distances...\n"
     ]
    },
    {
     "name": "stderr",
     "output_type": "stream",
     "text": [
      "Creating pairs to compare: 100%|██████████| 163/163 [00:00<00:00, 266.49it/s]\n",
      "Creating pairs to compare: 100%|██████████| 96/96 [00:00<00:00, 446.01it/s]\n"
     ]
    },
    {
     "name": "stdout",
     "output_type": "stream",
     "text": [
      "Finding LCAs for all pairs...\n",
      "Computing pairwise distances...\n",
      "Finding LCAs for all pairs...\n",
      "Computing pairwise distances...\n"
     ]
    },
    {
     "name": "stderr",
     "output_type": "stream",
     "text": [
      "Creating pairs to compare: 100%|██████████| 1187/1187 [00:32<00:00, 36.58it/s]\n"
     ]
    },
    {
     "name": "stdout",
     "output_type": "stream",
     "text": [
      "Finding LCAs for all pairs...\n",
      "Computing pairwise distances...\n"
     ]
    },
    {
     "name": "stderr",
     "output_type": "stream",
     "text": [
      "Creating pairs to compare: 100%|██████████| 46/46 [00:00<00:00, 962.69it/s]\n",
      "Creating pairs to compare: 100%|██████████| 30/30 [00:00<00:00, 1494.05it/s]\n",
      "Creating pairs to compare:   9%|▉         | 15/159 [00:00<00:00, 147.58it/s]"
     ]
    },
    {
     "name": "stdout",
     "output_type": "stream",
     "text": [
      "Finding LCAs for all pairs...\n",
      "Computing pairwise distances...\n",
      "Finding LCAs for all pairs...\n",
      "Computing pairwise distances...\n"
     ]
    },
    {
     "name": "stderr",
     "output_type": "stream",
     "text": [
      "Creating pairs to compare: 100%|██████████| 159/159 [00:00<00:00, 271.52it/s]\n",
      "Creating pairs to compare:   0%|          | 0/241 [00:00<?, ?it/s]"
     ]
    },
    {
     "name": "stdout",
     "output_type": "stream",
     "text": [
      "Finding LCAs for all pairs...\n",
      "Computing pairwise distances...\n"
     ]
    },
    {
     "name": "stderr",
     "output_type": "stream",
     "text": [
      "Creating pairs to compare: 100%|██████████| 241/241 [00:01<00:00, 175.55it/s]\n",
      "Creating pairs to compare: 100%|██████████| 71/71 [00:00<00:00, 608.48it/s]\n",
      "Creating pairs to compare:   0%|          | 0/40 [00:00<?, ?it/s]"
     ]
    },
    {
     "name": "stdout",
     "output_type": "stream",
     "text": [
      "Finding LCAs for all pairs...\n",
      "Computing pairwise distances...\n",
      "Finding LCAs for all pairs...\n",
      "Computing pairwise distances...\n"
     ]
    },
    {
     "name": "stderr",
     "output_type": "stream",
     "text": [
      "Creating pairs to compare: 100%|██████████| 40/40 [00:00<00:00, 1077.30it/s]\n",
      "Creating pairs to compare: 100%|██████████| 33/33 [00:00<00:00, 1334.39it/s]\n",
      "Creating pairs to compare: 100%|██████████| 55/55 [00:00<00:00, 794.12it/s]\n",
      "Creating pairs to compare:   1%|          | 5/509 [00:00<00:11, 42.51it/s]"
     ]
    },
    {
     "name": "stdout",
     "output_type": "stream",
     "text": [
      "Finding LCAs for all pairs...\n",
      "Computing pairwise distances...\n",
      "Finding LCAs for all pairs...\n",
      "Computing pairwise distances...\n",
      "Finding LCAs for all pairs...\n",
      "Computing pairwise distances...\n"
     ]
    },
    {
     "name": "stderr",
     "output_type": "stream",
     "text": [
      "Creating pairs to compare: 100%|██████████| 509/509 [00:06<00:00, 83.76it/s]\n"
     ]
    },
    {
     "name": "stdout",
     "output_type": "stream",
     "text": [
      "Finding LCAs for all pairs...\n",
      "Computing pairwise distances...\n",
      "\n"
     ]
    }
   ],
   "source": [
    "intra_dists = []\n",
    "intra_edit_dists = []\n",
    "\n",
    "max_diam, max_targets = 0,0\n",
    "for n in tqdm_notebook(lg_to_tree.keys()):\n",
    "    \n",
    "    tree = lg_to_tree[n]\n",
    "    if n in [1,2,3]:\n",
    "        continue\n",
    "        \n",
    "    tree_dists, edit_dists,all_pairs,diam,n_targets = tree_val.compute_pairwise_dist_nx(tree, compare_method = \"intra\", meta_item = meta['sampleID'])\n",
    "    #tree_dists /= (n_targets)**2\n",
    "    #edit_dists /= (n_targets)**2\n",
    "    \n",
    "    intra_dists += list(tree_dists)\n",
    "    intra_edit_dists += list(edit_dists)\n",
    "    \n",
    "    max_diam = max(max_diam, diam)\n",
    "    max_targets = max(max_targets, n_targets)"
   ]
  },
  {
   "cell_type": "code",
   "execution_count": 19,
   "metadata": {},
   "outputs": [
    {
     "data": {
      "image/png": "[encoded data removed]",
      "text/plain": [
       "<Figure size 432x432 with 1 Axes>"
      ]
     },
     "metadata": {},
     "output_type": "display_data"
    }
   ],
   "source": [
    "tree_val.dist_plotter(intra_dists, intra_edit_dists, '2D-Hist', diam=20, n_targets = 20, out_fp = 'intra_phy_vs_edit.pdf')"
   ]
  },
  {
   "cell_type": "code",
   "execution_count": null,
   "metadata": {},
   "outputs": [],
   "source": []
  }
 ],
 "metadata": {
  "kernelspec": {
   "display_name": "Python 3",
   "language": "python",
   "name": "python3"
  },
  "language_info": {
   "codemirror_mode": {
    "name": "ipython",
    "version": 3
   },
   "file_extension": ".py",
   "mimetype": "text/x-python",
   "name": "python",
   "nbconvert_exporter": "python",
   "pygments_lexer": "ipython3",
   "version": "3.6.9"
  }
 },
 "nbformat": 4,
 "nbformat_minor": 2
}
