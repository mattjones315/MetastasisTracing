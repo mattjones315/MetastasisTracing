{
 "cells": [
  {
   "cell_type": "code",
   "execution_count": 14,
   "metadata": {},
   "outputs": [],
   "source": [
    "import networkx as nx\n",
    "import numpy as np\n",
    "import pandas as pd \n",
    "\n",
    "from ete3 import Tree\n",
    "import utilities.validate_trees as tree_val\n",
    "\n",
    "import sys\n",
    "import os\n",
    "\n",
    "from tqdm import tqdm_notebook\n",
    "\n",
    "import seaborn as sns\n",
    "import colorcet as cc\n",
    "import matplotlib.pyplot as plt"
   ]
  },
  {
   "cell_type": "code",
   "execution_count": 2,
   "metadata": {},
   "outputs": [],
   "source": [
    "meta = pd.read_csv(\"../JQ19/5k/RNA/LG_meta.txt\", sep='\\t', index_col = 0)"
   ]
  },
  {
   "cell_type": "code",
   "execution_count": 3,
   "metadata": {},
   "outputs": [
    {
     "data": {
      "application/vnd.jupyter.widget-view+json": {
       "model_id": "48c0a5769de94a759a9ec9bdb5ebf5d4",
       "version_major": 2,
       "version_minor": 0
      },
      "text/plain": [
       "HBox(children=(IntProgress(value=0, max=108), HTML(value='')))"
      ]
     },
     "metadata": {},
     "output_type": "display_data"
    },
    {
     "name": "stderr",
     "output_type": "stream",
     "text": [
      "assigning edge lengths: 100%|██████████| 190/190 [00:00<00:00, 102497.46it/s]\n",
      "assigning edge lengths: 100%|██████████| 962/962 [00:00<00:00, 129861.30it/s]\n",
      "assigning edge lengths: 100%|██████████| 796/796 [00:00<00:00, 99804.67it/s]\n",
      "assigning edge lengths: 100%|██████████| 1660/1660 [00:00<00:00, 104781.85it/s]\n",
      "assigning edge lengths: 100%|██████████| 2478/2478 [00:00<00:00, 123758.49it/s]\n",
      "assigning edge lengths: 100%|██████████| 230/230 [00:00<00:00, 135948.41it/s]\n",
      "assigning edge lengths: 100%|██████████| 314/314 [00:00<00:00, 121798.90it/s]\n",
      "assigning edge lengths: 100%|██████████| 172/172 [00:00<00:00, 138070.87it/s]\n",
      "assigning edge lengths: 100%|██████████| 108/108 [00:00<00:00, 100977.45it/s]\n",
      "assigning edge lengths: 100%|██████████| 195/195 [00:00<00:00, 90224.96it/s]\n",
      "assigning edge lengths: 100%|██████████| 95/95 [00:00<00:00, 85140.79it/s]\n",
      "assigning edge lengths: 100%|██████████| 391/391 [00:00<00:00, 99302.02it/s]\n",
      "assigning edge lengths: 100%|██████████| 313/313 [00:00<00:00, 108685.91it/s]\n",
      "assigning edge lengths: 100%|██████████| 26548/26548 [00:00<00:00, 141926.99it/s]\n",
      "assigning edge lengths: 100%|██████████| 92/92 [00:00<00:00, 94833.12it/s]\n",
      "assigning edge lengths: 100%|██████████| 193/193 [00:00<00:00, 112932.57it/s]\n",
      "assigning edge lengths: 100%|██████████| 1782/1782 [00:00<00:00, 102518.99it/s]\n",
      "assigning edge lengths: 100%|██████████| 597/597 [00:00<00:00, 103775.52it/s]\n",
      "assigning edge lengths: 100%|██████████| 773/773 [00:00<00:00, 122199.49it/s]\n",
      "assigning edge lengths: 100%|██████████| 589/589 [00:00<00:00, 114446.63it/s]\n",
      "assigning edge lengths: 100%|██████████| 129/129 [00:00<00:00, 90767.52it/s]\n",
      "assigning edge lengths: 100%|██████████| 1913/1913 [00:00<00:00, 90859.41it/s]\n",
      "assigning edge lengths: 100%|██████████| 589/589 [00:00<00:00, 119397.08it/s]\n",
      "assigning edge lengths: 100%|██████████| 455/455 [00:00<00:00, 108327.66it/s]\n",
      "assigning edge lengths: 100%|██████████| 3117/3117 [00:00<00:00, 115326.53it/s]\n",
      "assigning edge lengths: 100%|██████████| 113/113 [00:00<00:00, 81045.89it/s]\n",
      "assigning edge lengths: 100%|██████████| 163/163 [00:00<00:00, 101015.30it/s]\n",
      "assigning edge lengths: 100%|██████████| 28153/28153 [00:00<00:00, 109404.60it/s]\n",
      "assigning edge lengths: 100%|██████████| 2151/2151 [00:00<00:00, 132837.84it/s]\n",
      "assigning edge lengths: 100%|██████████| 106/106 [00:00<00:00, 81832.55it/s]\n",
      "assigning edge lengths: 100%|██████████| 249/249 [00:00<00:00, 153112.70it/s]\n",
      "assigning edge lengths: 100%|██████████| 1103/1103 [00:00<00:00, 121133.15it/s]\n",
      "assigning edge lengths: 100%|██████████| 215/215 [00:00<00:00, 104011.00it/s]\n",
      "assigning edge lengths: 100%|██████████| 136/136 [00:00<00:00, 85456.98it/s]\n",
      "assigning edge lengths: 100%|██████████| 657/657 [00:00<00:00, 118548.41it/s]\n",
      "assigning edge lengths: 100%|██████████| 169/169 [00:00<00:00, 111998.32it/s]\n",
      "assigning edge lengths: 100%|██████████| 1803/1803 [00:00<00:00, 100260.25it/s]\n",
      "assigning edge lengths: 100%|██████████| 102/102 [00:00<00:00, 76752.60it/s]\n",
      "assigning edge lengths: 100%|██████████| 255/255 [00:00<00:00, 103748.91it/s]\n",
      "assigning edge lengths: 100%|██████████| 381/381 [00:00<00:00, 150914.14it/s]\n",
      "assigning edge lengths: 100%|██████████| 114/114 [00:00<00:00, 100494.04it/s]\n",
      "assigning edge lengths: 100%|██████████| 374/374 [00:00<00:00, 94806.58it/s]\n",
      "assigning edge lengths: 100%|██████████| 403/403 [00:00<00:00, 117996.82it/s]\n",
      "assigning edge lengths: 100%|██████████| 2399/2399 [00:00<00:00, 91571.36it/s]\n",
      "assigning edge lengths: 100%|██████████| 246/246 [00:00<00:00, 111473.51it/s]\n",
      "assigning edge lengths: 100%|██████████| 517/517 [00:00<00:00, 110152.15it/s]\n",
      "assigning edge lengths: 100%|██████████| 435/435 [00:00<00:00, 66336.61it/s]\n",
      "assigning edge lengths: 100%|██████████| 79/79 [00:00<00:00, 82548.58it/s]\n",
      "assigning edge lengths: 100%|██████████| 141/141 [00:00<00:00, 112948.22it/s]\n",
      "assigning edge lengths: 100%|██████████| 998/998 [00:00<00:00, 116098.06it/s]\n",
      "assigning edge lengths: 100%|██████████| 1888/1888 [00:00<00:00, 121378.37it/s]\n",
      "assigning edge lengths: 100%|██████████| 980/980 [00:00<00:00, 113262.74it/s]\n",
      "assigning edge lengths: 100%|██████████| 106/106 [00:00<00:00, 100224.58it/s]\n",
      "assigning edge lengths: 100%|██████████| 204/204 [00:00<00:00, 104320.66it/s]\n",
      "assigning edge lengths: 100%|██████████| 1213/1213 [00:00<00:00, 126534.29it/s]\n",
      "assigning edge lengths: 100%|██████████| 127/127 [00:00<00:00, 95290.99it/s]\n",
      "assigning edge lengths: 100%|██████████| 364/364 [00:00<00:00, 120900.12it/s]\n",
      "assigning edge lengths: 100%|██████████| 215/215 [00:00<00:00, 117205.01it/s]\n",
      "assigning edge lengths: 100%|██████████| 127/127 [00:00<00:00, 117123.26it/s]\n",
      "assigning edge lengths: 100%|██████████| 90/90 [00:00<00:00, 75968.48it/s]\n",
      "assigning edge lengths: 100%|██████████| 1920/1920 [00:00<00:00, 131489.32it/s]\n",
      "assigning edge lengths: 100%|██████████| 21775/21775 [00:00<00:00, 91492.18it/s]\n",
      "assigning edge lengths: 100%|██████████| 573/573 [00:00<00:00, 94126.67it/s]\n",
      "assigning edge lengths: 100%|██████████| 239/239 [00:00<00:00, 112734.89it/s]\n",
      "assigning edge lengths: 100%|██████████| 591/591 [00:00<00:00, 108568.40it/s]\n",
      "assigning edge lengths: 100%|██████████| 3150/3150 [00:00<00:00, 122359.92it/s]\n",
      "assigning edge lengths: 100%|██████████| 508/508 [00:00<00:00, 107954.93it/s]\n",
      "assigning edge lengths: 100%|██████████| 149/149 [00:00<00:00, 139778.86it/s]\n",
      "assigning edge lengths: 100%|██████████| 783/783 [00:00<00:00, 121806.25it/s]\n",
      "assigning edge lengths: 100%|██████████| 117/117 [00:00<00:00, 96128.03it/s]\n",
      "assigning edge lengths: 100%|██████████| 1167/1167 [00:00<00:00, 144443.38it/s]"
     ]
    },
    {
     "name": "stdout",
     "output_type": "stream",
     "text": [
      "\n"
     ]
    },
    {
     "name": "stderr",
     "output_type": "stream",
     "text": [
      "\n"
     ]
    }
   ],
   "source": [
    "labels = []\n",
    "tree_fps = []\n",
    "lg_to_tree = {}\n",
    "i = 0\n",
    "for tree_dir in tqdm_notebook(os.listdir(\"/data/yosef2/users/mattjones/projects/metastasis/JQ19/5k/trees\")):\n",
    "    tree_dir = \"/data/yosef2/users/mattjones/projects/metastasis/JQ19/5k/trees/\" + tree_dir + \"/\"\n",
    "    if not os.path.isdir(tree_dir):\n",
    "        continue\n",
    "    \n",
    "    lg = tree_dir.split(\"/\")[-2][2:]\n",
    "    fps = [fp for fp in os.listdir(tree_dir) if \".processed.pkl\" in fp and 'nj' not in fp]\n",
    "    cmfp = [fp for fp in os.listdir(tree_dir) if \"_character_matrix.txt\" in fp]\n",
    "    if len(fps) > 0:\n",
    "#             tree = nx.read_gpickle(tree_dir + fps[0]).get_network()\n",
    "#             for e in tree.edges():\n",
    "#                 print(e[0].get_mut_length(e[1]))\n",
    "            try:\n",
    "                tree = nx.read_gpickle(tree_dir + fps[0]).get_network()\n",
    "                lg_to_tree[int(lg)] = tree_val.assign_edge_lengths(tree)\n",
    "                tree_fps.append(tree_dir + fps[0])\n",
    "                cmfp = tree_dir + cmfp[0]\n",
    "                labels.append(int(lg))\n",
    "                cm = pd.read_csv(cmfp, sep='\\t', index_col = 0, dtype=str)\n",
    "            except:\n",
    "                i += 1"
   ]
  },
  {
   "cell_type": "code",
   "execution_count": 18,
   "metadata": {},
   "outputs": [
    {
     "name": "stderr",
     "output_type": "stream",
     "text": [
      "Creating pairs to compare: 100%|██████████| 1114/1114 [00:01<00:00, 881.88it/s]\n"
     ]
    },
    {
     "name": "stdout",
     "output_type": "stream",
     "text": [
      "Finding LCAs for all pairs...\n",
      "Computing pairwise distances...\n",
      "[0.18421053 0.23684211 0.21052632 ... 0.39473684 0.18421053 0.21052632]\n"
     ]
    },
    {
     "data": {
      "image/png": "[encoded data removed]",
      "text/plain": [
       "<Figure size 432x288 with 1 Axes>"
      ]
     },
     "metadata": {
      "needs_background": "light"
     },
     "output_type": "display_data"
    }
   ],
   "source": [
    "tree_dists, edit_dists, all_pairs, diam, n_targets = tree_val.compute_pairwise_dist_nx(lg_to_tree[5])\n",
    "print(tree_dists)\n",
    "hist = plt.hist2d(tree_dists,edit_dists, cmap=cc.cm.CET_L19)\n",
    "xlab = plt.xlabel(\"Phylogenetic Distance\")\n",
    "ylab = plt.ylabel(\"Allele Distance\")\n",
    "\n",
    "\n",
    "plt.show()"
   ]
  },
  {
   "cell_type": "code",
   "execution_count": null,
   "metadata": {},
   "outputs": [],
   "source": [
    "all_tree_dists = []\n",
    "all_edit_dists = []\n",
    "\n",
    "max_diam, max_targets = 0,0\n",
    "for tree in tqdm_notebook(lg_to_tree.values()):\n",
    "    \n",
    "    tree_dists, edit_dists,all_pairs,diam,n_targets = tree_val.compute_pairwise_dist_nx(tree)\n",
    "    #tree_dists /= (n_targets)**2\n",
    "    #edit_dists /= (n_targets)**2\n",
    "    \n",
    "    all_tree_dists += list(tree_dists)\n",
    "    all_edit_dists += list(edit_dists)\n",
    "    \n",
    "    max_diam = max(max_diam, diam)\n",
    "    max_targets = max(max_targets, n_targets)\n",
    "\n"
   ]
  },
  {
   "cell_type": "code",
   "execution_count": null,
   "metadata": {},
   "outputs": [],
   "source": [
    "tree_val.dist_plotter(all_tree_dists, all_edit_dists, '2D-Hist', diam=20, n_targets = 20, out_fp = 'all_phy_vs_edit.pdf')"
   ]
  },
  {
   "cell_type": "code",
   "execution_count": null,
   "metadata": {},
   "outputs": [],
   "source": [
    "intra_dists = []\n",
    "intra_edit_dists = []\n",
    "\n",
    "max_diam, max_targets = 0,0\n",
    "for n in tqdm_notebook(lg_to_tree.keys()):\n",
    "    \n",
    "    tree = lg_to_tree[n]\n",
    "    if n in [1,2,3]:\n",
    "        continue\n",
    "        \n",
    "    tree_dists, edit_dists,all_pairs,diam,n_targets = tree_val.compute_pairwise_dist_nx(tree, compare_method = \"intra\", meta_item = meta['sampleID'])\n",
    "    #tree_dists /= (n_targets)**2\n",
    "    #edit_dists /= (n_targets)**2\n",
    "    \n",
    "    intra_dists += list(tree_dists)\n",
    "    intra_edit_dists += list(edit_dists)\n",
    "    \n",
    "    max_diam = max(max_diam, diam)\n",
    "    max_targets = max(max_targets, n_targets)"
   ]
  },
  {
   "cell_type": "code",
   "execution_count": null,
   "metadata": {},
   "outputs": [],
   "source": [
    "tree_val.dist_plotter(intra_dists, intra_edit_dists, '2D-Hist', diam=20, n_targets = 20, out_fp = 'intra_phy_vs_edit.pdf')"
   ]
  },
  {
   "cell_type": "code",
   "execution_count": null,
   "metadata": {},
   "outputs": [],
   "source": []
  }
 ],
 "metadata": {
  "kernelspec": {
   "display_name": "Python 3",
   "language": "python",
   "name": "python3"
  },
  "language_info": {
   "codemirror_mode": {
    "name": "ipython",
    "version": 3
   },
   "file_extension": ".py",
   "mimetype": "text/x-python",
   "name": "python",
   "nbconvert_exporter": "python",
   "pygments_lexer": "ipython3",
   "version": "3.6.8"
  }
 },
 "nbformat": 4,
 "nbformat_minor": 4
}
