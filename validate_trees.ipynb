{
 "cells": [
  {
   "cell_type": "code",
   "execution_count": 32,
   "metadata": {},
   "outputs": [],
   "source": [
    "import networkx as nx\n",
    "import numpy as np\n",
    "import pandas as pd \n",
    "\n",
    "from ete3 import Tree\n",
    "import utilities.validate_trees as tree_val\n",
    "\n",
    "import sys\n",
    "import os\n",
    "\n",
    "from tqdm import tqdm_notebook\n",
    "\n",
    "import seaborn as sns\n",
    "import colorcet as cc\n",
    "import matplotlib.pyplot as plt\n",
    "import matplotlib as mpl\n",
    "\n",
    "import cassiopeia.TreeSolver.compute_meta_purity as cmp \n",
    "from cassiopeia.TreeSolver.Node import Node\n",
    "\n",
    "from tqdm import tqdm\n",
    "\n",
    "import scanpy as sc\n",
    "\n",
    "import seaborn as sns\n",
    "sns.set_context(\"talk\")\n",
    "sns.set_style(\"whitegrid\")"
   ]
  },
  {
   "cell_type": "code",
   "execution_count": 2,
   "metadata": {},
   "outputs": [
    {
     "name": "stderr",
     "output_type": "stream",
     "text": [
      "Variable names are not unique. To make them unique, call `.var_names_make_unique`.\n"
     ]
    },
    {
     "data": {
      "text/plain": [
       "((43423, 33694), (43423, 10), (40969, 8))"
      ]
     },
     "execution_count": 2,
     "metadata": {},
     "output_type": "execute_result"
    }
   ],
   "source": [
    "path = \"/data/yosef2/users/mattjones/projects/metastasis/JQ19/5k/RNA/ALL_Samples/GRCh38/\"\n",
    "# path = '/data/yosef2/users/mattjones/projects/metastasis/100k/RNA/hg19/'\n",
    "adata = sc.read(path + \"matrix.mtx\", cache=True).T\n",
    "genes = pd.read_csv(path + \"genes.tsv\", header=None, sep='\\t')\n",
    "adata.var_names = genes[1]\n",
    "adata.var['gene_ids'] = genes[0]  # add the gene ids as annotation of the variables/genes\n",
    "adata.obs_names = pd.read_csv(path + 'barcodes.tsv', header=None)[0]\n",
    "adata.var_names_make_unique()\n",
    "\n",
    "all_genes = adata.var_names\n",
    "\n",
    "meta = pd.read_csv(\"/data/yosef2/users/mattjones/projects/metastasis/JQ19/5k/RNA/LG_meta.txt\", sep='\\t', index_col=0)\n",
    "latent = pd.read_csv(\"/data/yosef2/users/mattjones/projects/metastasis/JQ19/5k/RNA/ALL_Samples/latent.csv\", sep='\\t', index_col = 0)\n",
    "#meta = pd.read_csv(\"/data/yosef2/users/mattjones/projects/metastasis/100k/100k_meta.txt\", sep='\\t', index_col = 0)\n",
    "#latent = pd.read_csv(\"/data/yosef2/users/mattjones/projects/metastasis/100k/RNA/latent.csv\", sep='\\t', index_col = 0)\n",
    "latent.index = adata.obs_names\n",
    "\n",
    "gene_list = pd.read_csv(\"/data/yosef2/users/mattjones/projects/metastasis/JQ19/5k/RNA/ALL_Samples/filtered_genes.txt\", sep='\\t', header=None).iloc[:,0].values\n",
    "#gene_list = pd.read_csv(\"/data/yosef2/users/mattjones/projects/metastasis/100k/RNA/filtered_genes.txt\", sep='\\t', header=None).iloc[:,0].values\n",
    "adata.shape, latent.shape, meta.shape "
   ]
  },
  {
   "cell_type": "code",
   "execution_count": 6,
   "metadata": {},
   "outputs": [],
   "source": [
    "mito_genes = [name for name in adata.var_names if name.startswith('MT-')]\n",
    "adata.obs['percent_mito'] = np.sum(adata[:,mito_genes].X, axis=1).A1 / np.sum(adata.X, axis=1).A1\n",
    "adata.obs['nUMI'] = adata.X.sum(axis=1).A1\n",
    "adata.obs['n_genes'] = np.sum(adata.X > 0, axis=1).A1\n",
    "\n",
    "adata.obs = adata.obs.merge(meta, left_index = True, right_index=True, how=\"left\")"
   ]
  },
  {
   "cell_type": "code",
   "execution_count": 7,
   "metadata": {},
   "outputs": [],
   "source": [
    "meta_filter = np.logical_not(adata.obs[\"DynamicMetScore\"].isna())\n",
    "adata = adata[meta_filter, :]\n",
    "\n",
    "latent = latent.loc[adata.obs_names]"
   ]
  },
  {
   "cell_type": "code",
   "execution_count": null,
   "metadata": {},
   "outputs": [],
   "source": [
    "scale_factor = np.median(np.array(adata.X.sum(axis=1)))\n",
    "sc.pp.normalize_per_cell(adata, counts_per_cell_after = scale_factor)"
   ]
  },
  {
   "cell_type": "code",
   "execution_count": null,
   "metadata": {},
   "outputs": [],
   "source": [
    "adata = adata[adata.obs.percent_mito < 0.05, :]"
   ]
  },
  {
   "cell_type": "code",
   "execution_count": null,
   "metadata": {},
   "outputs": [],
   "source": [
    "filter_result = list(map(lambda x: x in gene_list, adata.var_names))\n",
    "# sc.pl.filter_genes_dispersion(filter_result)\n",
    "adata = adata[:, filter_result]"
   ]
  },
  {
   "cell_type": "code",
   "execution_count": null,
   "metadata": {},
   "outputs": [],
   "source": [
    "sc.tl.pca(adata, n_comps=30)"
   ]
  },
  {
   "cell_type": "markdown",
   "metadata": {},
   "source": [
    "# Read in trees"
   ]
  },
  {
   "cell_type": "code",
   "execution_count": 3,
   "metadata": {},
   "outputs": [
    {
     "name": "stderr",
     "output_type": "stream",
     "text": [
      "100%|██████████| 113/113 [00:03<00:00, 33.58it/s]\n"
     ]
    }
   ],
   "source": [
    "def assign_edge_lengths(tree):\n",
    "\n",
    "    for e in tree.edges():\n",
    "\n",
    "        tree[e[0]][e[1]]['length'] = e[0].get_mut_length(e[1])\n",
    "    return tree\n",
    "\n",
    "labels = []\n",
    "tree_fps = []\n",
    "lg_to_tree = {}\n",
    "i = 0\n",
    "for tree_dir in tqdm(os.listdir(\"/data/yosef2/users/mattjones/projects/metastasis/JQ19/5k/trees\")):\n",
    "    tree_dir = \"/data/yosef2/users/mattjones/projects/metastasis/JQ19/5k/trees/\" + tree_dir + \"/\"\n",
    "    if not os.path.isdir(tree_dir):\n",
    "        continue\n",
    "    \n",
    "    lg = tree_dir.split(\"/\")[-2][2:]\n",
    "    fps = [fp for fp in os.listdir(tree_dir) if \".processed.pkl\" in fp and 'nj' not in fp]\n",
    "    cmfp = [fp for fp in os.listdir(tree_dir) if \"_character_matrix.txt\" in fp]\n",
    "    if len(fps) > 0:\n",
    "#             tree = nx.read_gpickle(tree_dir + fps[0]).get_network()\n",
    "#             for e in tree.edges():\n",
    "#                 print(e[0].get_mut_length(e[1]))\n",
    "            try:\n",
    "                tree = nx.read_gpickle(tree_dir + fps[0]).get_network()\n",
    "                lg_to_tree[int(lg)] = assign_edge_lengths(tree)\n",
    "                tree_fps.append(tree_dir + fps[0])\n",
    "                cmfp = tree_dir + cmfp[0]\n",
    "                labels.append(int(lg))\n",
    "                cm = pd.read_csv(cmfp, sep='\\t', index_col = 0, dtype=str)\n",
    "            except:\n",
    "                i += 1"
   ]
  },
  {
   "cell_type": "code",
   "execution_count": 4,
   "metadata": {},
   "outputs": [
    {
     "name": "stdout",
     "output_type": "stream",
     "text": [
      "number of cells:  5616\n",
      "number of unique cells 5560\n",
      "avg tree depth 15.544159544159545\n"
     ]
    }
   ],
   "source": [
    "cm = pd.read_csv(\"/data/yosef2/users/mattjones/projects/metastasis/JQ19/5k/trees/lg3/lg3_character_matrix.txt\", sep='\\t', index_col = 0)\n",
    "print('number of cells: ', cm.shape[0])\n",
    "print('number of unique cells', cm.drop_duplicates().shape[0])\n",
    "\n",
    "lg3 = lg_to_tree[3]\n",
    "root = [n for n in lg3 if lg3.in_degree(n) == 0][0]\n",
    "lg3 = cmp.set_depth(lg3, root)\n",
    "\n",
    "tree_depths = [lg3.nodes[n]['depth'] for n in lg3 if lg3.out_degree(n) == 0]\n",
    "print('avg tree depth', np.mean(tree_depths))\n"
   ]
  },
  {
   "cell_type": "code",
   "execution_count": 19,
   "metadata": {},
   "outputs": [
    {
     "name": "stderr",
     "output_type": "stream",
     "text": [
      "Creating pairs to compare: 100%|██████████| 305/305 [00:00<00:00, 10408.89it/s]\n"
     ]
    },
    {
     "name": "stdout",
     "output_type": "stream",
     "text": [
      "Finding LCAs for all pairs...\n",
      "Computing pairwise distances...\n"
     ]
    },
    {
     "data": {
      "image/png": "[encoded data removed]",
      "text/plain": [
       "<Figure size 432x432 with 1 Axes>"
      ]
     },
     "metadata": {
      "needs_background": "light"
     },
     "output_type": "display_data"
    }
   ],
   "source": [
    "tree = lg_to_tree[19]\n",
    "subset = [n for n in tree if tree.out_degree(n) == 0 if n.name in adata.obs.index.values]\n",
    "_leaves = [n.name for n in subset]\n",
    "\n",
    "tree_dists, edit_dists, all_pairs, diam, n_targets = tree_val.compute_pairwise_dist_nx(tree, subset=subset)\n",
    "tree_val.dist_plotter(tree_dists, edit_dists/(2*n_targets), '2D-Hist', diam=diam, n_targets = n_targets)"
   ]
  },
  {
   "cell_type": "markdown",
   "metadata": {},
   "source": [
    "## Compare distances between CNV-resolved and TargetSite-resolved trees"
   ]
  },
  {
   "cell_type": "code",
   "execution_count": 36,
   "metadata": {},
   "outputs": [
    {
     "ename": "NewickError",
     "evalue": "Unexisting tree file or Malformed newick tree structure.\nYou may want to check other newick loading flags like 'format' or 'quoted_node_names'.",
     "output_type": "error",
     "traceback": [
      "\u001b[0;31m---------------------------------------------------------------------------\u001b[0m",
      "\u001b[0;31mNewickError\u001b[0m                               Traceback (most recent call last)",
      "\u001b[0;32m<ipython-input-36-53f04fffe06e>\u001b[0m in \u001b[0;36m<module>\u001b[0;34m\u001b[0m\n\u001b[1;32m      1\u001b[0m \u001b[0;31m# cas_tree = Tree(\"/home/mattjones/projects/kptc/trees/3726_NT_T1/3726_NT_T1_tree.nwk\", format=1)\u001b[0m\u001b[0;34m\u001b[0m\u001b[0;34m\u001b[0m\u001b[0;34m\u001b[0m\u001b[0m\n\u001b[0;32m----> 2\u001b[0;31m \u001b[0mcnv_tree\u001b[0m \u001b[0;34m=\u001b[0m \u001b[0mTree\u001b[0m\u001b[0;34m(\u001b[0m\u001b[0;34m\"/home/mattjones/projects/kptc/CNV_analysis/3726_NT_T1/infercnv.21_denoised.observations_dendrogram.txt\"\u001b[0m\u001b[0;34m,\u001b[0m \u001b[0mformat\u001b[0m\u001b[0;34m=\u001b[0m\u001b[0;36m1\u001b[0m\u001b[0;34m)\u001b[0m\u001b[0;34m\u001b[0m\u001b[0;34m\u001b[0m\u001b[0m\n\u001b[0m",
      "\u001b[0;32m~/.local/lib/python3.6/site-packages/ete3/coretype/tree.py\u001b[0m in \u001b[0;36m__init__\u001b[0;34m(self, newick, format, dist, support, name, quoted_node_names)\u001b[0m\n\u001b[1;32m    209\u001b[0m             \u001b[0mself\u001b[0m\u001b[0;34m.\u001b[0m\u001b[0m_dist\u001b[0m \u001b[0;34m=\u001b[0m \u001b[0;36m0.0\u001b[0m\u001b[0;34m\u001b[0m\u001b[0;34m\u001b[0m\u001b[0m\n\u001b[1;32m    210\u001b[0m             read_newick(newick, root_node = self, format=format,\n\u001b[0;32m--> 211\u001b[0;31m                         quoted_names=quoted_node_names)\n\u001b[0m\u001b[1;32m    212\u001b[0m \u001b[0;34m\u001b[0m\u001b[0m\n\u001b[1;32m    213\u001b[0m \u001b[0;34m\u001b[0m\u001b[0m\n",
      "\u001b[0;32m~/.local/lib/python3.6/site-packages/ete3/parser/newick.py\u001b[0m in \u001b[0;36mread_newick\u001b[0;34m(newick, root_node, format, quoted_names)\u001b[0m\n\u001b[1;32m    247\u001b[0m             \u001b[0;32mreturn\u001b[0m \u001b[0m_read_newick_from_string\u001b[0m\u001b[0;34m(\u001b[0m\u001b[0mnw\u001b[0m\u001b[0;34m,\u001b[0m \u001b[0mroot_node\u001b[0m\u001b[0;34m,\u001b[0m \u001b[0mmatcher\u001b[0m\u001b[0;34m,\u001b[0m \u001b[0mformat\u001b[0m\u001b[0;34m,\u001b[0m \u001b[0mquoted_names\u001b[0m\u001b[0;34m)\u001b[0m\u001b[0;34m\u001b[0m\u001b[0;34m\u001b[0m\u001b[0m\n\u001b[1;32m    248\u001b[0m         \u001b[0;32melif\u001b[0m \u001b[0;32mnot\u001b[0m \u001b[0mnw\u001b[0m\u001b[0;34m.\u001b[0m\u001b[0mstartswith\u001b[0m\u001b[0;34m(\u001b[0m\u001b[0;34m'('\u001b[0m\u001b[0;34m)\u001b[0m \u001b[0;32mor\u001b[0m \u001b[0;32mnot\u001b[0m \u001b[0mnw\u001b[0m\u001b[0;34m.\u001b[0m\u001b[0mendswith\u001b[0m\u001b[0;34m(\u001b[0m\u001b[0;34m';'\u001b[0m\u001b[0;34m)\u001b[0m\u001b[0;34m:\u001b[0m\u001b[0;34m\u001b[0m\u001b[0;34m\u001b[0m\u001b[0m\n\u001b[0;32m--> 249\u001b[0;31m             \u001b[0;32mraise\u001b[0m \u001b[0mNewickError\u001b[0m\u001b[0;34m(\u001b[0m\u001b[0;34m'Unexisting tree file or Malformed newick tree structure.'\u001b[0m\u001b[0;34m)\u001b[0m\u001b[0;34m\u001b[0m\u001b[0;34m\u001b[0m\u001b[0m\n\u001b[0m\u001b[1;32m    250\u001b[0m         \u001b[0;32melse\u001b[0m\u001b[0;34m:\u001b[0m\u001b[0;34m\u001b[0m\u001b[0;34m\u001b[0m\u001b[0m\n\u001b[1;32m    251\u001b[0m             \u001b[0;32mreturn\u001b[0m \u001b[0m_read_newick_from_string\u001b[0m\u001b[0;34m(\u001b[0m\u001b[0mnw\u001b[0m\u001b[0;34m,\u001b[0m \u001b[0mroot_node\u001b[0m\u001b[0;34m,\u001b[0m \u001b[0mmatcher\u001b[0m\u001b[0;34m,\u001b[0m \u001b[0mformat\u001b[0m\u001b[0;34m,\u001b[0m \u001b[0mquoted_names\u001b[0m\u001b[0;34m)\u001b[0m\u001b[0;34m\u001b[0m\u001b[0;34m\u001b[0m\u001b[0m\n",
      "\u001b[0;31mNewickError\u001b[0m: Unexisting tree file or Malformed newick tree structure.\nYou may want to check other newick loading flags like 'format' or 'quoted_node_names'."
     ]
    }
   ],
   "source": []
  },
  {
   "cell_type": "code",
   "execution_count": null,
   "metadata": {},
   "outputs": [],
   "source": []
  }
 ],
 "metadata": {
  "kernelspec": {
   "display_name": "Python 3",
   "language": "python",
   "name": "python3"
  },
  "language_info": {
   "codemirror_mode": {
    "name": "ipython",
    "version": 3
   },
   "file_extension": ".py",
   "mimetype": "text/x-python",
   "name": "python",
   "nbconvert_exporter": "python",
   "pygments_lexer": "ipython3",
   "version": "3.6.8"
  }
 },
 "nbformat": 4,
 "nbformat_minor": 4
}
