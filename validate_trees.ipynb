{
 "cells": [
  {
   "cell_type": "code",
   "execution_count": 14,
   "metadata": {},
   "outputs": [],
   "source": [
    "import networkx as nx\n",
    "import numpy as np\n",
    "import pandas as pd \n",
    "\n",
    "from ete3 import Tree\n",
    "import utilities.validate_trees as tree_val\n",
    "\n",
    "import sys\n",
    "import os\n",
    "\n",
    "from tqdm import tqdm_notebook\n",
    "\n",
    "import seaborn as sns\n",
    "import colorcet as cc\n",
    "import matplotlib.pyplot as plt\n",
    "\n",
    "import cassiopeia.TreeSolver.compute_meta_purity as cmp \n",
    "\n",
    "import seaborn as sns\n",
    "sns.set_context(\"talk\")\n",
    "sns.set_style(\"whitegrid\")"
   ]
  },
  {
   "cell_type": "code",
   "execution_count": 3,
   "metadata": {},
   "outputs": [],
   "source": [
    "meta = pd.read_csv(\"../JQ19/5k/RNA/LG_meta.txt\", sep='\\t', index_col = 0)"
   ]
  },
  {
   "cell_type": "code",
   "execution_count": 8,
   "metadata": {},
   "outputs": [
    {
     "data": {
      "application/vnd.jupyter.widget-view+json": {
       "model_id": "6b33015f125848e18fe7bac20d1c53f3",
       "version_major": 2,
       "version_minor": 0
      },
      "text/plain": [
       "HBox(children=(IntProgress(value=0, max=113), HTML(value='')))"
      ]
     },
     "metadata": {},
     "output_type": "display_data"
    },
    {
     "name": "stderr",
     "output_type": "stream",
     "text": [
      "assigning edge lengths: 100%|██████████| 190/190 [00:00<00:00, 95760.37it/s]\n",
      "assigning edge lengths: 100%|██████████| 893/893 [00:00<00:00, 117753.82it/s]\n",
      "assigning edge lengths: 100%|██████████| 796/796 [00:00<00:00, 90586.77it/s]\n",
      "assigning edge lengths: 100%|██████████| 73/73 [00:00<00:00, 57134.58it/s]\n",
      "assigning edge lengths: 100%|██████████| 1660/1660 [00:00<00:00, 93062.24it/s]\n",
      "assigning edge lengths: 100%|██████████| 90/90 [00:00<00:00, 85617.46it/s]\n",
      "assigning edge lengths: 100%|██████████| 2478/2478 [00:00<00:00, 105112.11it/s]\n",
      "assigning edge lengths: 100%|██████████| 230/230 [00:00<00:00, 106950.10it/s]\n",
      "assigning edge lengths: 100%|██████████| 319/319 [00:00<00:00, 119644.37it/s]\n",
      "assigning edge lengths: 100%|██████████| 172/172 [00:00<00:00, 108158.96it/s]\n",
      "assigning edge lengths: 100%|██████████| 108/108 [00:00<00:00, 92919.97it/s]\n",
      "assigning edge lengths: 100%|██████████| 202/202 [00:00<00:00, 77402.65it/s]\n",
      "assigning edge lengths: 100%|██████████| 98/98 [00:00<00:00, 91464.57it/s]\n",
      "assigning edge lengths: 100%|██████████| 219/219 [00:00<00:00, 80865.62it/s]\n",
      "assigning edge lengths: 100%|██████████| 95/95 [00:00<00:00, 90600.02it/s]\n",
      "assigning edge lengths: 100%|██████████| 391/391 [00:00<00:00, 98876.94it/s]\n",
      "assigning edge lengths: 100%|██████████| 415/415 [00:00<00:00, 96109.33it/s]\n",
      "assigning edge lengths: 100%|██████████| 325/325 [00:00<00:00, 110825.11it/s]\n",
      "assigning edge lengths: 100%|██████████| 26548/26548 [00:00<00:00, 139247.51it/s]\n",
      "assigning edge lengths: 100%|██████████| 84/84 [00:00<00:00, 100749.65it/s]\n",
      "assigning edge lengths: 100%|██████████| 187/187 [00:00<00:00, 93529.08it/s]\n",
      "assigning edge lengths: 100%|██████████| 188/188 [00:00<00:00, 107973.32it/s]\n",
      "assigning edge lengths: 100%|██████████| 1782/1782 [00:00<00:00, 101898.43it/s]\n",
      "assigning edge lengths: 100%|██████████| 597/597 [00:00<00:00, 108215.54it/s]\n",
      "assigning edge lengths: 100%|██████████| 190/190 [00:00<00:00, 112352.71it/s]\n",
      "assigning edge lengths: 100%|██████████| 798/798 [00:00<00:00, 130164.68it/s]\n",
      "assigning edge lengths: 100%|██████████| 291/291 [00:00<00:00, 105328.14it/s]\n",
      "assigning edge lengths: 100%|██████████| 551/551 [00:00<00:00, 120688.37it/s]\n",
      "assigning edge lengths: 100%|██████████| 129/129 [00:00<00:00, 92190.36it/s]\n",
      "assigning edge lengths: 100%|██████████| 1972/1972 [00:00<00:00, 94865.89it/s]\n",
      "assigning edge lengths: 100%|██████████| 65/65 [00:00<00:00, 67784.62it/s]\n",
      "assigning edge lengths: 100%|██████████| 141/141 [00:00<00:00, 92521.41it/s]\n",
      "assigning edge lengths: 100%|██████████| 509/509 [00:00<00:00, 136791.23it/s]\n",
      "assigning edge lengths: 100%|██████████| 455/455 [00:00<00:00, 103476.02it/s]\n",
      "assigning edge lengths: 100%|██████████| 2939/2939 [00:00<00:00, 112677.76it/s]\n",
      "assigning edge lengths: 100%|██████████| 113/113 [00:00<00:00, 67438.30it/s]\n",
      "assigning edge lengths: 100%|██████████| 111/111 [00:00<00:00, 113029.31it/s]\n",
      "assigning edge lengths: 100%|██████████| 115/115 [00:00<00:00, 96295.66it/s]\n",
      "assigning edge lengths: 100%|██████████| 112/112 [00:00<00:00, 91858.05it/s]\n",
      "assigning edge lengths: 100%|██████████| 163/163 [00:00<00:00, 90768.93it/s]\n",
      "assigning edge lengths: 100%|██████████| 29727/29727 [00:00<00:00, 103180.62it/s]\n",
      "assigning edge lengths: 100%|██████████| 1911/1911 [00:00<00:00, 145711.80it/s]\n",
      "assigning edge lengths: 100%|██████████| 114/114 [00:00<00:00, 88710.70it/s]\n",
      "assigning edge lengths: 100%|██████████| 314/314 [00:00<00:00, 120307.98it/s]\n",
      "assigning edge lengths: 100%|██████████| 249/249 [00:00<00:00, 143814.61it/s]\n",
      "assigning edge lengths: 100%|██████████| 892/892 [00:00<00:00, 145186.82it/s]\n",
      "assigning edge lengths: 100%|██████████| 214/214 [00:00<00:00, 118539.49it/s]\n",
      "assigning edge lengths: 100%|██████████| 136/136 [00:00<00:00, 89689.52it/s]\n",
      "assigning edge lengths: 100%|██████████| 84/84 [00:00<00:00, 84794.59it/s]\n",
      "assigning edge lengths: 100%|██████████| 656/656 [00:00<00:00, 107286.26it/s]\n",
      "assigning edge lengths: 100%|██████████| 158/158 [00:00<00:00, 113573.27it/s]\n",
      "assigning edge lengths: 100%|██████████| 1803/1803 [00:00<00:00, 101119.60it/s]\n",
      "assigning edge lengths: 100%|██████████| 179/179 [00:00<00:00, 102286.16it/s]\n",
      "assigning edge lengths: 100%|██████████| 102/102 [00:00<00:00, 76382.61it/s]\n",
      "assigning edge lengths: 100%|██████████| 140/140 [00:00<00:00, 101644.90it/s]\n",
      "assigning edge lengths: 100%|██████████| 255/255 [00:00<00:00, 100502.49it/s]\n",
      "assigning edge lengths: 100%|██████████| 381/381 [00:00<00:00, 145752.45it/s]\n",
      "assigning edge lengths: 100%|██████████| 89/89 [00:00<00:00, 91763.29it/s]\n",
      "assigning edge lengths: 100%|██████████| 158/158 [00:00<00:00, 107546.26it/s]\n",
      "assigning edge lengths: 100%|██████████| 114/114 [00:00<00:00, 104536.65it/s]\n",
      "assigning edge lengths: 100%|██████████| 374/374 [00:00<00:00, 97560.15it/s]\n",
      "assigning edge lengths: 100%|██████████| 389/389 [00:00<00:00, 122078.88it/s]\n",
      "assigning edge lengths: 100%|██████████| 2246/2246 [00:00<00:00, 101978.94it/s]\n",
      "assigning edge lengths: 100%|██████████| 246/246 [00:00<00:00, 108030.45it/s]\n",
      "assigning edge lengths: 100%|██████████| 555/555 [00:00<00:00, 114592.83it/s]\n",
      "assigning edge lengths: 100%|██████████| 350/350 [00:00<00:00, 72508.47it/s]\n",
      "assigning edge lengths: 100%|██████████| 61/61 [00:00<00:00, 85512.21it/s]\n",
      "assigning edge lengths: 100%|██████████| 79/79 [00:00<00:00, 100591.99it/s]\n",
      "assigning edge lengths: 100%|██████████| 141/141 [00:00<00:00, 126502.00it/s]\n",
      "assigning edge lengths: 100%|██████████| 857/857 [00:00<00:00, 116993.83it/s]\n",
      "assigning edge lengths: 100%|██████████| 200/200 [00:00<00:00, 104038.30it/s]\n",
      "assigning edge lengths: 100%|██████████| 200/200 [00:00<00:00, 92497.61it/s]\n",
      "assigning edge lengths: 100%|██████████| 1888/1888 [00:00<00:00, 122300.67it/s]\n",
      "assigning edge lengths: 100%|██████████| 982/982 [00:00<00:00, 118526.81it/s]\n",
      "assigning edge lengths: 100%|██████████| 106/106 [00:00<00:00, 92720.80it/s]\n",
      "assigning edge lengths: 100%|██████████| 115/115 [00:00<00:00, 98097.41it/s]\n",
      "assigning edge lengths: 100%|██████████| 204/204 [00:00<00:00, 100769.99it/s]\n",
      "assigning edge lengths: 100%|██████████| 1213/1213 [00:00<00:00, 130096.68it/s]\n",
      "assigning edge lengths: 100%|██████████| 127/127 [00:00<00:00, 96692.07it/s]\n",
      "assigning edge lengths: 100%|██████████| 288/288 [00:00<00:00, 160590.21it/s]\n",
      "assigning edge lengths: 100%|██████████| 215/215 [00:00<00:00, 109359.13it/s]\n",
      "assigning edge lengths: 100%|██████████| 127/127 [00:00<00:00, 113118.84it/s]\n",
      "assigning edge lengths: 100%|██████████| 97/97 [00:00<00:00, 104695.70it/s]\n",
      "assigning edge lengths: 100%|██████████| 90/90 [00:00<00:00, 78414.49it/s]\n",
      "assigning edge lengths: 100%|██████████| 1795/1795 [00:00<00:00, 134195.60it/s]\n",
      "assigning edge lengths: 100%|██████████| 21775/21775 [00:00<00:00, 90655.95it/s]\n",
      "assigning edge lengths: 100%|██████████| 573/573 [00:00<00:00, 91555.66it/s]\n",
      "assigning edge lengths: 100%|██████████| 186/186 [00:00<00:00, 143831.22it/s]\n",
      "assigning edge lengths: 100%|██████████| 239/239 [00:00<00:00, 86573.85it/s]\n",
      "assigning edge lengths: 100%|██████████| 624/624 [00:00<00:00, 115868.85it/s]\n",
      "assigning edge lengths: 100%|██████████| 3028/3028 [00:00<00:00, 131648.07it/s]\n",
      "assigning edge lengths: 100%|██████████| 182/182 [00:00<00:00, 78608.11it/s]\n",
      "assigning edge lengths: 100%|██████████| 100/100 [00:00<00:00, 92142.00it/s]\n",
      "assigning edge lengths: 100%|██████████| 508/508 [00:00<00:00, 108135.73it/s]\n",
      "assigning edge lengths: 100%|██████████| 149/149 [00:00<00:00, 129362.72it/s]\n",
      "assigning edge lengths: 100%|██████████| 783/783 [00:00<00:00, 119484.10it/s]\n",
      "assigning edge lengths: 100%|██████████| 125/125 [00:00<00:00, 87047.65it/s]\n",
      "assigning edge lengths: 100%|██████████| 1167/1167 [00:00<00:00, 145042.60it/s]\n",
      "assigning edge lengths: 100%|██████████| 151/151 [00:00<00:00, 101610.77it/s]\n",
      "assigning edge lengths: 100%|██████████| 97/97 [00:00<00:00, 94439.99it/s]\n"
     ]
    },
    {
     "name": "stdout",
     "output_type": "stream",
     "text": [
      "\n"
     ]
    }
   ],
   "source": [
    "labels = []\n",
    "tree_fps = []\n",
    "lg_to_tree = {}\n",
    "i = 0\n",
    "for tree_dir in tqdm_notebook(os.listdir(\"/data/yosef2/users/mattjones/projects/metastasis/JQ19/5k/trees\")):\n",
    "    tree_dir = \"/data/yosef2/users/mattjones/projects/metastasis/JQ19/5k/trees/\" + tree_dir + \"/\"\n",
    "    if not os.path.isdir(tree_dir):\n",
    "        continue\n",
    "    \n",
    "    lg = tree_dir.split(\"/\")[-2][2:]\n",
    "    fps = [fp for fp in os.listdir(tree_dir) if \".processed.pkl\" in fp and 'nj' not in fp]\n",
    "    cmfp = [fp for fp in os.listdir(tree_dir) if \"_character_matrix.txt\" in fp]\n",
    "    if len(fps) > 0:\n",
    "#             tree = nx.read_gpickle(tree_dir + fps[0]).get_network()\n",
    "#             for e in tree.edges():\n",
    "#                 print(e[0].get_mut_length(e[1]))\n",
    "            try:\n",
    "                tree = nx.read_gpickle(tree_dir + fps[0]).get_network()\n",
    "                lg_to_tree[int(lg)] = tree_val.assign_edge_lengths(tree)\n",
    "                tree_fps.append(tree_dir + fps[0])\n",
    "                cmfp = tree_dir + cmfp[0]\n",
    "                labels.append(int(lg))\n",
    "                cm = pd.read_csv(cmfp, sep='\\t', index_col = 0, dtype=str)\n",
    "            except:\n",
    "                i += 1"
   ]
  },
  {
   "cell_type": "code",
   "execution_count": 13,
   "metadata": {},
   "outputs": [
    {
     "name": "stdout",
     "output_type": "stream",
     "text": [
      "number of cells:  5616\n",
      "number of unique cells 5560\n",
      "avg tree depth 15.544159544159545\n"
     ]
    }
   ],
   "source": [
    "cm = pd.read_csv(\"/data/yosef2/users/mattjones/projects/metastasis/JQ19/5k/trees/lg3/lg3_character_matrix.txt\", sep='\\t', index_col = 0)\n",
    "print('number of cells: ', cm.shape[0])\n",
    "print('number of unique cells', cm.drop_duplicates().shape[0])\n",
    "\n",
    "lg3 = lg_to_tree[3]\n",
    "root = [n for n in lg3 if lg3.in_degree(n) == 0][0]\n",
    "lg3 = cmp.set_depth(lg3, root)\n",
    "\n",
    "tree_depths = [lg3.nodes[n]['depth'] for n in lg3 if lg3.out_degree(n) == 0]\n",
    "print('avg tree depth', np.mean(tree_depths))\n",
    "\n",
    "sns.dens"
   ]
  },
  {
   "cell_type": "code",
   "execution_count": null,
   "metadata": {},
   "outputs": [],
   "source": [
    "tree_dists, edit_dists, all_pairs, diam, n_targets = tree_val.compute_pairwise_dist_nx(lg_to_tree[19])\n",
    "print(tree_dists)\n",
    "hist = plt.hist2d(tree_dists,edit_dists, cmap=cc.cm.CET_L19)\n",
    "xlab = plt.xlabel(\"Phylogenetic Distance\")\n",
    "ylab = plt.ylabel(\"Allele Distance\")\n",
    "\n",
    "\n",
    "plt.show()"
   ]
  },
  {
   "cell_type": "code",
   "execution_count": null,
   "metadata": {},
   "outputs": [],
   "source": [
    "all_tree_dists = []\n",
    "all_edit_dists = []\n",
    "\n",
    "max_diam, max_targets = 0,0\n",
    "for tree in tqdm_notebook(lg_to_tree.values()):\n",
    "    \n",
    "    tree_dists, edit_dists,all_pairs,diam,n_targets = tree_val.compute_pairwise_dist_nx(tree)\n",
    "    #tree_dists /= (n_targets)**2\n",
    "    #edit_dists /= (n_targets)**2\n",
    "    \n",
    "    all_tree_dists += list(tree_dists)\n",
    "    all_edit_dists += list(edit_dists)\n",
    "    \n",
    "    max_diam = max(max_diam, diam)\n",
    "    max_targets = max(max_targets, n_targets)\n",
    "\n"
   ]
  },
  {
   "cell_type": "code",
   "execution_count": null,
   "metadata": {},
   "outputs": [],
   "source": [
    "tree_val.dist_plotter(all_tree_dists, all_edit_dists, '2D-Hist', diam=20, n_targets = 20, out_fp = 'all_phy_vs_edit.pdf')"
   ]
  },
  {
   "cell_type": "code",
   "execution_count": null,
   "metadata": {},
   "outputs": [],
   "source": [
    "intra_dists = []\n",
    "intra_edit_dists = []\n",
    "\n",
    "max_diam, max_targets = 0,0\n",
    "for n in tqdm_notebook(lg_to_tree.keys()):\n",
    "    \n",
    "    tree = lg_to_tree[n]\n",
    "    if n in [1,2,3]:\n",
    "        continue\n",
    "        \n",
    "    tree_dists, edit_dists,all_pairs,diam,n_targets = tree_val.compute_pairwise_dist_nx(tree, compare_method = \"intra\", meta_item = meta['sampleID'])\n",
    "    #tree_dists /= (n_targets)**2\n",
    "    #edit_dists /= (n_targets)**2\n",
    "    \n",
    "    intra_dists += list(tree_dists)\n",
    "    intra_edit_dists += list(edit_dists)\n",
    "    \n",
    "    max_diam = max(max_diam, diam)\n",
    "    max_targets = max(max_targets, n_targets)"
   ]
  },
  {
   "cell_type": "code",
   "execution_count": null,
   "metadata": {},
   "outputs": [],
   "source": [
    "tree_val.dist_plotter(intra_dists, intra_edit_dists, '2D-Hist', diam=20, n_targets = 20, out_fp = 'intra_phy_vs_edit.pdf')"
   ]
  },
  {
   "cell_type": "code",
   "execution_count": null,
   "metadata": {},
   "outputs": [],
   "source": []
  }
 ],
 "metadata": {
  "kernelspec": {
   "display_name": "Python 3",
   "language": "python",
   "name": "python3"
  },
  "language_info": {
   "codemirror_mode": {
    "name": "ipython",
    "version": 3
   },
   "file_extension": ".py",
   "mimetype": "text/x-python",
   "name": "python",
   "nbconvert_exporter": "python",
   "pygments_lexer": "ipython3",
   "version": "3.6.8"
  }
 },
 "nbformat": 4,
 "nbformat_minor": 4
}
